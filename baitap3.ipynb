{
  "nbformat": 4,
  "nbformat_minor": 0,
  "metadata": {
    "colab": {
      "name": "baitap3.ipynb",
      "provenance": [],
      "authorship_tag": "ABX9TyNt+yWia5wJLb5v6fdnsM2m",
      "include_colab_link": true
    },
    "kernelspec": {
      "name": "python3",
      "display_name": "Python 3"
    },
    "language_info": {
      "name": "python"
    }
  },
  "cells": [
    {
      "cell_type": "markdown",
      "metadata": {
        "id": "view-in-github",
        "colab_type": "text"
      },
      "source": [
        "<a href=\"https://colab.research.google.com/github/Thaitam/ThuchanhtoanCC/blob/main/baitap3.ipynb\" target=\"_parent\"><img src=\"https://colab.research.google.com/assets/colab-badge.svg\" alt=\"Open In Colab\"/></a>"
      ]
    },
    {
      "cell_type": "markdown",
      "source": [
        "#Bài tập 3\n",
        "\n",
        "> bài 1:\n",
        "\n"
      ],
      "metadata": {
        "id": "5q2DuuGYXGrR"
      }
    },
    {
      "cell_type": "code",
      "execution_count": 1,
      "metadata": {
        "colab": {
          "base_uri": "https://localhost:8080/",
          "height": 331
        },
        "id": "6hY3S9zcXBem",
        "outputId": "979e67c5-9d4d-4a35-c049-afb2f28a4c33"
      },
      "outputs": [
        {
          "name": "stdout",
          "output_type": "stream",
          "text": [
            "Nhập góc bay 45\n"
          ]
        },
        {
          "output_type": "display_data",
          "data": {
            "image/png": "[encoded data removed]",
            "text/plain": [
              "<Figure size 432x288 with 1 Axes>"
            ]
          },
          "metadata": {
            "needs_background": "light"
          }
        },
        {
          "output_type": "stream",
          "name": "stdout",
          "text": [
            "Hoàn thành chương trình! \n"
          ]
        }
      ],
      "source": [
        "from matplotlib import pyplot as plt \n",
        "import math \n",
        "\n",
        "def draw_graph(x,y):\n",
        "  plt.plot(x,y)\n",
        "  plt.xlabel('Trục X')\n",
        "  plt.ylabel('Trục Y')\n",
        "  plt.title('Đồ thị bài toán ném vật thể bay')\n",
        "\n",
        "def frange(batdau, ketthuc, buocnhay):\n",
        "  day_ketqua = []\n",
        "  while batdau < ketthuc:\n",
        "    day_ketqua.append(batdau)\n",
        "    batdau = batdau + buocnhay\n",
        "  return day_ketqua\n",
        "\n",
        "def draw_trajectory(u,theta):\n",
        "  g = 9.8\n",
        "  theta = math.radians(theta)\n",
        "  # Thời gian bay\n",
        "  t_flight = 2*u*math.sin(theta)/g\n",
        "  # tính toán khoảng cách thời gian\n",
        "  buoc_nhay = frange(0, t_flight, 0.0001)\n",
        "  x = []\n",
        "  y = []\n",
        "  for t in buoc_nhay:\n",
        "    x.append(u*math.cos(theta)*t)\n",
        "    y.append(u*math.sin(theta)*t - 0.5*g*t**2)\n",
        "  draw_graph(x,y)\n",
        "try:\n",
        "  u = 30\n",
        "  theta = float(input('Nhập góc bay '))\n",
        "except ValueError:\n",
        "  print('Nhập các giá trị sai! ')\n",
        "else:\n",
        "  draw_trajectory(u,theta)\n",
        "  plt.show()\n",
        "finally:\n",
        "  print('Hoàn thành chương trình! ')"
      ]
    },
    {
      "cell_type": "markdown",
      "source": [
        "\n",
        "\n",
        "> bài 2\n",
        "\n"
      ],
      "metadata": {
        "id": "pIdENDsvXe4Z"
      }
    },
    {
      "cell_type": "code",
      "source": [
        "from matplotlib import pyplot as plt \n",
        "import math \n",
        "\n",
        "def draw_graph(x,y):\n",
        "  plt.plot(x,y)\n",
        "  plt.xlabel('Trục X')\n",
        "  plt.ylabel('Trục Y')\n",
        "  plt.title('Đồ thị định luật hấp dẫn Newton giữa hai vật thể')\n",
        "\n",
        "def frange(batdau, ketthuc, buocnhay):\n",
        "  day_ketqua = []\n",
        "  while batdau < ketthuc:\n",
        "    day_ketqua.append(batdau)\n",
        "    batdau = batdau + buocnhay\n",
        "  return day_ketqua\n",
        "def draw_trajectory(r,F):\n",
        "  G = 6.674e-11\n",
        "  m1 = 0.5\n",
        "  m2 = 1.5\n",
        "  r = 100\n",
        "  buoc_nhay = frange(100, 1001, 50)\n",
        "  x = []\n",
        "  y = []\n",
        "  for t in buoc_nhay:\n",
        "    r = r + 50\n",
        "    x.append(r)\n",
        "    y.append(G*m1*m2/(r**2))\n",
        "  draw_graph(x,y)\n",
        "try:\n",
        "  r = 100\n",
        "  F = float(input('Nhập lực '))\n",
        "except ValueError:\n",
        "  print('Nhập các giá trị sai! ')\n",
        "else:\n",
        "  draw_trajectory(r,F)\n",
        "  plt.show()\n",
        "finally:\n",
        "  print('Hoàn thành chương trình! ')"
      ],
      "metadata": {
        "colab": {
          "base_uri": "https://localhost:8080/",
          "height": 331
        },
        "id": "qOtJI44kXgZ9",
        "outputId": "00ecd3ab-720d-445a-a94d-a5c6854f96eb"
      },
      "execution_count": 3,
      "outputs": [
        {
          "name": "stdout",
          "output_type": "stream",
          "text": [
            "Nhập lực 5e-15\n"
          ]
        },
        {
          "output_type": "display_data",
          "data": {
            "image/png": "[encoded data removed]",
            "text/plain": [
              "<Figure size 432x288 with 1 Axes>"
            ]
          },
          "metadata": {
            "needs_background": "light"
          }
        },
        {
          "output_type": "stream",
          "name": "stdout",
          "text": [
            "Hoàn thành chương trình! \n"
          ]
        }
      ]
    }
  ]
}
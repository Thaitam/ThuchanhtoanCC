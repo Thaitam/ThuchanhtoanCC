{
  "nbformat": 4,
  "nbformat_minor": 0,
  "metadata": {
    "colab": {
      "name": "16_2174802010677_Lê Trần Thái Tâm.ipynb",
      "provenance": [],
      "authorship_tag": "ABX9TyPlU/9ePQGyKYFfSExYBL7i",
      "include_colab_link": true
    },
    "kernelspec": {
      "name": "python3",
      "display_name": "Python 3"
    },
    "language_info": {
      "name": "python"
    }
  },
  "cells": [
    {
      "cell_type": "markdown",
      "metadata": {
        "id": "view-in-github",
        "colab_type": "text"
      },
      "source": [
        "<a href=\"https://colab.research.google.com/github/Thaitam/ThuchanhtoanCC/blob/main/16_2174802010677_L%C3%AA_Tr%E1%BA%A7n_Th%C3%A1i_T%C3%A2m_.ipynb\" target=\"_parent\"><img src=\"https://colab.research.google.com/assets/colab-badge.svg\" alt=\"Open In Colab\"/></a>"
      ]
    },
    {
      "cell_type": "markdown",
      "source": [
        "1. tính giới hạn\n",
        "\n"
      ],
      "metadata": {
        "id": "hsQyWtmZoNbE"
      }
    },
    {
      "cell_type": "code",
      "execution_count": null,
      "metadata": {
        "colab": {
          "base_uri": "https://localhost:8080/",
          "height": 68
        },
        "id": "M4VkjakBldZS",
        "outputId": "2b3db051-d4be-4703-f8d9-0aa24e8e0c3e"
      },
      "outputs": [
        {
          "output_type": "execute_result",
          "data": {
            "text/plain": [
              "Limit(sqrt(x**2 - x + 1)/(x - 1), x, 2)"
            ],
            "text/latex": "$\\displaystyle \\lim_{x \\to 2^+}\\left(\\frac{\\sqrt{x^{2} - x + 1}}{x - 1}\\right)$"
          },
          "metadata": {},
          "execution_count": 13
        }
      ],
      "source": [
        "#1\n",
        "from sympy import Limit, Symbol\n",
        "import math\n",
        "x=Symbol('x')\n",
        "bai1 = Limit(sqrt(x**2-x+1)/(x-1), x, 2)\n",
        "bai1"
      ]
    },
    {
      "cell_type": "code",
      "source": [
        "bai1.doit()"
      ],
      "metadata": {
        "colab": {
          "base_uri": "https://localhost:8080/",
          "height": 38
        },
        "id": "LakLjV-5rDkP",
        "outputId": "125ffde3-4076-47ba-853c-6230a90dc2db"
      },
      "execution_count": null,
      "outputs": [
        {
          "output_type": "execute_result",
          "data": {
            "text/plain": [
              "sqrt(3)"
            ],
            "text/latex": "$\\displaystyle \\sqrt{3}$"
          },
          "metadata": {},
          "execution_count": 9
        }
      ]
    },
    {
      "cell_type": "code",
      "source": [
        "#bai2\n",
        "from sympy import *\n",
        "x=Symbol('x')\n",
        "bai2 = Limit((1+x+x**2+x**3)/(1+x),x, 0)\n",
        "bai2"
      ],
      "metadata": {
        "colab": {
          "base_uri": "https://localhost:8080/",
          "height": 58
        },
        "id": "FR9uPCpArI91",
        "outputId": "a606c8ac-0e30-484d-c3fe-915e9c3c1811"
      },
      "execution_count": 1,
      "outputs": [
        {
          "output_type": "execute_result",
          "data": {
            "text/plain": [
              "Limit((x**3 + x**2 + x + 1)/(x + 1), x, 0)"
            ],
            "text/latex": "$\\displaystyle \\lim_{x \\to 0^+}\\left(\\frac{x^{3} + x^{2} + x + 1}{x + 1}\\right)$"
          },
          "metadata": {},
          "execution_count": 1
        }
      ]
    },
    {
      "cell_type": "code",
      "source": [
        "bai2.doit()"
      ],
      "metadata": {
        "colab": {
          "base_uri": "https://localhost:8080/",
          "height": 38
        },
        "id": "lvsjsz1GsA2I",
        "outputId": "eaea6803-b98d-4a14-d576-a64182f35478"
      },
      "execution_count": 2,
      "outputs": [
        {
          "output_type": "execute_result",
          "data": {
            "text/plain": [
              "1"
            ],
            "text/latex": "$\\displaystyle 1$"
          },
          "metadata": {},
          "execution_count": 2
        }
      ]
    }
  ]
}
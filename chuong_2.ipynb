{
  "nbformat": 4,
  "nbformat_minor": 0,
  "metadata": {
    "colab": {
      "name": "chuong_2.ipynb",
      "provenance": [],
      "authorship_tag": "ABX9TyPEqh+oGT4LAWNBmWcutf3O",
      "include_colab_link": true
    },
    "kernelspec": {
      "name": "python3",
      "display_name": "Python 3"
    },
    "language_info": {
      "name": "python"
    }
  },
  "cells": [
    {
      "cell_type": "markdown",
      "metadata": {
        "id": "view-in-github",
        "colab_type": "text"
      },
      "source": [
        "<a href=\"https://colab.research.google.com/github/Thaitam/ThuchanhtoanCC/blob/main/chuong_2.ipynb\" target=\"_parent\"><img src=\"https://colab.research.google.com/assets/colab-badge.svg\" alt=\"Open In Colab\"/></a>"
      ]
    },
    {
      "cell_type": "markdown",
      "source": [
        "#Thực hành 1: Sử dụng hàm eval "
      ],
      "metadata": {
        "id": "6WP5GOU6FPkj"
      }
    },
    {
      "cell_type": "code",
      "execution_count": 5,
      "metadata": {
        "id": "RfDDLCq2FBHP"
      },
      "outputs": [],
      "source": [
        "chuoitinhtoan = \"a*b + c\""
      ]
    },
    {
      "cell_type": "code",
      "source": [
        "a = int(input('Nhập vào một số nguyên: '))\n",
        "b = int(input('Nhập vào một số nguyên: '))\n",
        "c = int(input('Nhập vào một số nguyên: '))\n",
        "eval(chuoitinhtoan)"
      ],
      "metadata": {
        "colab": {
          "base_uri": "https://localhost:8080/"
        },
        "id": "iV-6x3dWFWLq",
        "outputId": "1f25071a-ecb6-4e47-df53-33580f8c7411"
      },
      "execution_count": 11,
      "outputs": [
        {
          "name": "stdout",
          "output_type": "stream",
          "text": [
            "Nhập vào một số nguyên: 12\n",
            "Nhập vào một số nguyên: 5\n",
            "Nhập vào một số nguyên: 20\n"
          ]
        },
        {
          "output_type": "execute_result",
          "data": {
            "text/plain": [
              "80"
            ]
          },
          "metadata": {},
          "execution_count": 11
        }
      ]
    },
    {
      "cell_type": "markdown",
      "source": [
        "#Thực hành 2: Cơ bản về sử dụng hàm subs"
      ],
      "metadata": {
        "id": "HLp-sHipGgaO"
      }
    }
  ]
}
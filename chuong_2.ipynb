{
  "nbformat": 4,
  "nbformat_minor": 0,
  "metadata": {
    "colab": {
      "name": "chuong_2.ipynb",
      "provenance": [],
      "authorship_tag": "ABX9TyNLG5e/g+e1sOMch5bHXHIo",
      "include_colab_link": true
    },
    "kernelspec": {
      "name": "python3",
      "display_name": "Python 3"
    },
    "language_info": {
      "name": "python"
    }
  },
  "cells": [
    {
      "cell_type": "markdown",
      "metadata": {
        "id": "view-in-github",
        "colab_type": "text"
      },
      "source": [
        "<a href=\"https://colab.research.google.com/github/Thaitam/ThuchanhtoanCC/blob/main/chuong_2.ipynb\" target=\"_parent\"><img src=\"https://colab.research.google.com/assets/colab-badge.svg\" alt=\"Open In Colab\"/></a>"
      ]
    },
    {
      "cell_type": "markdown",
      "source": [
        "#Thực hành 1: Sử dụng hàm eval "
      ],
      "metadata": {
        "id": "6WP5GOU6FPkj"
      }
    },
    {
      "cell_type": "code",
      "execution_count": 5,
      "metadata": {
        "id": "RfDDLCq2FBHP"
      },
      "outputs": [],
      "source": [
        "chuoitinhtoan = \"a*b + c\""
      ]
    },
    {
      "cell_type": "code",
      "source": [
        "a = int(input('Nhập vào một số nguyên: '))\n",
        "b = int(input('Nhập vào một số nguyên: '))\n",
        "c = int(input('Nhập vào một số nguyên: '))\n",
        "eval(chuoitinhtoan)"
      ],
      "metadata": {
        "colab": {
          "base_uri": "https://localhost:8080/"
        },
        "id": "iV-6x3dWFWLq",
        "outputId": "1f25071a-ecb6-4e47-df53-33580f8c7411"
      },
      "execution_count": 11,
      "outputs": [
        {
          "name": "stdout",
          "output_type": "stream",
          "text": [
            "Nhập vào một số nguyên: 12\n",
            "Nhập vào một số nguyên: 5\n",
            "Nhập vào một số nguyên: 20\n"
          ]
        },
        {
          "output_type": "execute_result",
          "data": {
            "text/plain": [
              "80"
            ]
          },
          "metadata": {},
          "execution_count": 11
        }
      ]
    },
    {
      "cell_type": "markdown",
      "source": [
        "#Thực hành 2: Cơ bản về sử dụng hàm subs"
      ],
      "metadata": {
        "id": "HLp-sHipGgaO"
      }
    },
    {
      "cell_type": "code",
      "source": [
        "from sympy import *\n",
        "x = Symbol('x')\n",
        "y = Symbol('y')\n",
        "bieuthuc = x + y"
      ],
      "metadata": {
        "id": "vnrIsfZpLORM"
      },
      "execution_count": 15,
      "outputs": []
    },
    {
      "cell_type": "code",
      "source": [
        "bieuthuc"
      ],
      "metadata": {
        "colab": {
          "base_uri": "https://localhost:8080/",
          "height": 39
        },
        "id": "7WrXSGeHLnSA",
        "outputId": "62ef450c-3e7e-49b8-b4ab-88f6ef0414fa"
      },
      "execution_count": 16,
      "outputs": [
        {
          "output_type": "execute_result",
          "data": {
            "text/latex": "$\\displaystyle x + y$",
            "text/plain": [
              "x + y"
            ]
          },
          "metadata": {},
          "execution_count": 16
        }
      ]
    },
    {
      "cell_type": "code",
      "source": [
        "thaytheso = bieuthuc.subs({x:10, y:5})"
      ],
      "metadata": {
        "id": "j3TvfvCMLo2v"
      },
      "execution_count": 19,
      "outputs": []
    },
    {
      "cell_type": "code",
      "source": [
        "thaytheso"
      ],
      "metadata": {
        "colab": {
          "base_uri": "https://localhost:8080/",
          "height": 38
        },
        "id": "49ofj1PlLxHx",
        "outputId": "368cfa28-a1a2-4528-d365-6f746a1db7c2"
      },
      "execution_count": 20,
      "outputs": [
        {
          "output_type": "execute_result",
          "data": {
            "text/latex": "$\\displaystyle 15$",
            "text/plain": [
              "15"
            ]
          },
          "metadata": {},
          "execution_count": 20
        }
      ]
    },
    {
      "cell_type": "code",
      "source": [
        "u = Symbol('u')\n",
        "v = Symbol('v')\n",
        "bieuthuc_theo_uv = bieuthuc.subs({x:u, y:v})"
      ],
      "metadata": {
        "id": "Qw-mxbbcL2rK"
      },
      "execution_count": 26,
      "outputs": []
    },
    {
      "cell_type": "code",
      "source": [
        "bieuthuc_theo_uv"
      ],
      "metadata": {
        "colab": {
          "base_uri": "https://localhost:8080/",
          "height": 39
        },
        "id": "2tUD4dMcMC2R",
        "outputId": "4e14d757-642b-4b97-f0e3-2a5f2ed6056e"
      },
      "execution_count": 27,
      "outputs": [
        {
          "output_type": "execute_result",
          "data": {
            "text/latex": "$\\displaystyle u + v$",
            "text/plain": [
              "u + v"
            ]
          },
          "metadata": {},
          "execution_count": 27
        }
      ]
    },
    {
      "cell_type": "code",
      "source": [
        "thaythe_tinhtoan1 = bieuthuc.subs({x:u**2, y:sqrt(sin(v))})"
      ],
      "metadata": {
        "id": "O1xtcMzcMMcb"
      },
      "execution_count": 30,
      "outputs": []
    },
    {
      "cell_type": "code",
      "source": [
        "thaythe_tinhtoan1"
      ],
      "metadata": {
        "colab": {
          "base_uri": "https://localhost:8080/",
          "height": 40
        },
        "id": "ns5qf9H2Mbn7",
        "outputId": "64594ac8-00d7-43b2-b96e-2f3335d6bae9"
      },
      "execution_count": 31,
      "outputs": [
        {
          "output_type": "execute_result",
          "data": {
            "text/latex": "$\\displaystyle u^{2} + \\sqrt{\\sin{\\left(v \\right)}}$",
            "text/plain": [
              "u**2 + sqrt(sin(v))"
            ]
          },
          "metadata": {},
          "execution_count": 31
        }
      ]
    },
    {
      "cell_type": "code",
      "source": [
        "thaythe_tinhtoan2 = bieuthuc.subs({x:2*u*v, y:u**2 + v**2})"
      ],
      "metadata": {
        "id": "29FixHWbMjKZ"
      },
      "execution_count": 36,
      "outputs": []
    },
    {
      "cell_type": "code",
      "source": [
        "thaythe_tinhtoan2"
      ],
      "metadata": {
        "colab": {
          "base_uri": "https://localhost:8080/",
          "height": 39
        },
        "id": "jhHfXIAZMuqe",
        "outputId": "3c42f1b8-2063-4c90-9cf5-c158aae4cc35"
      },
      "execution_count": 37,
      "outputs": [
        {
          "output_type": "execute_result",
          "data": {
            "text/latex": "$\\displaystyle u^{2} + 2 u v + v^{2}$",
            "text/plain": [
              "u**2 + 2*u*v + v**2"
            ]
          },
          "metadata": {},
          "execution_count": 37
        }
      ]
    },
    {
      "cell_type": "code",
      "source": [
        "thaythe_tinhtoan2.factor() "
      ],
      "metadata": {
        "colab": {
          "base_uri": "https://localhost:8080/",
          "height": 40
        },
        "id": "9Xd9-YuSMywK",
        "outputId": "b8199474-9054-4260-f9d6-608d1b45692c"
      },
      "execution_count": 38,
      "outputs": [
        {
          "output_type": "execute_result",
          "data": {
            "text/latex": "$\\displaystyle \\left(u + v\\right)^{2}$",
            "text/plain": [
              "(u + v)**2"
            ]
          },
          "metadata": {},
          "execution_count": 38
        }
      ]
    },
    {
      "cell_type": "markdown",
      "source": [
        "#ví dụ khác"
      ],
      "metadata": {
        "id": "oWoiqnPyNeGb"
      }
    },
    {
      "cell_type": "code",
      "source": [
        "from sympy import *\n",
        "bieuthuc1 = x + y\n",
        "bieuthuc2 = x**2 + y**2 \n",
        "a = Symbol('a')\n",
        "u = Symbol('u')\n",
        "v = Symbol('v')"
      ],
      "metadata": {
        "id": "PP4YxDPCNNbS"
      },
      "execution_count": 44,
      "outputs": []
    },
    {
      "cell_type": "code",
      "source": [
        "bieuthuc_theo_uv = bieuthuc2.subs({x : a*sin(u), y : a*cos(u)})"
      ],
      "metadata": {
        "id": "2NNBRWAdNyaf"
      },
      "execution_count": 45,
      "outputs": []
    },
    {
      "cell_type": "code",
      "source": [
        "bieuthuc_theo_uv"
      ],
      "metadata": {
        "colab": {
          "base_uri": "https://localhost:8080/",
          "height": 39
        },
        "id": "YB83cpo5N2aU",
        "outputId": "343e6349-3241-43af-a920-3e4e700fa6c6"
      },
      "execution_count": 46,
      "outputs": [
        {
          "output_type": "execute_result",
          "data": {
            "text/latex": "$\\displaystyle a^{2} \\sin^{2}{\\left(u \\right)} + a^{2} \\cos^{2}{\\left(u \\right)}$",
            "text/plain": [
              "a**2*sin(u)**2 + a**2*cos(u)**2"
            ]
          },
          "metadata": {},
          "execution_count": 46
        }
      ]
    },
    {
      "cell_type": "code",
      "source": [
        "bieuthuc_theo_uv.simplify()"
      ],
      "metadata": {
        "colab": {
          "base_uri": "https://localhost:8080/",
          "height": 39
        },
        "id": "zdeCUVswN5JA",
        "outputId": "f423280c-bdc6-4671-8b21-530cd4ced685"
      },
      "execution_count": 48,
      "outputs": [
        {
          "output_type": "execute_result",
          "data": {
            "text/latex": "$\\displaystyle a^{2}$",
            "text/plain": [
              "a**2"
            ]
          },
          "metadata": {},
          "execution_count": 48
        }
      ]
    },
    {
      "cell_type": "markdown",
      "source": [
        "#Thực hành 3: Tạo danh sách "
      ],
      "metadata": {
        "id": "_yo6bjg8Qzfb"
      }
    },
    {
      "cell_type": "code",
      "source": [
        "danhsach_so = [11, 15, 21]"
      ],
      "metadata": {
        "id": "xjMYeq9rQ0zs"
      },
      "execution_count": 49,
      "outputs": []
    },
    {
      "cell_type": "code",
      "source": [
        "danhsach_so[0]"
      ],
      "metadata": {
        "colab": {
          "base_uri": "https://localhost:8080/"
        },
        "id": "naEQUSWbQ-3g",
        "outputId": "eef7c321-6b4b-4892-b9ea-31b121bf82f6"
      },
      "execution_count": 53,
      "outputs": [
        {
          "output_type": "execute_result",
          "data": {
            "text/plain": [
              "11"
            ]
          },
          "metadata": {},
          "execution_count": 53
        }
      ]
    },
    {
      "cell_type": "code",
      "source": [
        "danhsach_so[1]"
      ],
      "metadata": {
        "colab": {
          "base_uri": "https://localhost:8080/"
        },
        "id": "VX9qiu55RKXu",
        "outputId": "c48e7bb1-0d7e-4da3-dc2f-aeb648408b2e"
      },
      "execution_count": 54,
      "outputs": [
        {
          "output_type": "execute_result",
          "data": {
            "text/plain": [
              "15"
            ]
          },
          "metadata": {},
          "execution_count": 54
        }
      ]
    },
    {
      "cell_type": "code",
      "source": [
        "danhsach_so[2]"
      ],
      "metadata": {
        "colab": {
          "base_uri": "https://localhost:8080/"
        },
        "id": "4ljLA9reRKfO",
        "outputId": "783e7928-aaf1-45a6-d720-0bf05dd9dfea"
      },
      "execution_count": 55,
      "outputs": [
        {
          "output_type": "execute_result",
          "data": {
            "text/plain": [
              "21"
            ]
          },
          "metadata": {},
          "execution_count": 55
        }
      ]
    },
    {
      "cell_type": "markdown",
      "source": [
        "#Thực hành 4: Duyệt danh sách"
      ],
      "metadata": {
        "id": "pOVw8Y1mSFPm"
      }
    },
    {
      "cell_type": "code",
      "source": [
        "ds = [1, 2, 3]\n",
        "for so in ds:\n",
        "  print(so)"
      ],
      "metadata": {
        "colab": {
          "base_uri": "https://localhost:8080/"
        },
        "id": "U4QiuqtxSHg4",
        "outputId": "b88ffd74-8587-4d56-ad49-4029b1f5d216"
      },
      "execution_count": 60,
      "outputs": [
        {
          "output_type": "stream",
          "name": "stdout",
          "text": [
            "1\n",
            "2\n",
            "3\n"
          ]
        }
      ]
    },
    {
      "cell_type": "code",
      "source": [
        "ds = [10, 11, 12]\n",
        "for chiso, giatri in enumerate(ds):\n",
        "  print(chiso, giatri) "
      ],
      "metadata": {
        "colab": {
          "base_uri": "https://localhost:8080/"
        },
        "id": "ZxhAonhdSbRB",
        "outputId": "b470caf7-5a88-43d6-b6ac-e42fe481b9dc"
      },
      "execution_count": 61,
      "outputs": [
        {
          "output_type": "stream",
          "name": "stdout",
          "text": [
            "0 10\n",
            "1 11\n",
            "2 12\n"
          ]
        }
      ]
    },
    {
      "cell_type": "markdown",
      "source": [
        "#Thực hành 5: Vẽ đồ thị đầu tiên từ 2 danh sách số (list) "
      ],
      "metadata": {
        "id": "G9Y28yJtStRe"
      }
    },
    {
      "cell_type": "code",
      "source": [
        "from pylab import plot,show\n",
        "x = [1, 6, 8]\n",
        "y = [2, 5, 9]"
      ],
      "metadata": {
        "id": "bcm_cdDZSumr"
      },
      "execution_count": 72,
      "outputs": []
    },
    {
      "cell_type": "code",
      "source": [
        "plot(x,y)"
      ],
      "metadata": {
        "colab": {
          "base_uri": "https://localhost:8080/",
          "height": 282
        },
        "id": "TadFWw_XS5QP",
        "outputId": "42f41a38-33a1-4ae3-caaa-69a62fa72574"
      },
      "execution_count": 67,
      "outputs": [
        {
          "output_type": "execute_result",
          "data": {
            "text/plain": [
              "[<matplotlib.lines.Line2D at 0x7fafdcad13d0>]"
            ]
          },
          "metadata": {},
          "execution_count": 67
        },
        {
          "output_type": "display_data",
          "data": {
            "image/png": "[encoded data removed]",
            "text/plain": [
              "<Figure size 432x288 with 1 Axes>"
            ]
          },
          "metadata": {
            "needs_background": "light"
          }
        }
      ]
    },
    {
      "cell_type": "markdown",
      "source": [
        "#Thực hành 6: Vẽ đồ thị có marker"
      ],
      "metadata": {
        "id": "M4gDAR0YTGnQ"
      }
    },
    {
      "cell_type": "code",
      "source": [
        "plot(x,y, marker ='x')"
      ],
      "metadata": {
        "colab": {
          "base_uri": "https://localhost:8080/",
          "height": 282
        },
        "id": "Q58eRpR1TIot",
        "outputId": "52ac8df3-d27d-43e7-b0e7-dee6cb316f05"
      },
      "execution_count": 68,
      "outputs": [
        {
          "output_type": "execute_result",
          "data": {
            "text/plain": [
              "[<matplotlib.lines.Line2D at 0x7fafdc5a6d90>]"
            ]
          },
          "metadata": {},
          "execution_count": 68
        },
        {
          "output_type": "display_data",
          "data": {
            "image/png": "[encoded data removed]",
            "text/plain": [
              "<Figure size 432x288 with 1 Axes>"
            ]
          },
          "metadata": {
            "needs_background": "light"
          }
        }
      ]
    },
    {
      "cell_type": "markdown",
      "source": [
        "Lưu ý 1: Nếu chúng ta chỉ muốn vẽ các điểm và không cần vẽ các đường nối thì trong câu lệnh \n",
        "không cần chữ ‘marker’, cụ thể:"
      ],
      "metadata": {
        "id": "1TL_Wg-BThQ0"
      }
    },
    {
      "cell_type": "code",
      "source": [
        "plot(x,y,'x')"
      ],
      "metadata": {
        "colab": {
          "base_uri": "https://localhost:8080/",
          "height": 282
        },
        "id": "2HZVuqsaTiOH",
        "outputId": "e6b0a004-45ff-4754-9c74-3a5d4bc74f04"
      },
      "execution_count": 71,
      "outputs": [
        {
          "output_type": "execute_result",
          "data": {
            "text/plain": [
              "[<matplotlib.lines.Line2D at 0x7fafdc4f67d0>]"
            ]
          },
          "metadata": {},
          "execution_count": 71
        },
        {
          "output_type": "display_data",
          "data": {
            "image/png": "[encoded data removed]",
            "text/plain": [
              "<Figure size 432x288 with 1 Axes>"
            ]
          },
          "metadata": {
            "needs_background": "light"
          }
        }
      ]
    },
    {
      "cell_type": "markdown",
      "source": [
        "#Thực hành 7: Vẽ đồ thị lượng mưa trung bình tại TP.HCM theo tháng."
      ],
      "metadata": {
        "id": "AR-ejLxRUOxw"
      }
    },
    {
      "cell_type": "code",
      "source": [
        "hcm_rain = [13.8, 4.1, 10.5, 50.4, 218.4, 311.7, 293.7, 269.8, 327.1, 266.7, 116.5, 48.3]\n",
        "thang = range (0,12)"
      ],
      "metadata": {
        "id": "AUe_pEW2UPvf"
      },
      "execution_count": 75,
      "outputs": []
    },
    {
      "cell_type": "code",
      "source": [
        "plot(thang, hcm_rain, marker = 'o')"
      ],
      "metadata": {
        "colab": {
          "base_uri": "https://localhost:8080/",
          "height": 282
        },
        "id": "OF6HU-7iUbde",
        "outputId": "d059aff2-9c16-42e5-b655-a986ce80119e"
      },
      "execution_count": 79,
      "outputs": [
        {
          "output_type": "execute_result",
          "data": {
            "text/plain": [
              "[<matplotlib.lines.Line2D at 0x7fafdc438c90>]"
            ]
          },
          "metadata": {},
          "execution_count": 79
        },
        {
          "output_type": "display_data",
          "data": {
            "image/png": "[encoded data removed]",
            "text/plain": [
              "<Figure size 432x288 with 1 Axes>"
            ]
          },
          "metadata": {
            "needs_background": "light"
          }
        }
      ]
    },
    {
      "cell_type": "markdown",
      "source": [
        "#Thực hành 8: Tính đạo hàm với Derivative"
      ],
      "metadata": {
        "id": "5N1tq62yUxGf"
      }
    },
    {
      "cell_type": "code",
      "source": [
        "from sympy import *\n",
        "t = Symbol('t')\n",
        "st = 5*t**2 + 2*t + 8"
      ],
      "metadata": {
        "id": "m33mGB9BUy_n"
      },
      "execution_count": 82,
      "outputs": []
    },
    {
      "cell_type": "code",
      "source": [
        "st"
      ],
      "metadata": {
        "colab": {
          "base_uri": "https://localhost:8080/",
          "height": 39
        },
        "id": "F3tiRRB7U7zp",
        "outputId": "bad54986-683c-4a00-cd54-e944c435a317"
      },
      "execution_count": 83,
      "outputs": [
        {
          "output_type": "execute_result",
          "data": {
            "text/latex": "$\\displaystyle 5 t^{2} + 2 t + 8$",
            "text/plain": [
              "5*t**2 + 2*t + 8"
            ]
          },
          "metadata": {},
          "execution_count": 83
        }
      ]
    },
    {
      "cell_type": "code",
      "source": [
        "Derivative(st,t)"
      ],
      "metadata": {
        "colab": {
          "base_uri": "https://localhost:8080/",
          "height": 52
        },
        "id": "QEroRWrwVCfc",
        "outputId": "6dd43e8a-e784-4aea-89ce-0f789de86270"
      },
      "execution_count": 84,
      "outputs": [
        {
          "output_type": "execute_result",
          "data": {
            "text/latex": "$\\displaystyle \\frac{d}{d t} \\left(5 t^{2} + 2 t + 8\\right)$",
            "text/plain": [
              "Derivative(5*t**2 + 2*t + 8, t)"
            ]
          },
          "metadata": {},
          "execution_count": 84
        }
      ]
    },
    {
      "cell_type": "code",
      "source": [
        "d = Derivative(st,t)\n",
        "d.doit()"
      ],
      "metadata": {
        "colab": {
          "base_uri": "https://localhost:8080/",
          "height": 39
        },
        "id": "-2VA53SzVUJB",
        "outputId": "39c984de-7251-44a9-cb53-0d29331ca597"
      },
      "execution_count": 86,
      "outputs": [
        {
          "output_type": "execute_result",
          "data": {
            "text/latex": "$\\displaystyle 10 t + 2$",
            "text/plain": [
              "10*t + 2"
            ]
          },
          "metadata": {},
          "execution_count": 86
        }
      ]
    },
    {
      "cell_type": "code",
      "source": [
        "d.doit().subs({t:1})"
      ],
      "metadata": {
        "colab": {
          "base_uri": "https://localhost:8080/",
          "height": 38
        },
        "id": "qym3f7LEVaMY",
        "outputId": "5bcdcbd4-a8db-4e85-c0cc-278eb079c54c"
      },
      "execution_count": 87,
      "outputs": [
        {
          "output_type": "execute_result",
          "data": {
            "text/latex": "$\\displaystyle 12$",
            "text/plain": [
              "12"
            ]
          },
          "metadata": {},
          "execution_count": 87
        }
      ]
    },
    {
      "cell_type": "code",
      "source": [
        "d.doit().subs({t:3})"
      ],
      "metadata": {
        "colab": {
          "base_uri": "https://localhost:8080/",
          "height": 38
        },
        "id": "xgDav32wVukx",
        "outputId": "790ecd14-b7a0-4b52-b2d1-2ea55e0a44b4"
      },
      "execution_count": 88,
      "outputs": [
        {
          "output_type": "execute_result",
          "data": {
            "text/latex": "$\\displaystyle 32$",
            "text/plain": [
              "32"
            ]
          },
          "metadata": {},
          "execution_count": 88
        }
      ]
    },
    {
      "cell_type": "code",
      "source": [
        "t1 = Symbol('t1') \n",
        "d.doit().subs({t:t1}) "
      ],
      "metadata": {
        "colab": {
          "base_uri": "https://localhost:8080/",
          "height": 39
        },
        "id": "uPCjQfMiV6LW",
        "outputId": "ac09f369-88a2-4ec9-94d4-b8966035d851"
      },
      "execution_count": 89,
      "outputs": [
        {
          "output_type": "execute_result",
          "data": {
            "text/latex": "$\\displaystyle 10 t_{1} + 2$",
            "text/plain": [
              "10*t1 + 2"
            ]
          },
          "metadata": {},
          "execution_count": 89
        }
      ]
    },
    {
      "cell_type": "code",
      "source": [
        "t2 = 10 \n",
        "d.doit().subs({t:t2}) "
      ],
      "metadata": {
        "colab": {
          "base_uri": "https://localhost:8080/",
          "height": 38
        },
        "id": "FibipKGvV-vD",
        "outputId": "1e4767e9-c98e-421b-9613-558a80137549"
      },
      "execution_count": 91,
      "outputs": [
        {
          "output_type": "execute_result",
          "data": {
            "text/latex": "$\\displaystyle 102$",
            "text/plain": [
              "102"
            ]
          },
          "metadata": {},
          "execution_count": 91
        }
      ]
    }
  ]
}
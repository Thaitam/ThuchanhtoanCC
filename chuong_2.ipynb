{
  "nbformat": 4,
  "nbformat_minor": 0,
  "metadata": {
    "colab": {
      "name": "chuong_2.ipynb",
      "provenance": [],
      "authorship_tag": "ABX9TyPOeLXb9yeE6OkDWnXhD5eJ",
      "include_colab_link": true
    },
    "kernelspec": {
      "name": "python3",
      "display_name": "Python 3"
    },
    "language_info": {
      "name": "python"
    }
  },
  "cells": [
    {
      "cell_type": "markdown",
      "metadata": {
        "id": "view-in-github",
        "colab_type": "text"
      },
      "source": [
        "<a href=\"https://colab.research.google.com/github/Thaitam/ThuchanhtoanCC/blob/main/chuong_2.ipynb\" target=\"_parent\"><img src=\"https://colab.research.google.com/assets/colab-badge.svg\" alt=\"Open In Colab\"/></a>"
      ]
    },
    {
      "cell_type": "markdown",
      "source": [
        "#Thực hành 1: Sử dụng hàm eval "
      ],
      "metadata": {
        "id": "6WP5GOU6FPkj"
      }
    },
    {
      "cell_type": "code",
      "execution_count": 5,
      "metadata": {
        "id": "RfDDLCq2FBHP"
      },
      "outputs": [],
      "source": [
        "chuoitinhtoan = \"a*b + c\""
      ]
    },
    {
      "cell_type": "code",
      "source": [
        "a = int(input('Nhập vào một số nguyên: '))\n",
        "b = int(input('Nhập vào một số nguyên: '))\n",
        "c = int(input('Nhập vào một số nguyên: '))\n",
        "eval(chuoitinhtoan)"
      ],
      "metadata": {
        "colab": {
          "base_uri": "https://localhost:8080/"
        },
        "id": "iV-6x3dWFWLq",
        "outputId": "1f25071a-ecb6-4e47-df53-33580f8c7411"
      },
      "execution_count": 11,
      "outputs": [
        {
          "name": "stdout",
          "output_type": "stream",
          "text": [
            "Nhập vào một số nguyên: 12\n",
            "Nhập vào một số nguyên: 5\n",
            "Nhập vào một số nguyên: 20\n"
          ]
        },
        {
          "output_type": "execute_result",
          "data": {
            "text/plain": [
              "80"
            ]
          },
          "metadata": {},
          "execution_count": 11
        }
      ]
    },
    {
      "cell_type": "markdown",
      "source": [
        "#Thực hành 2: Cơ bản về sử dụng hàm subs"
      ],
      "metadata": {
        "id": "HLp-sHipGgaO"
      }
    },
    {
      "cell_type": "code",
      "source": [
        "from sympy import *\n",
        "x = Symbol('x')\n",
        "y = Symbol('y')\n",
        "bieuthuc = x + y"
      ],
      "metadata": {
        "id": "vnrIsfZpLORM"
      },
      "execution_count": 15,
      "outputs": []
    },
    {
      "cell_type": "code",
      "source": [
        "bieuthuc"
      ],
      "metadata": {
        "colab": {
          "base_uri": "https://localhost:8080/",
          "height": 39
        },
        "id": "7WrXSGeHLnSA",
        "outputId": "62ef450c-3e7e-49b8-b4ab-88f6ef0414fa"
      },
      "execution_count": 16,
      "outputs": [
        {
          "output_type": "execute_result",
          "data": {
            "text/latex": "$\\displaystyle x + y$",
            "text/plain": [
              "x + y"
            ]
          },
          "metadata": {},
          "execution_count": 16
        }
      ]
    },
    {
      "cell_type": "code",
      "source": [
        "thaytheso = bieuthuc.subs({x:10, y:5})"
      ],
      "metadata": {
        "id": "j3TvfvCMLo2v"
      },
      "execution_count": 19,
      "outputs": []
    },
    {
      "cell_type": "code",
      "source": [
        "thaytheso"
      ],
      "metadata": {
        "colab": {
          "base_uri": "https://localhost:8080/",
          "height": 38
        },
        "id": "49ofj1PlLxHx",
        "outputId": "368cfa28-a1a2-4528-d365-6f746a1db7c2"
      },
      "execution_count": 20,
      "outputs": [
        {
          "output_type": "execute_result",
          "data": {
            "text/latex": "$\\displaystyle 15$",
            "text/plain": [
              "15"
            ]
          },
          "metadata": {},
          "execution_count": 20
        }
      ]
    },
    {
      "cell_type": "code",
      "source": [
        "u = Symbol('u')\n",
        "v = Symbol('v')\n",
        "bieuthuc_theo_uv = bieuthuc.subs({x:u, y:v})"
      ],
      "metadata": {
        "id": "Qw-mxbbcL2rK"
      },
      "execution_count": 26,
      "outputs": []
    },
    {
      "cell_type": "code",
      "source": [
        "bieuthuc_theo_uv"
      ],
      "metadata": {
        "colab": {
          "base_uri": "https://localhost:8080/",
          "height": 39
        },
        "id": "2tUD4dMcMC2R",
        "outputId": "4e14d757-642b-4b97-f0e3-2a5f2ed6056e"
      },
      "execution_count": 27,
      "outputs": [
        {
          "output_type": "execute_result",
          "data": {
            "text/latex": "$\\displaystyle u + v$",
            "text/plain": [
              "u + v"
            ]
          },
          "metadata": {},
          "execution_count": 27
        }
      ]
    },
    {
      "cell_type": "code",
      "source": [
        "thaythe_tinhtoan1 = bieuthuc.subs({x:u**2, y:sqrt(sin(v))})"
      ],
      "metadata": {
        "id": "O1xtcMzcMMcb"
      },
      "execution_count": 30,
      "outputs": []
    },
    {
      "cell_type": "code",
      "source": [
        "thaythe_tinhtoan1"
      ],
      "metadata": {
        "colab": {
          "base_uri": "https://localhost:8080/",
          "height": 40
        },
        "id": "ns5qf9H2Mbn7",
        "outputId": "64594ac8-00d7-43b2-b96e-2f3335d6bae9"
      },
      "execution_count": 31,
      "outputs": [
        {
          "output_type": "execute_result",
          "data": {
            "text/latex": "$\\displaystyle u^{2} + \\sqrt{\\sin{\\left(v \\right)}}$",
            "text/plain": [
              "u**2 + sqrt(sin(v))"
            ]
          },
          "metadata": {},
          "execution_count": 31
        }
      ]
    },
    {
      "cell_type": "code",
      "source": [
        "thaythe_tinhtoan2 = bieuthuc.subs({x:2*u*v, y:u**2 + v**2})"
      ],
      "metadata": {
        "id": "29FixHWbMjKZ"
      },
      "execution_count": 36,
      "outputs": []
    },
    {
      "cell_type": "code",
      "source": [
        "thaythe_tinhtoan2"
      ],
      "metadata": {
        "colab": {
          "base_uri": "https://localhost:8080/",
          "height": 39
        },
        "id": "jhHfXIAZMuqe",
        "outputId": "3c42f1b8-2063-4c90-9cf5-c158aae4cc35"
      },
      "execution_count": 37,
      "outputs": [
        {
          "output_type": "execute_result",
          "data": {
            "text/latex": "$\\displaystyle u^{2} + 2 u v + v^{2}$",
            "text/plain": [
              "u**2 + 2*u*v + v**2"
            ]
          },
          "metadata": {},
          "execution_count": 37
        }
      ]
    },
    {
      "cell_type": "code",
      "source": [
        "thaythe_tinhtoan2.factor() "
      ],
      "metadata": {
        "colab": {
          "base_uri": "https://localhost:8080/",
          "height": 40
        },
        "id": "9Xd9-YuSMywK",
        "outputId": "b8199474-9054-4260-f9d6-608d1b45692c"
      },
      "execution_count": 38,
      "outputs": [
        {
          "output_type": "execute_result",
          "data": {
            "text/latex": "$\\displaystyle \\left(u + v\\right)^{2}$",
            "text/plain": [
              "(u + v)**2"
            ]
          },
          "metadata": {},
          "execution_count": 38
        }
      ]
    },
    {
      "cell_type": "markdown",
      "source": [
        "#ví dụ khác"
      ],
      "metadata": {
        "id": "oWoiqnPyNeGb"
      }
    },
    {
      "cell_type": "code",
      "source": [
        "from sympy import *\n",
        "bieuthuc1 = x + y\n",
        "bieuthuc2 = x**2 + y**2 \n",
        "a = Symbol('a')\n",
        "u = Symbol('u')\n",
        "v = Symbol('v')"
      ],
      "metadata": {
        "id": "PP4YxDPCNNbS"
      },
      "execution_count": 44,
      "outputs": []
    },
    {
      "cell_type": "code",
      "source": [
        "bieuthuc_theo_uv = bieuthuc2.subs({x : a*sin(u), y : a*cos(u)})"
      ],
      "metadata": {
        "id": "2NNBRWAdNyaf"
      },
      "execution_count": 45,
      "outputs": []
    },
    {
      "cell_type": "code",
      "source": [
        "bieuthuc_theo_uv"
      ],
      "metadata": {
        "colab": {
          "base_uri": "https://localhost:8080/",
          "height": 39
        },
        "id": "YB83cpo5N2aU",
        "outputId": "343e6349-3241-43af-a920-3e4e700fa6c6"
      },
      "execution_count": 46,
      "outputs": [
        {
          "output_type": "execute_result",
          "data": {
            "text/latex": "$\\displaystyle a^{2} \\sin^{2}{\\left(u \\right)} + a^{2} \\cos^{2}{\\left(u \\right)}$",
            "text/plain": [
              "a**2*sin(u)**2 + a**2*cos(u)**2"
            ]
          },
          "metadata": {},
          "execution_count": 46
        }
      ]
    },
    {
      "cell_type": "code",
      "source": [
        "bieuthuc_theo_uv.simplify()"
      ],
      "metadata": {
        "colab": {
          "base_uri": "https://localhost:8080/",
          "height": 39
        },
        "id": "zdeCUVswN5JA",
        "outputId": "f423280c-bdc6-4671-8b21-530cd4ced685"
      },
      "execution_count": 48,
      "outputs": [
        {
          "output_type": "execute_result",
          "data": {
            "text/latex": "$\\displaystyle a^{2}$",
            "text/plain": [
              "a**2"
            ]
          },
          "metadata": {},
          "execution_count": 48
        }
      ]
    }
  ]
}
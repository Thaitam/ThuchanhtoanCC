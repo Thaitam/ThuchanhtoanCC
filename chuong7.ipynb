{
  "nbformat": 4,
  "nbformat_minor": 0,
  "metadata": {
    "colab": {
      "name": "chuong7.ipynb",
      "provenance": [],
      "authorship_tag": "ABX9TyOu51tIdAETUBRDGihUPyca",
      "include_colab_link": true
    },
    "kernelspec": {
      "name": "python3",
      "display_name": "Python 3"
    },
    "language_info": {
      "name": "python"
    }
  },
  "cells": [
    {
      "cell_type": "markdown",
      "metadata": {
        "id": "view-in-github",
        "colab_type": "text"
      },
      "source": [
        "<a href=\"https://colab.research.google.com/github/Thaitam/ThuchanhtoanCC/blob/main/chuong7.ipynb\" target=\"_parent\"><img src=\"https://colab.research.google.com/assets/colab-badge.svg\" alt=\"Open In Colab\"/></a>"
      ]
    },
    {
      "cell_type": "markdown",
      "source": [
        "## **Chương 7:**"
      ],
      "metadata": {
        "id": "8cyV-PORTVAb"
      }
    },
    {
      "cell_type": "markdown",
      "source": [
        "**Thực hành 1: Tích phân không xác định loại 1**"
      ],
      "metadata": {
        "id": "oHg7F5IyTJap"
      }
    },
    {
      "cell_type": "code",
      "execution_count": null,
      "metadata": {
        "colab": {
          "base_uri": "https://localhost:8080/",
          "height": 79
        },
        "id": "OEQj-uo1THIc",
        "outputId": "637d5a43-6327-452f-ff13-8668956baf9e"
      },
      "outputs": [
        {
          "output_type": "execute_result",
          "data": {
            "text/plain": [
              "Integral(1.0/x, (x, 0, 2))"
            ],
            "text/latex": "$\\displaystyle \\int\\limits_{0}^{2} \\frac{1.0}{x}\\, dx$"
          },
          "metadata": {},
          "execution_count": 54
        }
      ],
      "source": [
        "from sympy import Symbol, Integral \n",
        "x = Symbol('x') \n",
        "f = 1.0/x \n",
        "unbound1 = Integral(f, (x, 0, 2)) \n",
        "unbound1"
      ]
    },
    {
      "cell_type": "code",
      "source": [
        "unbound1.doit()"
      ],
      "metadata": {
        "colab": {
          "base_uri": "https://localhost:8080/",
          "height": 38
        },
        "id": "ep9dseWtXTmR",
        "outputId": "28c510b5-b786-4a4e-b864-95e523dd0444"
      },
      "execution_count": null,
      "outputs": [
        {
          "output_type": "execute_result",
          "data": {
            "text/plain": [
              "oo"
            ],
            "text/latex": "$\\displaystyle \\infty$"
          },
          "metadata": {},
          "execution_count": 55
        }
      ]
    },
    {
      "cell_type": "markdown",
      "source": [
        "**Thực hành 2: Tích phân không xác định loại 2:**"
      ],
      "metadata": {
        "id": "gTfGqdI5UDiB"
      }
    },
    {
      "cell_type": "code",
      "source": [
        "from sympy import Symbol, Integral  \n",
        "x = Symbol('x')  \n",
        "f = 1.0/x**2  \n",
        "unbound2 = Integral(f, (x, -1, 1))\n",
        "unbound2"
      ],
      "metadata": {
        "colab": {
          "base_uri": "https://localhost:8080/",
          "height": 81
        },
        "id": "zjVBCAhJXiI0",
        "outputId": "c2825185-c7b9-4327-cf5b-1e0359c185a8"
      },
      "execution_count": null,
      "outputs": [
        {
          "output_type": "execute_result",
          "data": {
            "text/plain": [
              "Integral(1.0/x**2, (x, -1, 1))"
            ],
            "text/latex": "$\\displaystyle \\int\\limits_{-1}^{1} \\frac{1.0}{x^{2}}\\, dx$"
          },
          "metadata": {},
          "execution_count": 56
        }
      ]
    },
    {
      "cell_type": "code",
      "source": [
        "unbound2.doit()"
      ],
      "metadata": {
        "colab": {
          "base_uri": "https://localhost:8080/",
          "height": 38
        },
        "id": "BU6oSvHsXvra",
        "outputId": "86ea90d7-c8b5-4bee-bbf9-ea0b5dffe28d"
      },
      "execution_count": null,
      "outputs": [
        {
          "output_type": "execute_result",
          "data": {
            "text/plain": [
              "oo"
            ],
            "text/latex": "$\\displaystyle \\infty$"
          },
          "metadata": {},
          "execution_count": 57
        }
      ]
    },
    {
      "cell_type": "markdown",
      "source": [
        "**Thực hành 3: Tích phân không liên tục**"
      ],
      "metadata": {
        "id": "vy7Fgh4AXyaZ"
      }
    },
    {
      "cell_type": "code",
      "source": [
        "from sympy import Symbol, Integral, Abs  \n",
        "x = Symbol('x')  \n",
        "f = Abs(x)  \n",
        "discontinous1 = Integral(f, (x, -1, 2))  \n",
        "discontinous1"
      ],
      "metadata": {
        "colab": {
          "base_uri": "https://localhost:8080/",
          "height": 81
        },
        "id": "0yLDOU4pUJbQ",
        "outputId": "e1608543-4ea2-4f8e-f571-bf9677a3671b"
      },
      "execution_count": null,
      "outputs": [
        {
          "output_type": "execute_result",
          "data": {
            "text/plain": [
              "Integral(Abs(x), (x, -1, 2))"
            ],
            "text/latex": "$\\displaystyle \\int\\limits_{-1}^{2} \\left|{x}\\right|\\, dx$"
          },
          "metadata": {},
          "execution_count": 58
        }
      ]
    },
    {
      "cell_type": "code",
      "source": [
        "discontinous1.doit() "
      ],
      "metadata": {
        "colab": {
          "base_uri": "https://localhost:8080/",
          "height": 51
        },
        "id": "jTG8TZQFXYQs",
        "outputId": "726833fc-5f48-45c6-9409-249314e5109e"
      },
      "execution_count": null,
      "outputs": [
        {
          "output_type": "execute_result",
          "data": {
            "text/plain": [
              "5/2"
            ],
            "text/latex": "$\\displaystyle \\frac{5}{2}$"
          },
          "metadata": {},
          "execution_count": 59
        }
      ]
    },
    {
      "cell_type": "markdown",
      "source": [
        "**Thực hành 4: Tích phân có hàm thỏa không tồn tại trong miền xác định (thực)**"
      ],
      "metadata": {
        "id": "1lCxMKZQUmen"
      }
    },
    {
      "cell_type": "code",
      "source": [
        "from sympy import Symbol, Integral  \n",
        "x = Symbol('x')  \n",
        "f = x**(0.5)  \n",
        "undef1 = Integral(f, (x, -1, 1))  \n",
        "undef1"
      ],
      "metadata": {
        "colab": {
          "base_uri": "https://localhost:8080/",
          "height": 81
        },
        "id": "hDYxumawUn34",
        "outputId": "4a7756a2-97fd-40a4-8582-f60cf912de2d"
      },
      "execution_count": null,
      "outputs": [
        {
          "output_type": "execute_result",
          "data": {
            "text/plain": [
              "Integral(x**0.5, (x, -1, 1))"
            ],
            "text/latex": "$\\displaystyle \\int\\limits_{-1}^{1} x^{0.5}\\, dx$"
          },
          "metadata": {},
          "execution_count": 60
        }
      ]
    },
    {
      "cell_type": "code",
      "source": [
        "undef1.doit() "
      ],
      "metadata": {
        "colab": {
          "base_uri": "https://localhost:8080/",
          "height": 39
        },
        "id": "Y0QzBhr3X4kZ",
        "outputId": "7167bf9c-af62-4b54-8e1f-1215e3be6cd3"
      },
      "execution_count": null,
      "outputs": [
        {
          "output_type": "execute_result",
          "data": {
            "text/plain": [
              "0.666666666666667 + 0.666666666666667*I"
            ],
            "text/latex": "$\\displaystyle 0.666666666666667 + 0.666666666666667 i$"
          },
          "metadata": {},
          "execution_count": 61
        }
      ]
    },
    {
      "cell_type": "markdown",
      "source": [
        "**Thực hành 5: Một máy đo đo được lượng thuốc nhuộm trong máu với số liệu như sau:**"
      ],
      "metadata": {
        "id": "pdKpIMUGU30X"
      }
    },
    {
      "cell_type": "code",
      "source": [
        "from scipy import integrate \n",
        "import numpy as np \n",
        "y = np.array([0.0, 4.1, 8.9, 8.5, 6.7, 4.3, 2.5, 1.2,0.2])  \n",
        "x = np.arange(0,9)  \n",
        "integrate.simps(y, x)"
      ],
      "metadata": {
        "colab": {
          "base_uri": "https://localhost:8080/"
        },
        "id": "PAt2_cdqVAZK",
        "outputId": "9886a8d4-5a22-4f80-947b-8dd52aaddeaf"
      },
      "execution_count": null,
      "outputs": [
        {
          "output_type": "execute_result",
          "data": {
            "text/plain": [
              "36.26666666666666"
            ]
          },
          "metadata": {},
          "execution_count": 62
        }
      ]
    },
    {
      "cell_type": "code",
      "source": [
        "S = 2*integrate.simps(y, x)\n",
        "S"
      ],
      "metadata": {
        "colab": {
          "base_uri": "https://localhost:8080/"
        },
        "id": "bDjaLK2bVnbB",
        "outputId": "b714f9a2-8f70-48b1-c318-41916b255239"
      },
      "execution_count": null,
      "outputs": [
        {
          "output_type": "execute_result",
          "data": {
            "text/plain": [
              "72.53333333333332"
            ]
          },
          "metadata": {},
          "execution_count": 63
        }
      ]
    },
    {
      "cell_type": "code",
      "source": [
        "A = 5.5\n",
        "F = A/S * 60\n",
        "F"
      ],
      "metadata": {
        "colab": {
          "base_uri": "https://localhost:8080/"
        },
        "id": "q_-Jr85GV2t5",
        "outputId": "07ffcb40-951e-4863-c412-c3aa58e91d60"
      },
      "execution_count": null,
      "outputs": [
        {
          "output_type": "execute_result",
          "data": {
            "text/plain": [
              "4.5496323529411775"
            ]
          },
          "metadata": {},
          "execution_count": 64
        }
      ]
    },
    {
      "cell_type": "markdown",
      "source": [
        "**Thực hành 6: Hãy viết các câu lệnh Python để tìm độ dài của đường cong như sau:**"
      ],
      "metadata": {
        "id": "ziOBCBWTWUO8"
      }
    },
    {
      "cell_type": "code",
      "source": [
        "from sympy import Symbol, Integral, Derivative, sqrt\n",
        "x = Symbol('x')\n",
        "f = x ** (3.0/2)\n",
        "d1 = Derivative(f,x).doit()\n",
        "d1"
      ],
      "metadata": {
        "colab": {
          "base_uri": "https://localhost:8080/",
          "height": 39
        },
        "id": "ExwbBxUNWbwX",
        "outputId": "c9f1c243-c6b9-4cf7-814f-25c7d99848f3"
      },
      "execution_count": null,
      "outputs": [
        {
          "output_type": "execute_result",
          "data": {
            "text/plain": [
              "1.5*x**0.5"
            ],
            "text/latex": "$\\displaystyle 1.5 x^{0.5}$"
          },
          "metadata": {},
          "execution_count": 65
        }
      ]
    },
    {
      "cell_type": "code",
      "source": [
        "d2 = sqrt(1+d1**2)\n",
        "d3 = Integral(d2, (x, 0, 2))\n",
        "d3"
      ],
      "metadata": {
        "colab": {
          "base_uri": "https://localhost:8080/",
          "height": 79
        },
        "id": "kHtzZ3pPY-_K",
        "outputId": "e77a4823-34a4-4b29-ea78-36fa126a8467"
      },
      "execution_count": null,
      "outputs": [
        {
          "output_type": "execute_result",
          "data": {
            "text/plain": [
              "Integral(1.5*sqrt(x**1.0 + 0.444444444444444), (x, 0, 2))"
            ],
            "text/latex": "$\\displaystyle \\int\\limits_{0}^{2} 1.5 \\sqrt{x^{1.0} + 0.444444444444444}\\, dx$"
          },
          "metadata": {},
          "execution_count": 66
        }
      ]
    },
    {
      "cell_type": "code",
      "source": [
        "d3.doit()"
      ],
      "metadata": {
        "colab": {
          "base_uri": "https://localhost:8080/",
          "height": 38
        },
        "id": "ERjWTrj3bEIk",
        "outputId": "7f85a698-7539-4ff0-fc77-cef98a5ebbfd"
      },
      "execution_count": null,
      "outputs": [
        {
          "output_type": "execute_result",
          "data": {
            "text/plain": [
              "3.52552395244872"
            ],
            "text/latex": "$\\displaystyle 3.52552395244872$"
          },
          "metadata": {},
          "execution_count": 67
        }
      ]
    },
    {
      "cell_type": "markdown",
      "source": [
        "**Thực hành 7: Hãy vẽ 3 đoạn đường sắt sau khi thiết kế xong đoạn nối (với−2 ≤ x ≤ 2)** (Tham Khảo tài liệu)"
      ],
      "metadata": {
        "id": "t6ZKWnYRbW-L"
      }
    },
    {
      "cell_type": "markdown",
      "source": [
        "**Thực hành 8: Xử lý dãy số (sequence) trong sympy**"
      ],
      "metadata": {
        "id": "JVVAh7M3s63A"
      }
    },
    {
      "cell_type": "code",
      "source": [
        "from sympy import difference_delta as dd  \n",
        "from sympy.abc import n  \n",
        "dd(n*(n+1), n)"
      ],
      "metadata": {
        "colab": {
          "base_uri": "https://localhost:8080/",
          "height": 39
        },
        "id": "9Mg1A5-kbYrY",
        "outputId": "96f2aefe-e833-462e-829e-118a91894ef0"
      },
      "execution_count": null,
      "outputs": [
        {
          "output_type": "execute_result",
          "data": {
            "text/plain": [
              "2*n + 2"
            ],
            "text/latex": "$\\displaystyle 2 n + 2$"
          },
          "metadata": {},
          "execution_count": 68
        }
      ]
    },
    {
      "cell_type": "code",
      "source": [
        "dd(n*(n+1), n, 2) "
      ],
      "metadata": {
        "colab": {
          "base_uri": "https://localhost:8080/",
          "height": 39
        },
        "id": "NguOcGzDvjtc",
        "outputId": "13a73d8d-1485-4d8c-98cf-7470a1fb967f"
      },
      "execution_count": null,
      "outputs": [
        {
          "output_type": "execute_result",
          "data": {
            "text/plain": [
              "4*n + 6"
            ],
            "text/latex": "$\\displaystyle 4 n + 6$"
          },
          "metadata": {},
          "execution_count": 69
        }
      ]
    },
    {
      "cell_type": "code",
      "source": [
        "from sympy.abc import n, k   \n",
        "from sympy import limit_seq  \n",
        "limit_seq((3*n**3+5*n**2+4)/(5*n**3+200*n**2+400), n) "
      ],
      "metadata": {
        "colab": {
          "base_uri": "https://localhost:8080/",
          "height": 51
        },
        "id": "m_297BYdwV8s",
        "outputId": "a26f26b8-5b92-4450-ba12-e6ffa0b1b766"
      },
      "execution_count": null,
      "outputs": [
        {
          "output_type": "execute_result",
          "data": {
            "text/plain": [
              "3/5"
            ],
            "text/latex": "$\\displaystyle \\frac{3}{5}$"
          },
          "metadata": {},
          "execution_count": 70
        }
      ]
    },
    {
      "cell_type": "code",
      "source": [
        "limit_seq((3*n**3+5*n**2+4)/(5*n**3+200*n**2+400), n)"
      ],
      "metadata": {
        "colab": {
          "base_uri": "https://localhost:8080/",
          "height": 51
        },
        "id": "OnyGweAawcwJ",
        "outputId": "040be798-2523-4ced-f641-2df2f3a11cf7"
      },
      "execution_count": null,
      "outputs": [
        {
          "output_type": "execute_result",
          "data": {
            "text/plain": [
              "3/5"
            ],
            "text/latex": "$\\displaystyle \\frac{3}{5}$"
          },
          "metadata": {},
          "execution_count": 71
        }
      ]
    },
    {
      "cell_type": "code",
      "source": [
        "from sympy import Sum\n",
        "from sympy.abc import n, k, m  \n",
        "limit_seq(Sum(k**2 * Sum(2**m/m,(m,1,k)),(k,1,n))/(2**n*n), n) "
      ],
      "metadata": {
        "colab": {
          "base_uri": "https://localhost:8080/",
          "height": 38
        },
        "id": "raGkdTHlwZ7E",
        "outputId": "66e78db6-447d-4bba-eb6f-4ce9c0c79c16"
      },
      "execution_count": null,
      "outputs": [
        {
          "output_type": "execute_result",
          "data": {
            "text/plain": [
              "4"
            ],
            "text/latex": "$\\displaystyle 4$"
          },
          "metadata": {},
          "execution_count": 72
        }
      ]
    },
    {
      "cell_type": "code",
      "source": [
        "from sympy import series  \n",
        "from sympy import Sum  \n",
        "from sympy.series.limitseq import dominant \n",
        "dominant(n**3+100*n**2+200*n+1, n)"
      ],
      "metadata": {
        "colab": {
          "base_uri": "https://localhost:8080/",
          "height": 39
        },
        "id": "_3OHzii3wtWg",
        "outputId": "f085cf87-7f98-4688-f067-c7ec962e52cb"
      },
      "execution_count": null,
      "outputs": [
        {
          "output_type": "execute_result",
          "data": {
            "text/plain": [
              "n**3"
            ],
            "text/latex": "$\\displaystyle n^{3}$"
          },
          "metadata": {},
          "execution_count": 73
        }
      ]
    },
    {
      "cell_type": "code",
      "source": [
        "dominant(2**n + Sum(k, (k,0,n)), n)"
      ],
      "metadata": {
        "colab": {
          "base_uri": "https://localhost:8080/",
          "height": 38
        },
        "id": "I0l00bFWw_Rz",
        "outputId": "793dcd03-a200-46fd-c7f3-fb571609e91c"
      },
      "execution_count": null,
      "outputs": [
        {
          "output_type": "execute_result",
          "data": {
            "text/plain": [
              "2**n"
            ],
            "text/latex": "$\\displaystyle 2^{n}$"
          },
          "metadata": {},
          "execution_count": 74
        }
      ]
    },
    {
      "cell_type": "code",
      "source": [
        "dominant(n**2 + Sum(k, (k,0,n)), n)"
      ],
      "metadata": {
        "id": "jxG5PKZRxMJA"
      },
      "execution_count": null,
      "outputs": []
    },
    {
      "cell_type": "code",
      "source": [
        "dominant(2*n*3 + Sum(k, (k,0,n)), n)"
      ],
      "metadata": {
        "colab": {
          "base_uri": "https://localhost:8080/",
          "height": 67
        },
        "id": "PBlyaGYzyOlV",
        "outputId": "a7d945af-66fb-4344-bf96-bc7ad8ff5027"
      },
      "execution_count": null,
      "outputs": [
        {
          "output_type": "execute_result",
          "data": {
            "text/plain": [
              "Sum(k, (k, 0, n))"
            ],
            "text/latex": "$\\displaystyle \\sum_{k=0}^{n} k$"
          },
          "metadata": {},
          "execution_count": 76
        }
      ]
    },
    {
      "cell_type": "code",
      "source": [
        "dominant(2*n**2 + Sum(k, (k,0,n)), n)"
      ],
      "metadata": {
        "id": "U5dsjBPOxr2_"
      },
      "execution_count": null,
      "outputs": []
    },
    {
      "cell_type": "code",
      "source": [
        "dominant(n**3 + Sum(k, (k,0,n)), n)"
      ],
      "metadata": {
        "colab": {
          "base_uri": "https://localhost:8080/",
          "height": 39
        },
        "id": "KS_NiO9EyFYD",
        "outputId": "d9a6fc19-a31b-458c-9d05-7983ee35f0ce"
      },
      "execution_count": null,
      "outputs": [
        {
          "output_type": "execute_result",
          "data": {
            "text/plain": [
              "n**3"
            ],
            "text/latex": "$\\displaystyle n^{3}$"
          },
          "metadata": {},
          "execution_count": 78
        }
      ]
    },
    {
      "cell_type": "code",
      "source": [
        "dominant(2*n**3 + Sum(k, (k,0,n)), n)"
      ],
      "metadata": {
        "colab": {
          "base_uri": "https://localhost:8080/",
          "height": 39
        },
        "id": "TwG30XB0yUu8",
        "outputId": "374c1ad9-9766-48f3-e3f0-42cbeed527b4"
      },
      "execution_count": null,
      "outputs": [
        {
          "output_type": "execute_result",
          "data": {
            "text/plain": [
              "2*n**3"
            ],
            "text/latex": "$\\displaystyle 2 n^{3}$"
          },
          "metadata": {},
          "execution_count": 79
        }
      ]
    },
    {
      "cell_type": "markdown",
      "source": [
        "**Thực hành 9: Xử lý chuỗi số (series) trong sympy**"
      ],
      "metadata": {
        "id": "OAx0wmzgtlK2"
      }
    },
    {
      "cell_type": "code",
      "source": [
        "from sympy import Sum  \n",
        "from sympy.abc import n, k  \n",
        "S = Sum(k, (k, 0, n))\n",
        "S"
      ],
      "metadata": {
        "id": "goXYs_ZHtxSB",
        "outputId": "8b33ad44-ddd5-46bb-97c8-bcd5bd36b030",
        "colab": {
          "base_uri": "https://localhost:8080/",
          "height": 67
        }
      },
      "execution_count": null,
      "outputs": [
        {
          "output_type": "execute_result",
          "data": {
            "text/plain": [
              "Sum(k, (k, 0, n))"
            ],
            "text/latex": "$\\displaystyle \\sum_{k=0}^{n} k$"
          },
          "metadata": {},
          "execution_count": 80
        }
      ]
    },
    {
      "cell_type": "code",
      "source": [
        "from sympy import limit_seq  \n",
        "limit_seq(S, n) "
      ],
      "metadata": {
        "id": "yiRfFAMh5CoJ",
        "outputId": "0288c0d5-87b3-4b55-9928-9053237771f4",
        "colab": {
          "base_uri": "https://localhost:8080/",
          "height": 38
        }
      },
      "execution_count": null,
      "outputs": [
        {
          "output_type": "execute_result",
          "data": {
            "text/plain": [
              "oo"
            ],
            "text/latex": "$\\displaystyle \\infty$"
          },
          "metadata": {},
          "execution_count": 81
        }
      ]
    },
    {
      "cell_type": "code",
      "source": [
        "from sympy import Symbol, cos, series  \n",
        "x = Symbol('x')  \n",
        "S1 = series(cos(x), x)  \n",
        "S1 "
      ],
      "metadata": {
        "id": "2paaXtf_8aX-",
        "outputId": "bf650e81-002d-47d0-c3cc-f6b7d1e53097",
        "colab": {
          "base_uri": "https://localhost:8080/",
          "height": 54
        }
      },
      "execution_count": null,
      "outputs": [
        {
          "output_type": "execute_result",
          "data": {
            "text/plain": [
              "1 - x**2/2 + x**4/24 + O(x**6)"
            ],
            "text/latex": "$\\displaystyle 1 - \\frac{x^{2}}{2} + \\frac{x^{4}}{24} + O\\left(x^{6}\\right)$"
          },
          "metadata": {},
          "execution_count": 82
        }
      ]
    },
    {
      "cell_type": "code",
      "source": [
        "from sympy.abc import n  \n",
        "e = (1+1/n)**n  \n",
        "print (round(e.subs(n, 100).evalf(),10))"
      ],
      "metadata": {
        "id": "VWozIWH08oJC",
        "outputId": "2235a24c-2083-41cd-aa48-580d0fa1b180",
        "colab": {
          "base_uri": "https://localhost:8080/"
        }
      },
      "execution_count": null,
      "outputs": [
        {
          "output_type": "stream",
          "name": "stdout",
          "text": [
            "2.7048138294\n"
          ]
        }
      ]
    }
  ]
}
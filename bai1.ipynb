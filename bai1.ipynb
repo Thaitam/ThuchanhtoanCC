{
  "nbformat": 4,
  "nbformat_minor": 0,
  "metadata": {
    "colab": {
      "name": "bai1.ipynb",
      "provenance": [],
      "authorship_tag": "ABX9TyPqzxZS+/3kx25n3bZZ043Y",
      "include_colab_link": true
    },
    "kernelspec": {
      "name": "python3",
      "display_name": "Python 3"
    },
    "language_info": {
      "name": "python"
    }
  },
  "cells": [
    {
      "cell_type": "markdown",
      "metadata": {
        "id": "view-in-github",
        "colab_type": "text"
      },
      "source": [
        "<a href=\"https://colab.research.google.com/github/Thaitam/ThuchanhtoanCC/blob/main/bai1.ipynb\" target=\"_parent\"><img src=\"https://colab.research.google.com/assets/colab-badge.svg\" alt=\"Open In Colab\"/></a>"
      ]
    },
    {
      "cell_type": "markdown",
      "source": [
        "\n",
        "#Thực hành 1"
      ],
      "metadata": {
        "id": "9srbSOfJGq1L"
      }
    },
    {
      "cell_type": "code",
      "execution_count": 191,
      "metadata": {
        "id": "ZFh3RNp5GkY4"
      },
      "outputs": [],
      "source": [
        "n = 1000000\n",
        "\n",
        "X = [5*k/n for k in range(600000, n + 1)] #dùng để tính dx\n",
        "#X = [2*k/n for k in range(0, n + 1)]"
      ]
    },
    {
      "cell_type": "code",
      "source": [
        "S = 0\n",
        "\n",
        "for k in range(1,n+1):\n",
        "  S = S + X[k]**2 * (X[k] - X[k-1]) \n",
        "#S = S + (số đứng trước dx) * (X[k] - X[k-1])\n",
        "print(S)\n"
      ],
      "metadata": {
        "colab": {
          "base_uri": "https://localhost:8080/",
          "height": 234
        },
        "id": "ZFA-aWTtHS99",
        "outputId": "1d5d2781-5302-4546-84e0-adac9843dc3f"
      },
      "execution_count": 192,
      "outputs": [
        {
          "output_type": "error",
          "ename": "IndexError",
          "evalue": "ignored",
          "traceback": [
            "\u001b[0;31m---------------------------------------------------------------------------\u001b[0m",
            "\u001b[0;31mIndexError\u001b[0m                                Traceback (most recent call last)",
            "\u001b[0;32m<ipython-input-192-d41f27795ae3>\u001b[0m in \u001b[0;36m<module>\u001b[0;34m()\u001b[0m\n\u001b[1;32m      2\u001b[0m \u001b[0;34m\u001b[0m\u001b[0m\n\u001b[1;32m      3\u001b[0m \u001b[0;32mfor\u001b[0m \u001b[0mk\u001b[0m \u001b[0;32min\u001b[0m \u001b[0mrange\u001b[0m\u001b[0;34m(\u001b[0m\u001b[0;36m1\u001b[0m\u001b[0;34m,\u001b[0m\u001b[0mn\u001b[0m\u001b[0;34m+\u001b[0m\u001b[0;36m1\u001b[0m\u001b[0;34m)\u001b[0m\u001b[0;34m:\u001b[0m\u001b[0;34m\u001b[0m\u001b[0;34m\u001b[0m\u001b[0m\n\u001b[0;32m----> 4\u001b[0;31m   \u001b[0mS\u001b[0m \u001b[0;34m=\u001b[0m \u001b[0mS\u001b[0m \u001b[0;34m+\u001b[0m \u001b[0mX\u001b[0m\u001b[0;34m[\u001b[0m\u001b[0mk\u001b[0m\u001b[0;34m]\u001b[0m\u001b[0;34m**\u001b[0m\u001b[0;36m2\u001b[0m \u001b[0;34m*\u001b[0m \u001b[0;34m(\u001b[0m\u001b[0mX\u001b[0m\u001b[0;34m[\u001b[0m\u001b[0mk\u001b[0m\u001b[0;34m]\u001b[0m \u001b[0;34m-\u001b[0m \u001b[0mX\u001b[0m\u001b[0;34m[\u001b[0m\u001b[0mk\u001b[0m\u001b[0;34m-\u001b[0m\u001b[0;36m1\u001b[0m\u001b[0;34m]\u001b[0m\u001b[0;34m)\u001b[0m\u001b[0;34m\u001b[0m\u001b[0;34m\u001b[0m\u001b[0m\n\u001b[0m\u001b[1;32m      5\u001b[0m \u001b[0;31m#S = S + (số đứng trước dx) * (X[k] - X[k-1])\u001b[0m\u001b[0;34m\u001b[0m\u001b[0;34m\u001b[0m\u001b[0;34m\u001b[0m\u001b[0m\n\u001b[1;32m      6\u001b[0m \u001b[0mprint\u001b[0m\u001b[0;34m(\u001b[0m\u001b[0mS\u001b[0m\u001b[0;34m)\u001b[0m\u001b[0;34m\u001b[0m\u001b[0;34m\u001b[0m\u001b[0m\n",
            "\u001b[0;31mIndexError\u001b[0m: list index out of range"
          ]
        }
      ]
    },
    {
      "cell_type": "markdown",
      "source": [
        "#Thực hành 2"
      ],
      "metadata": {
        "id": "G_ZMYaXIA72n"
      }
    },
    {
      "cell_type": "code",
      "source": [
        "from sympy import *\n",
        "a = Rational (1,2)\n",
        "print(a)\n",
        "print(a *2)\n",
        "print(oo>99)\n",
        "print(00 + 1)\n",
        "oo"
      ],
      "metadata": {
        "id": "iUBMeFgEA-5v",
        "outputId": "68608210-6880-499b-ad99-6a0f67e4a87b",
        "colab": {
          "base_uri": "https://localhost:8080/",
          "height": 106
        }
      },
      "execution_count": null,
      "outputs": [
        {
          "output_type": "stream",
          "name": "stdout",
          "text": [
            "1/2\n",
            "1\n",
            "True\n",
            "1\n"
          ]
        },
        {
          "output_type": "execute_result",
          "data": {
            "text/latex": "$\\displaystyle \\infty$",
            "text/plain": [
              "oo"
            ]
          },
          "metadata": {},
          "execution_count": 3
        }
      ]
    },
    {
      "cell_type": "code",
      "source": [
        ""
      ],
      "metadata": {
        "id": "-4Quu51RCUai"
      },
      "execution_count": null,
      "outputs": []
    },
    {
      "cell_type": "code",
      "source": [
        "from sympy import *\n",
        "print(pi.evalf()**2)\n",
        "print(pi.evalf())\n",
        "print((pi+exp(1)).evalf())"
      ],
      "metadata": {
        "id": "XbkccORFB_YC",
        "outputId": "a24cb2c2-ea16-46e4-de8a-bcff4a9c6de7",
        "colab": {
          "base_uri": "https://localhost:8080/"
        }
      },
      "execution_count": null,
      "outputs": [
        {
          "output_type": "stream",
          "name": "stdout",
          "text": [
            "9.86960440108936\n",
            "3.14159265358979\n",
            "5.85987448204884\n"
          ]
        }
      ]
    },
    {
      "cell_type": "markdown",
      "source": [
        "#Thực hành 3"
      ],
      "metadata": {
        "id": "ScEaAN4uB5mp"
      }
    },
    {
      "cell_type": "code",
      "source": [
        "print(Rational(1, 2) + Rational(1, 3))\n",
        "print(Rational(1, 2) + 1)\n",
        "print(Rational(1, 3) +1 + 1.5)"
      ],
      "metadata": {
        "id": "P9DLD8vMB7jm",
        "colab": {
          "base_uri": "https://localhost:8080/"
        },
        "outputId": "9110f188-8417-4307-bc86-2ab70bbffa8f"
      },
      "execution_count": null,
      "outputs": [
        {
          "output_type": "stream",
          "name": "stdout",
          "text": [
            "5/6\n",
            "3/2\n",
            "2.83333333333333\n"
          ]
        }
      ]
    },
    {
      "cell_type": "markdown",
      "source": [
        "#Thực hành 4"
      ],
      "metadata": {
        "id": "tjj9vUZ1DY35"
      }
    },
    {
      "cell_type": "code",
      "source": [
        "from sympy import *\n",
        "x = Symbol ('x')\n",
        "y = Symbol ('y')\n",
        "(x + y)**2"
      ],
      "metadata": {
        "colab": {
          "base_uri": "https://localhost:8080/",
          "height": 40
        },
        "id": "idd3WZSIDa-7",
        "outputId": "65ccdd27-fcca-4792-8cbb-d1567ab27ff4"
      },
      "execution_count": null,
      "outputs": [
        {
          "output_type": "execute_result",
          "data": {
            "text/latex": "$\\displaystyle \\left(x + y\\right)^{2}$",
            "text/plain": [
              "(x + y)**2"
            ]
          },
          "metadata": {},
          "execution_count": 74
        }
      ]
    },
    {
      "cell_type": "markdown",
      "source": [
        "#Thực hành 5\n"
      ],
      "metadata": {
        "id": "ELbLR0OiOHqe"
      }
    },
    {
      "cell_type": "markdown",
      "source": [
        "5a"
      ],
      "metadata": {
        "id": "O5PcWSPPQFle"
      }
    },
    {
      "cell_type": "code",
      "source": [
        "from sympy.solvers.solvers import denoms\n",
        "from sympy import *\n",
        "x = Symbol ('x')\n",
        "pt = (1/x) * 1/(x-3)\n",
        "dd = denoms(pt)\n",
        "print(dd)"
      ],
      "metadata": {
        "colab": {
          "base_uri": "https://localhost:8080/"
        },
        "id": "PDkg-yzbOOTq",
        "outputId": "0a0ca2c3-2612-4b6e-ad79-4eb3acf257ea"
      },
      "execution_count": null,
      "outputs": [
        {
          "output_type": "stream",
          "name": "stdout",
          "text": [
            "{x - 3, x}\n"
          ]
        }
      ]
    },
    {
      "cell_type": "markdown",
      "source": [
        "5b"
      ],
      "metadata": {
        "id": "M2cuL9LzQIi5"
      }
    },
    {
      "cell_type": "code",
      "source": [
        "eq = (1+1/x)/(x-1)\n",
        "from sympy.solvers.solvers import denoms\n",
        "loai_tru = set()\n",
        "for d in denoms(eq):\n",
        "  for s in solve(d):\n",
        "    loai_tru.add(s)\n",
        "\n",
        "print(loai_tru)\n"
      ],
      "metadata": {
        "colab": {
          "base_uri": "https://localhost:8080/"
        },
        "id": "p-N7waYNQLg5",
        "outputId": "3d90a52b-1bf1-4602-9ad6-75f5afa5c214"
      },
      "execution_count": null,
      "outputs": [
        {
          "output_type": "stream",
          "name": "stdout",
          "text": [
            "{0, 1}\n"
          ]
        }
      ]
    },
    {
      "cell_type": "markdown",
      "source": [
        "#Thực hành 6"
      ],
      "metadata": {
        "id": "Dgqt4IkBUFN2"
      }
    },
    {
      "cell_type": "code",
      "source": [
        "from sympy import Symbol\n",
        "x = Symbol ('x', positive = True)\n",
        "if (x+3) >0:\n",
        "  print('chắc chắn x+3 dương!') # nêu tông này là sô drong thi in ra câu này\n",
        "else:\n",
        "  print('chưa chắc x+3 dương')"
      ],
      "metadata": {
        "id": "P8H_UoHNUH9A",
        "colab": {
          "base_uri": "https://localhost:8080/"
        },
        "outputId": "18c26dfc-4644-4379-928a-62a490d42c75"
      },
      "execution_count": null,
      "outputs": [
        {
          "output_type": "stream",
          "name": "stdout",
          "text": [
            "chắc chắn x+3 dương!\n"
          ]
        }
      ]
    },
    {
      "cell_type": "code",
      "source": [
        "#x = Symbol('x',negative = True)\n",
        "#if (x+3)>0:\n",
        "  #print('Chac chan x+3 duong!')\n",
        "#else:\n",
        "  #print('x+3 chua chac la so duong!')"
      ],
      "metadata": {
        "id": "igRHHTUbEts9"
      },
      "execution_count": null,
      "outputs": []
    },
    {
      "cell_type": "markdown",
      "source": [
        "#Thực hành 7"
      ],
      "metadata": {
        "id": "QKw3tqflGj0y"
      }
    },
    {
      "cell_type": "code",
      "source": [
        "import math\n",
        "math. sin(math.pi/2)"
      ],
      "metadata": {
        "colab": {
          "base_uri": "https://localhost:8080/"
        },
        "id": "39d_wBw3Gne0",
        "outputId": "69080fcd-36cc-463f-db66-2b1fb574b634"
      },
      "execution_count": null,
      "outputs": [
        {
          "output_type": "execute_result",
          "data": {
            "text/plain": [
              "1.0"
            ]
          },
          "metadata": {},
          "execution_count": 84
        }
      ]
    },
    {
      "cell_type": "code",
      "source": [
        "import sympy\n",
        "print(sympy.sin(math.pi/2))"
      ],
      "metadata": {
        "colab": {
          "base_uri": "https://localhost:8080/"
        },
        "id": "9Div07znGtYH",
        "outputId": "6587b146-561a-4875-fb16-493073b042f9"
      },
      "execution_count": null,
      "outputs": [
        {
          "output_type": "stream",
          "name": "stdout",
          "text": [
            "1.00000000000000\n"
          ]
        }
      ]
    },
    {
      "cell_type": "code",
      "source": [
        "from sympy import Symbol\n",
        "goc_theta = Symbol (\"theta\")\n",
        "import math\n",
        "print(2*sympy.sin(goc_theta) == sympy.sin(goc_theta) + sympy.sin(goc_theta))\n",
        "import sympy\n",
        "print(sympy.sin (goc_theta) +sympy. sin (goc_theta))\n",
        "print((2*sympy.sin(goc_theta)*sympy.cos(goc_theta)).equals(sympy.sin(2*goc_theta)))\n"
      ],
      "metadata": {
        "colab": {
          "base_uri": "https://localhost:8080/"
        },
        "id": "oltTLsCaHMx6",
        "outputId": "5b83bf82-95b1-4ba8-abbd-a15c61e4bda6"
      },
      "execution_count": null,
      "outputs": [
        {
          "output_type": "stream",
          "name": "stdout",
          "text": [
            "True\n",
            "2*sin(theta)\n",
            "True\n"
          ]
        }
      ]
    },
    {
      "cell_type": "markdown",
      "source": [
        "#Thực hành 8"
      ],
      "metadata": {
        "id": "yl7Gs7XiNv8q"
      }
    },
    {
      "cell_type": "code",
      "source": [
        "from sympy import sin, solve, Symbol\n",
        "u = Symbol (\"u\")\n",
        "t = Symbol (\"t\")\n",
        "g = Symbol (\"g\")\n",
        "theta = Symbol ('theta')\n",
        "solve (u*sin (theta) -g*t, t)"
      ],
      "metadata": {
        "colab": {
          "base_uri": "https://localhost:8080/"
        },
        "id": "vgQugjtDNya_",
        "outputId": "0ac16574-42ed-4699-d282-69787ddb347d"
      },
      "execution_count": null,
      "outputs": [
        {
          "output_type": "execute_result",
          "data": {
            "text/plain": [
              "[u*sin(theta)/g]"
            ]
          },
          "metadata": {},
          "execution_count": 1
        }
      ]
    },
    {
      "cell_type": "markdown",
      "source": [
        "#Thực hành 9\n",
        "\n"
      ],
      "metadata": {
        "id": "cqvGl8PwN_-p"
      }
    },
    {
      "cell_type": "code",
      "source": [
        "from sympy import Limit, Symbol, S\n",
        "x = Symbol ('x')\n",
        "Limit (1/x, x, S. Infinity)\n",
        "Limit (1/x, x, oo, dir='-')\n",
        "gioihan = Limit (1/x, x, S. Infinity)\n",
        "gioihan.doit ()"
      ],
      "metadata": {
        "colab": {
          "base_uri": "https://localhost:8080/",
          "height": 38
        },
        "id": "QDj9qfaoOC7V",
        "outputId": "0c687dd5-748d-4fd8-c388-ea629167d52c"
      },
      "execution_count": null,
      "outputs": [
        {
          "output_type": "execute_result",
          "data": {
            "text/latex": "$\\displaystyle 0$",
            "text/plain": [
              "0"
            ]
          },
          "metadata": {},
          "execution_count": 121
        }
      ]
    },
    {
      "cell_type": "markdown",
      "source": [
        "#Thực hành 10"
      ],
      "metadata": {
        "id": "aW6bjP4SOar1"
      }
    },
    {
      "cell_type": "markdown",
      "source": [
        "10a"
      ],
      "metadata": {
        "id": "wJbCH0FTPZic"
      }
    },
    {
      "cell_type": "code",
      "source": [
        "from sympy import Limit\n",
        "Limit(1/x,x,0,dir ='-').doit()"
      ],
      "metadata": {
        "colab": {
          "base_uri": "https://localhost:8080/",
          "height": 38
        },
        "id": "FQcdZRkcOfLL",
        "outputId": "aa86ec5d-5da5-4a9f-f7f3-033fa0c03acf"
      },
      "execution_count": null,
      "outputs": [
        {
          "output_type": "execute_result",
          "data": {
            "text/latex": "$\\displaystyle -\\infty$",
            "text/plain": [
              "-oo"
            ]
          },
          "metadata": {},
          "execution_count": 124
        }
      ]
    },
    {
      "cell_type": "code",
      "source": [
        "from sympy import Limit\n",
        "Limit(1/x,x,0,dir ='+').doit()"
      ],
      "metadata": {
        "colab": {
          "base_uri": "https://localhost:8080/",
          "height": 38
        },
        "id": "aYgi54cgO55t",
        "outputId": "136b021a-fdc4-4d9d-a52f-f778142e1cf5"
      },
      "execution_count": null,
      "outputs": [
        {
          "output_type": "execute_result",
          "data": {
            "text/latex": "$\\displaystyle \\infty$",
            "text/plain": [
              "oo"
            ]
          },
          "metadata": {},
          "execution_count": 125
        }
      ]
    },
    {
      "cell_type": "markdown",
      "source": [
        "10b"
      ],
      "metadata": {
        "id": "zkFRYoKrPcJM"
      }
    },
    {
      "cell_type": "code",
      "source": [
        "from sympy import Symbol, sin\n",
        "Limit(sin(x)/x, x, 0).doit()"
      ],
      "metadata": {
        "colab": {
          "base_uri": "https://localhost:8080/",
          "height": 38
        },
        "id": "d0OwISS1Pc2w",
        "outputId": "f95a2fef-2161-4122-fea3-bea6935ea721"
      },
      "execution_count": null,
      "outputs": [
        {
          "output_type": "execute_result",
          "data": {
            "text/latex": "$\\displaystyle 1$",
            "text/plain": [
              "1"
            ]
          },
          "metadata": {},
          "execution_count": 126
        }
      ]
    },
    {
      "cell_type": "markdown",
      "source": [
        "#Thực hành 11"
      ],
      "metadata": {
        "id": "SaZS7F3sPqvb"
      }
    },
    {
      "cell_type": "code",
      "source": [
        "from sympy import Symbol,sin,S\n",
        "Limit(x*sin(1/x),x,S.Infinity)\n"
      ],
      "metadata": {
        "colab": {
          "base_uri": "https://localhost:8080/",
          "height": 58
        },
        "id": "fuaTJO0PPt65",
        "outputId": "45a18c3c-f127-49de-9486-f9c28bfabe40"
      },
      "execution_count": null,
      "outputs": [
        {
          "output_type": "execute_result",
          "data": {
            "text/latex": "$\\displaystyle \\lim_{x \\to \\infty}\\left(x \\sin{\\left(\\frac{1}{x} \\right)}\\right)$",
            "text/plain": [
              "Limit(x*sin(1/x), x, oo, dir='-')"
            ]
          },
          "metadata": {},
          "execution_count": 131
        }
      ]
    },
    {
      "cell_type": "code",
      "source": [
        "from sympy import Limit,sin,S\n",
        "Limit(x*sin(1/x),x,S.Infinity).doit()\n"
      ],
      "metadata": {
        "colab": {
          "base_uri": "https://localhost:8080/",
          "height": 38
        },
        "id": "S-bKq41fQzq_",
        "outputId": "40a6df7e-93c0-475f-98fc-4a3105e0ac11"
      },
      "execution_count": null,
      "outputs": [
        {
          "output_type": "execute_result",
          "data": {
            "text/latex": "$\\displaystyle 1$",
            "text/plain": [
              "1"
            ]
          },
          "metadata": {},
          "execution_count": 136
        }
      ]
    },
    {
      "cell_type": "code",
      "source": [
        "from sympy import Limit,Symbol,S\n",
        "n = Symbol('n')\n",
        "Limit((1+1/n)**n,n,S.Infinity).doit()"
      ],
      "metadata": {
        "colab": {
          "base_uri": "https://localhost:8080/",
          "height": 39
        },
        "id": "rzuemuEmRfg3",
        "outputId": "59927dae-2837-4b0f-e78f-c849364ac5ef"
      },
      "execution_count": null,
      "outputs": [
        {
          "output_type": "execute_result",
          "data": {
            "text/latex": "$\\displaystyle e$",
            "text/plain": [
              "E"
            ]
          },
          "metadata": {},
          "execution_count": 140
        }
      ]
    },
    {
      "cell_type": "markdown",
      "source": [
        "#Thực hành 12"
      ],
      "metadata": {
        "id": "yYaawGwASUlU"
      }
    },
    {
      "cell_type": "code",
      "source": [
        "from sympy import Symbol,S,Limit\n",
        "p = Symbol('p',positive=True)\n",
        "r = Symbol('r',positive=True)\n",
        "t = Symbol('t',positive=True)\n",
        "Limit(p*(1+r/n)**(n*t),n,S.Infinity)"
      ],
      "metadata": {
        "colab": {
          "base_uri": "https://localhost:8080/",
          "height": 58
        },
        "id": "nIvrIhKQSWjC",
        "outputId": "487c2bd3-ed85-4b76-fac8-4add64e87797"
      },
      "execution_count": null,
      "outputs": [
        {
          "output_type": "execute_result",
          "data": {
            "text/latex": "$\\displaystyle \\lim_{n \\to \\infty}\\left(p \\left(1 + \\frac{r}{n}\\right)^{n t}\\right)$",
            "text/plain": [
              "Limit(p*(1 + r/n)**(n*t), n, oo, dir='-')"
            ]
          },
          "metadata": {},
          "execution_count": 150
        }
      ]
    },
    {
      "cell_type": "code",
      "source": [
        "Limit(p*(1+r/n)**(n*t),n,S.Infinity).doit()"
      ],
      "metadata": {
        "colab": {
          "base_uri": "https://localhost:8080/",
          "height": 39
        },
        "id": "yT9TKhxdTdwJ",
        "outputId": "d927d580-d945-4d10-8819-ce4931ed4047"
      },
      "execution_count": null,
      "outputs": [
        {
          "output_type": "execute_result",
          "data": {
            "text/latex": "$\\displaystyle p e^{r t}$",
            "text/plain": [
              "p*exp(r*t)"
            ]
          },
          "metadata": {},
          "execution_count": 148
        }
      ]
    },
    {
      "cell_type": "markdown",
      "source": [
        "#Thực hành 13"
      ],
      "metadata": {
        "id": "COUE4DonT5sl"
      }
    },
    {
      "cell_type": "code",
      "source": [
        "from sympy import Symbol, Limit\n",
        "t = Symbol('t')\n",
        "St = 5*t**2 + 2*t + 8\n",
        "\n",
        "t1 = Symbol('t1')\n",
        "delta_t = Symbol('delta_t')\n",
        "\n",
        "St1  = St.subs({t :t1})\n",
        "St1_delta = St.subs({t :t1 + delta_t})"
      ],
      "metadata": {
        "id": "d8mFfB0-T8RI"
      },
      "execution_count": null,
      "outputs": []
    },
    {
      "cell_type": "markdown",
      "source": [
        "![image.png](data:image/png;base64,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)"
      ],
      "metadata": {
        "id": "x11VeZzSVN8q"
      }
    },
    {
      "cell_type": "markdown",
      "source": [
        "![image.png](data:image/png;base64,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)"
      ],
      "metadata": {
        "id": "eVj66eNLWbC5"
      }
    },
    {
      "cell_type": "code",
      "source": [
        "Limit((St1_delta-St1)/delta_t,delta_t,0).doit()\n"
      ],
      "metadata": {
        "colab": {
          "base_uri": "https://localhost:8080/",
          "height": 39
        },
        "id": "3n6TrCAhVeZ3",
        "outputId": "1c07aea1-5ba1-4cef-df58-a2c14b5e1a42"
      },
      "execution_count": null,
      "outputs": [
        {
          "output_type": "execute_result",
          "data": {
            "text/latex": "$\\displaystyle 10 t_{1} + 2$",
            "text/plain": [
              "10*t1 + 2"
            ]
          },
          "metadata": {},
          "execution_count": 154
        }
      ]
    },
    {
      "cell_type": "markdown",
      "source": [
        "#Bài Tập Chương 1"
      ],
      "metadata": {
        "id": "uJ4upcbrNIZD"
      }
    },
    {
      "cell_type": "markdown",
      "source": [
        "bài tập 1: Sai số và số có ý nghĩa trong Python"
      ],
      "metadata": {
        "id": "6An-T5XoNrR5"
      }
    },
    {
      "cell_type": "code",
      "source": [
        "a = 3.1; b=3.0; i = -1\n",
        "while (a != b):\n",
        "  print(a, \" != \", b)\n",
        "  a_new= a - 0.9* 10** (i)\n",
        "  if (a_new != a):\n",
        "    a = a_new\n",
        "    i=i-1\n",
        "  else:\n",
        "    print (i)\n",
        "    a = b"
      ],
      "metadata": {
        "colab": {
          "base_uri": "https://localhost:8080/"
        },
        "id": "BMJTYb0JNLJe",
        "outputId": "485f6714-8168-4bbc-a9fb-623fe5c8d127"
      },
      "execution_count": null,
      "outputs": [
        {
          "output_type": "stream",
          "name": "stdout",
          "text": [
            "3.1  !=  3.0\n",
            "3.0100000000000002  !=  3.0\n",
            "3.0010000000000003  !=  3.0\n",
            "3.0001  !=  3.0\n",
            "3.00001  !=  3.0\n",
            "3.000001  !=  3.0\n",
            "3.0000001000000003  !=  3.0\n",
            "3.0000000100000004  !=  3.0\n",
            "3.0000000010000005  !=  3.0\n",
            "3.0000000001000005  !=  3.0\n",
            "3.0000000000100004  !=  3.0\n",
            "3.0000000000010005  !=  3.0\n",
            "3.0000000000001004  !=  3.0\n",
            "3.00000000000001  !=  3.0\n",
            "3.0000000000000013  !=  3.0\n",
            "3.0000000000000004  !=  3.0\n",
            "-16\n"
          ]
        }
      ]
    },
    {
      "cell_type": "markdown",
      "source": [
        "bài tập 2: Thứ tự tính toán trong Python"
      ],
      "metadata": {
        "id": "Dbt-f3YzO5o4"
      }
    },
    {
      "cell_type": "code",
      "source": [
        "a = True\n",
        "b = False\n",
        "if  (a == b):\n",
        "  print (\"a=b\")\n",
        "else:\n",
        "  print (\"a khac b\")"
      ],
      "metadata": {
        "colab": {
          "base_uri": "https://localhost:8080/"
        },
        "id": "DzA5fMORPOSA",
        "outputId": "7404e7cd-9405-4ae5-8d17-7fb15f7462f8"
      },
      "execution_count": null,
      "outputs": [
        {
          "output_type": "stream",
          "name": "stdout",
          "text": [
            "a khac b\n"
          ]
        }
      ]
    }
  ]
}
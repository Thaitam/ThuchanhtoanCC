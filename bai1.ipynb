{
  "nbformat": 4,
  "nbformat_minor": 0,
  "metadata": {
    "colab": {
      "name": "bai1.ipynb",
      "provenance": [],
      "authorship_tag": "ABX9TyMkXsWpSFmJ+oP4jsBigjNH",
      "include_colab_link": true
    },
    "kernelspec": {
      "name": "python3",
      "display_name": "Python 3"
    },
    "language_info": {
      "name": "python"
    }
  },
  "cells": [
    {
      "cell_type": "markdown",
      "metadata": {
        "id": "view-in-github",
        "colab_type": "text"
      },
      "source": [
        "<a href=\"https://colab.research.google.com/github/Thaitam/ThuchanhtoanCC/blob/main/bai1.ipynb\" target=\"_parent\"><img src=\"https://colab.research.google.com/assets/colab-badge.svg\" alt=\"Open In Colab\"/></a>"
      ]
    },
    {
      "cell_type": "markdown",
      "source": [
        "\n",
        "#Thực hành 1"
      ],
      "metadata": {
        "id": "9srbSOfJGq1L"
      }
    },
    {
      "cell_type": "code",
      "execution_count": null,
      "metadata": {
        "id": "ZFh3RNp5GkY4"
      },
      "outputs": [],
      "source": [
        "n = 1000000\n",
        "\n",
        "X = [(2-0)*k/n for k in range(0, n+1)] #dùng để tính dx"
      ]
    },
    {
      "cell_type": "code",
      "source": [
        "S = 0\n",
        "\n",
        "for k in range(1, n + 1):\n",
        "\n",
        "  S = S + X[k]**2 * (X[k] - X[k-1]) \n",
        "#S = S + (số đứng trước dx) * (X[k] - X[k-1])\n",
        "print (S)"
      ],
      "metadata": {
        "colab": {
          "base_uri": "https://localhost:8080/"
        },
        "id": "ZFA-aWTtHS99",
        "outputId": "cd342339-4849-4f0c-db89-74626159f85e"
      },
      "execution_count": null,
      "outputs": [
        {
          "output_type": "stream",
          "name": "stdout",
          "text": [
            "2.6666706666680153\n"
          ]
        }
      ]
    },
    {
      "cell_type": "markdown",
      "source": [
        "#Thực hành 2"
      ],
      "metadata": {
        "id": "G_ZMYaXIA72n"
      }
    },
    {
      "cell_type": "code",
      "source": [
        "from sympy import *\n",
        "a = Rational (1,2)\n",
        "print(a)\n",
        "print(a *2)\n",
        "print(oo)\n",
        "print(oo>99)\n",
        "print(00 + 1)"
      ],
      "metadata": {
        "id": "iUBMeFgEA-5v",
        "outputId": "f5355410-2319-47d2-c4a7-1ed33769accd",
        "colab": {
          "base_uri": "https://localhost:8080/"
        }
      },
      "execution_count": null,
      "outputs": [
        {
          "output_type": "stream",
          "name": "stdout",
          "text": [
            "1/2\n",
            "1\n",
            "oo\n",
            "True\n",
            "1\n"
          ]
        }
      ]
    },
    {
      "cell_type": "code",
      "source": [
        "from sympy import *\n",
        "print(pi.evalf()**2)\n",
        "print(pi.evalf())\n",
        "print((pi+exp(1)).evalf())"
      ],
      "metadata": {
        "id": "XbkccORFB_YC",
        "outputId": "a24cb2c2-ea16-46e4-de8a-bcff4a9c6de7",
        "colab": {
          "base_uri": "https://localhost:8080/"
        }
      },
      "execution_count": null,
      "outputs": [
        {
          "output_type": "stream",
          "name": "stdout",
          "text": [
            "9.86960440108936\n",
            "3.14159265358979\n",
            "5.85987448204884\n"
          ]
        }
      ]
    },
    {
      "cell_type": "markdown",
      "source": [
        "#Thực hành 3"
      ],
      "metadata": {
        "id": "ScEaAN4uB5mp"
      }
    },
    {
      "cell_type": "code",
      "source": [
        "print(Rational(1, 2) + Rational(1, 3))\n",
        "print(Rational(1, 2) + 1)\n",
        "print(Rational(1, 3) +1 + 1.5)"
      ],
      "metadata": {
        "id": "P9DLD8vMB7jm",
        "colab": {
          "base_uri": "https://localhost:8080/"
        },
        "outputId": "9110f188-8417-4307-bc86-2ab70bbffa8f"
      },
      "execution_count": 61,
      "outputs": [
        {
          "output_type": "stream",
          "name": "stdout",
          "text": [
            "5/6\n",
            "3/2\n",
            "2.83333333333333\n"
          ]
        }
      ]
    },
    {
      "cell_type": "markdown",
      "source": [
        "#Thực hành 4"
      ],
      "metadata": {
        "id": "tjj9vUZ1DY35"
      }
    },
    {
      "cell_type": "code",
      "source": [
        "from sympy import *\n",
        "x = Symbol ('x')\n",
        "y = Symbol ('y')\n",
        "(x + y)**2"
      ],
      "metadata": {
        "colab": {
          "base_uri": "https://localhost:8080/",
          "height": 40
        },
        "id": "idd3WZSIDa-7",
        "outputId": "65ccdd27-fcca-4792-8cbb-d1567ab27ff4"
      },
      "execution_count": 74,
      "outputs": [
        {
          "output_type": "execute_result",
          "data": {
            "text/latex": "$\\displaystyle \\left(x + y\\right)^{2}$",
            "text/plain": [
              "(x + y)**2"
            ]
          },
          "metadata": {},
          "execution_count": 74
        }
      ]
    },
    {
      "cell_type": "markdown",
      "source": [
        "#Thực hành 5\n"
      ],
      "metadata": {
        "id": "ELbLR0OiOHqe"
      }
    },
    {
      "cell_type": "markdown",
      "source": [
        "5a"
      ],
      "metadata": {
        "id": "O5PcWSPPQFle"
      }
    },
    {
      "cell_type": "code",
      "source": [
        "from sympy.solvers.solvers import denoms\n",
        "from sympy import *\n",
        "x = Symbol ('x')\n",
        "pt = (1/x) * 1/(x-3)\n",
        "dd = denoms(pt)\n",
        "print(dd)"
      ],
      "metadata": {
        "colab": {
          "base_uri": "https://localhost:8080/"
        },
        "id": "PDkg-yzbOOTq",
        "outputId": "0a0ca2c3-2612-4b6e-ad79-4eb3acf257ea"
      },
      "execution_count": null,
      "outputs": [
        {
          "output_type": "stream",
          "name": "stdout",
          "text": [
            "{x - 3, x}\n"
          ]
        }
      ]
    },
    {
      "cell_type": "markdown",
      "source": [
        "5b"
      ],
      "metadata": {
        "id": "M2cuL9LzQIi5"
      }
    },
    {
      "cell_type": "code",
      "source": [
        "eq = (1+1/x)/(x-1)\n",
        "from sympy.solvers.solvers import denoms\n",
        "loai_tru = set()\n",
        "for d in denoms(eq):\n",
        "  for s in solve(d):\n",
        "    loai_tru.add(s)\n",
        "\n",
        "print(loai_tru)\n"
      ],
      "metadata": {
        "colab": {
          "base_uri": "https://localhost:8080/"
        },
        "id": "p-N7waYNQLg5",
        "outputId": "3d90a52b-1bf1-4602-9ad6-75f5afa5c214"
      },
      "execution_count": null,
      "outputs": [
        {
          "output_type": "stream",
          "name": "stdout",
          "text": [
            "{0, 1}\n"
          ]
        }
      ]
    },
    {
      "cell_type": "markdown",
      "source": [
        "#Thực hành 6"
      ],
      "metadata": {
        "id": "Dgqt4IkBUFN2"
      }
    },
    {
      "cell_type": "code",
      "source": [
        "from sympy import Symbol\n",
        "x = Symbol ('x', positive = True)\n",
        "if (x+3) >0:\n",
        "  print('chắc chắn x+3 dương!') # nêu tông này là sô drong thi in ra câu này\n",
        "else:\n",
        "  print('chưa chắc x+3 dương')"
      ],
      "metadata": {
        "id": "P8H_UoHNUH9A",
        "colab": {
          "base_uri": "https://localhost:8080/"
        },
        "outputId": "18c26dfc-4644-4379-928a-62a490d42c75"
      },
      "execution_count": 77,
      "outputs": [
        {
          "output_type": "stream",
          "name": "stdout",
          "text": [
            "chắc chắn x+3 dương!\n"
          ]
        }
      ]
    },
    {
      "cell_type": "code",
      "source": [
        "#x = Symbol('x',negative = True)\n",
        "#if (x+3)>0:\n",
        "  #print('Chac chan x+3 duong!')\n",
        "#else:\n",
        "  #print('x+3 chua chac la so duong!')"
      ],
      "metadata": {
        "id": "igRHHTUbEts9"
      },
      "execution_count": 83,
      "outputs": []
    }
  ]
}
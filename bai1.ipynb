{
  "nbformat": 4,
  "nbformat_minor": 0,
  "metadata": {
    "colab": {
      "name": "bai1.ipynb",
      "provenance": [],
      "authorship_tag": "ABX9TyNA+jhtV6pB5K3xaWRFiVXU",
      "include_colab_link": true
    },
    "kernelspec": {
      "name": "python3",
      "display_name": "Python 3"
    },
    "language_info": {
      "name": "python"
    }
  },
  "cells": [
    {
      "cell_type": "markdown",
      "metadata": {
        "id": "view-in-github",
        "colab_type": "text"
      },
      "source": [
        "<a href=\"https://colab.research.google.com/github/Thaitam/ThuchanhtoanCC/blob/main/bai1.ipynb\" target=\"_parent\"><img src=\"https://colab.research.google.com/assets/colab-badge.svg\" alt=\"Open In Colab\"/></a>"
      ]
    },
    {
      "cell_type": "markdown",
      "source": [
        "\n",
        "#Thực hành 1"
      ],
      "metadata": {
        "id": "9srbSOfJGq1L"
      }
    },
    {
      "cell_type": "code",
      "execution_count": null,
      "metadata": {
        "id": "ZFh3RNp5GkY4"
      },
      "outputs": [],
      "source": [
        "n = 1000000\n",
        "\n",
        "X = [(2-0)*k/n for k in range(0, n+1)] #dùng để tính dx"
      ]
    },
    {
      "cell_type": "code",
      "source": [
        "S = 0\n",
        "\n",
        "for k in range(1, n + 1):\n",
        "\n",
        "  S = S + X[k]**2 * (X[k] - X[k-1]) \n",
        "#S = S + (số đứng trước dx) * (X[k] - X[k-1])\n",
        "print (S)"
      ],
      "metadata": {
        "colab": {
          "base_uri": "https://localhost:8080/"
        },
        "id": "ZFA-aWTtHS99",
        "outputId": "cd342339-4849-4f0c-db89-74626159f85e"
      },
      "execution_count": null,
      "outputs": [
        {
          "output_type": "stream",
          "name": "stdout",
          "text": [
            "2.6666706666680153\n"
          ]
        }
      ]
    },
    {
      "cell_type": "markdown",
      "source": [
        "#Thực hành 2"
      ],
      "metadata": {
        "id": "G_ZMYaXIA72n"
      }
    },
    {
      "cell_type": "code",
      "source": [
        "from sympy import *\n",
        "a = Rational (1,2)\n",
        "print(a)\n",
        "print(a *2)\n",
        "print(oo)\n",
        "print(oo>99)\n",
        "print(00 + 1)"
      ],
      "metadata": {
        "id": "iUBMeFgEA-5v",
        "outputId": "f5355410-2319-47d2-c4a7-1ed33769accd",
        "colab": {
          "base_uri": "https://localhost:8080/"
        }
      },
      "execution_count": null,
      "outputs": [
        {
          "output_type": "stream",
          "name": "stdout",
          "text": [
            "1/2\n",
            "1\n",
            "oo\n",
            "True\n",
            "1\n"
          ]
        }
      ]
    },
    {
      "cell_type": "code",
      "source": [
        "from sympy import *\n",
        "print(pi.evalf()**2)\n",
        "print(pi.evalf())\n",
        "print((pi+exp(1)).evalf())"
      ],
      "metadata": {
        "id": "XbkccORFB_YC",
        "outputId": "a24cb2c2-ea16-46e4-de8a-bcff4a9c6de7",
        "colab": {
          "base_uri": "https://localhost:8080/"
        }
      },
      "execution_count": null,
      "outputs": [
        {
          "output_type": "stream",
          "name": "stdout",
          "text": [
            "9.86960440108936\n",
            "3.14159265358979\n",
            "5.85987448204884\n"
          ]
        }
      ]
    },
    {
      "cell_type": "markdown",
      "source": [
        "#Thực hành 3"
      ],
      "metadata": {
        "id": "ScEaAN4uB5mp"
      }
    },
    {
      "cell_type": "code",
      "source": [
        "print(Rational(1, 2) + Rational(1, 3))\n",
        "print(Rational(1, 2) + 1)\n",
        "print(Rational(1, 3) +1 + 1.5)"
      ],
      "metadata": {
        "id": "P9DLD8vMB7jm",
        "colab": {
          "base_uri": "https://localhost:8080/"
        },
        "outputId": "9110f188-8417-4307-bc86-2ab70bbffa8f"
      },
      "execution_count": 61,
      "outputs": [
        {
          "output_type": "stream",
          "name": "stdout",
          "text": [
            "5/6\n",
            "3/2\n",
            "2.83333333333333\n"
          ]
        }
      ]
    },
    {
      "cell_type": "markdown",
      "source": [
        "#Thực hành 4"
      ],
      "metadata": {
        "id": "tjj9vUZ1DY35"
      }
    },
    {
      "cell_type": "code",
      "source": [
        "from sympy import *\n",
        "x = Symbol ('x')\n",
        "y = Symbol ('y')\n",
        "(x + y)**2"
      ],
      "metadata": {
        "colab": {
          "base_uri": "https://localhost:8080/",
          "height": 40
        },
        "id": "idd3WZSIDa-7",
        "outputId": "65ccdd27-fcca-4792-8cbb-d1567ab27ff4"
      },
      "execution_count": 74,
      "outputs": [
        {
          "output_type": "execute_result",
          "data": {
            "text/latex": "$\\displaystyle \\left(x + y\\right)^{2}$",
            "text/plain": [
              "(x + y)**2"
            ]
          },
          "metadata": {},
          "execution_count": 74
        }
      ]
    },
    {
      "cell_type": "markdown",
      "source": [
        "#Thực hành 5\n"
      ],
      "metadata": {
        "id": "ELbLR0OiOHqe"
      }
    },
    {
      "cell_type": "markdown",
      "source": [
        "5a"
      ],
      "metadata": {
        "id": "O5PcWSPPQFle"
      }
    },
    {
      "cell_type": "code",
      "source": [
        "from sympy.solvers.solvers import denoms\n",
        "from sympy import *\n",
        "x = Symbol ('x')\n",
        "pt = (1/x) * 1/(x-3)\n",
        "dd = denoms(pt)\n",
        "print(dd)"
      ],
      "metadata": {
        "colab": {
          "base_uri": "https://localhost:8080/"
        },
        "id": "PDkg-yzbOOTq",
        "outputId": "0a0ca2c3-2612-4b6e-ad79-4eb3acf257ea"
      },
      "execution_count": null,
      "outputs": [
        {
          "output_type": "stream",
          "name": "stdout",
          "text": [
            "{x - 3, x}\n"
          ]
        }
      ]
    },
    {
      "cell_type": "markdown",
      "source": [
        "5b"
      ],
      "metadata": {
        "id": "M2cuL9LzQIi5"
      }
    },
    {
      "cell_type": "code",
      "source": [
        "eq = (1+1/x)/(x-1)\n",
        "from sympy.solvers.solvers import denoms\n",
        "loai_tru = set()\n",
        "for d in denoms(eq):\n",
        "  for s in solve(d):\n",
        "    loai_tru.add(s)\n",
        "\n",
        "print(loai_tru)\n"
      ],
      "metadata": {
        "colab": {
          "base_uri": "https://localhost:8080/"
        },
        "id": "p-N7waYNQLg5",
        "outputId": "3d90a52b-1bf1-4602-9ad6-75f5afa5c214"
      },
      "execution_count": null,
      "outputs": [
        {
          "output_type": "stream",
          "name": "stdout",
          "text": [
            "{0, 1}\n"
          ]
        }
      ]
    },
    {
      "cell_type": "markdown",
      "source": [
        "#Thực hành 6"
      ],
      "metadata": {
        "id": "Dgqt4IkBUFN2"
      }
    },
    {
      "cell_type": "code",
      "source": [
        "from sympy import Symbol\n",
        "x = Symbol ('x', positive = True)\n",
        "if (x+3) >0:\n",
        "  print('chắc chắn x+3 dương!') # nêu tông này là sô drong thi in ra câu này\n",
        "else:\n",
        "  print('chưa chắc x+3 dương')"
      ],
      "metadata": {
        "id": "P8H_UoHNUH9A",
        "colab": {
          "base_uri": "https://localhost:8080/"
        },
        "outputId": "18c26dfc-4644-4379-928a-62a490d42c75"
      },
      "execution_count": 77,
      "outputs": [
        {
          "output_type": "stream",
          "name": "stdout",
          "text": [
            "chắc chắn x+3 dương!\n"
          ]
        }
      ]
    },
    {
      "cell_type": "code",
      "source": [
        "#x = Symbol('x',negative = True)\n",
        "#if (x+3)>0:\n",
        "  #print('Chac chan x+3 duong!')\n",
        "#else:\n",
        "  #print('x+3 chua chac la so duong!')"
      ],
      "metadata": {
        "id": "igRHHTUbEts9"
      },
      "execution_count": 83,
      "outputs": []
    },
    {
      "cell_type": "markdown",
      "source": [
        "#Thực hành 7"
      ],
      "metadata": {
        "id": "QKw3tqflGj0y"
      }
    },
    {
      "cell_type": "code",
      "source": [
        "import math\n",
        "math. sin(math.pi/2)"
      ],
      "metadata": {
        "colab": {
          "base_uri": "https://localhost:8080/"
        },
        "id": "39d_wBw3Gne0",
        "outputId": "69080fcd-36cc-463f-db66-2b1fb574b634"
      },
      "execution_count": 84,
      "outputs": [
        {
          "output_type": "execute_result",
          "data": {
            "text/plain": [
              "1.0"
            ]
          },
          "metadata": {},
          "execution_count": 84
        }
      ]
    },
    {
      "cell_type": "code",
      "source": [
        "import sympy\n",
        "print(sympy.sin(math.pi/2))"
      ],
      "metadata": {
        "colab": {
          "base_uri": "https://localhost:8080/"
        },
        "id": "9Div07znGtYH",
        "outputId": "6587b146-561a-4875-fb16-493073b042f9"
      },
      "execution_count": 105,
      "outputs": [
        {
          "output_type": "stream",
          "name": "stdout",
          "text": [
            "1.00000000000000\n"
          ]
        }
      ]
    },
    {
      "cell_type": "code",
      "source": [
        "from sympy import Symbol\n",
        "goc_theta = Symbol (\"theta\")\n",
        "import math\n",
        "print(2*sympy.sin(goc_theta) == sympy.sin(goc_theta) + sympy.sin(goc_theta))\n",
        "import sympy\n",
        "print(sympy.sin (goc_theta) +sympy. sin (goc_theta))\n",
        "print((2*sympy.sin(goc_theta)*sympy.cos(goc_theta)).equals(sympy.sin(2*goc_theta)))\n"
      ],
      "metadata": {
        "colab": {
          "base_uri": "https://localhost:8080/"
        },
        "id": "oltTLsCaHMx6",
        "outputId": "5b83bf82-95b1-4ba8-abbd-a15c61e4bda6"
      },
      "execution_count": 117,
      "outputs": [
        {
          "output_type": "stream",
          "name": "stdout",
          "text": [
            "True\n",
            "2*sin(theta)\n",
            "True\n"
          ]
        }
      ]
    },
    {
      "cell_type": "markdown",
      "source": [
        "#Thực hành 8"
      ],
      "metadata": {
        "id": "yl7Gs7XiNv8q"
      }
    },
    {
      "cell_type": "code",
      "source": [
        "from sympy import sin, solve, Symbol\n",
        "u = Symbol (\"u\")\n",
        "t = Symbol (\"E\")\n",
        "g = Symbol (\"g\")\n",
        "theta = Symbol ('theta')\n",
        "solve (u*sin (theta) -g*t, t)"
      ],
      "metadata": {
        "colab": {
          "base_uri": "https://localhost:8080/"
        },
        "id": "vgQugjtDNya_",
        "outputId": "a30608f2-feea-4dc2-dde6-0f23dc2da7a6"
      },
      "execution_count": 118,
      "outputs": [
        {
          "output_type": "execute_result",
          "data": {
            "text/plain": [
              "[u*sin(theta)/g]"
            ]
          },
          "metadata": {},
          "execution_count": 118
        }
      ]
    },
    {
      "cell_type": "markdown",
      "source": [
        "#Thực hành 9\n",
        "\n"
      ],
      "metadata": {
        "id": "cqvGl8PwN_-p"
      }
    },
    {
      "cell_type": "code",
      "source": [
        "from sympy import Limit, Symbol, S\n",
        "x = Symbol ('x')\n",
        "Limit (1/x, x, S. Infinity)\n",
        "Limit (1/x, x, oo, dir='-')\n",
        "gioihan = Limit (1/x, x, S. Infinity)\n",
        "gioihan.doit ()"
      ],
      "metadata": {
        "colab": {
          "base_uri": "https://localhost:8080/",
          "height": 38
        },
        "id": "QDj9qfaoOC7V",
        "outputId": "0c687dd5-748d-4fd8-c388-ea629167d52c"
      },
      "execution_count": 121,
      "outputs": [
        {
          "output_type": "execute_result",
          "data": {
            "text/latex": "$\\displaystyle 0$",
            "text/plain": [
              "0"
            ]
          },
          "metadata": {},
          "execution_count": 121
        }
      ]
    },
    {
      "cell_type": "markdown",
      "source": [
        "#Thực hành 10"
      ],
      "metadata": {
        "id": "aW6bjP4SOar1"
      }
    },
    {
      "cell_type": "markdown",
      "source": [
        "10a"
      ],
      "metadata": {
        "id": "wJbCH0FTPZic"
      }
    },
    {
      "cell_type": "code",
      "source": [
        "from sympy import Limit\n",
        "Limit(1/x,x,0,dir ='-').doit()"
      ],
      "metadata": {
        "colab": {
          "base_uri": "https://localhost:8080/",
          "height": 38
        },
        "id": "FQcdZRkcOfLL",
        "outputId": "aa86ec5d-5da5-4a9f-f7f3-033fa0c03acf"
      },
      "execution_count": 124,
      "outputs": [
        {
          "output_type": "execute_result",
          "data": {
            "text/latex": "$\\displaystyle -\\infty$",
            "text/plain": [
              "-oo"
            ]
          },
          "metadata": {},
          "execution_count": 124
        }
      ]
    },
    {
      "cell_type": "code",
      "source": [
        "from sympy import Limit\n",
        "Limit(1/x,x,0,dir ='+').doit()"
      ],
      "metadata": {
        "colab": {
          "base_uri": "https://localhost:8080/",
          "height": 38
        },
        "id": "aYgi54cgO55t",
        "outputId": "136b021a-fdc4-4d9d-a52f-f778142e1cf5"
      },
      "execution_count": 125,
      "outputs": [
        {
          "output_type": "execute_result",
          "data": {
            "text/latex": "$\\displaystyle \\infty$",
            "text/plain": [
              "oo"
            ]
          },
          "metadata": {},
          "execution_count": 125
        }
      ]
    },
    {
      "cell_type": "markdown",
      "source": [
        "10b"
      ],
      "metadata": {
        "id": "zkFRYoKrPcJM"
      }
    },
    {
      "cell_type": "code",
      "source": [
        "from sympy import Symbol, sin\n",
        "Limit(sin(x)/x, x, 0).doit()"
      ],
      "metadata": {
        "colab": {
          "base_uri": "https://localhost:8080/",
          "height": 38
        },
        "id": "d0OwISS1Pc2w",
        "outputId": "f95a2fef-2161-4122-fea3-bea6935ea721"
      },
      "execution_count": 126,
      "outputs": [
        {
          "output_type": "execute_result",
          "data": {
            "text/latex": "$\\displaystyle 1$",
            "text/plain": [
              "1"
            ]
          },
          "metadata": {},
          "execution_count": 126
        }
      ]
    },
    {
      "cell_type": "markdown",
      "source": [
        "#Thực hành 11"
      ],
      "metadata": {
        "id": "SaZS7F3sPqvb"
      }
    },
    {
      "cell_type": "code",
      "source": [
        "from sympy import Symbol,sin,S\n",
        "Limit(x*sin(1/x),x,S.Infinity)\n"
      ],
      "metadata": {
        "colab": {
          "base_uri": "https://localhost:8080/",
          "height": 58
        },
        "id": "fuaTJO0PPt65",
        "outputId": "45a18c3c-f127-49de-9486-f9c28bfabe40"
      },
      "execution_count": 131,
      "outputs": [
        {
          "output_type": "execute_result",
          "data": {
            "text/latex": "$\\displaystyle \\lim_{x \\to \\infty}\\left(x \\sin{\\left(\\frac{1}{x} \\right)}\\right)$",
            "text/plain": [
              "Limit(x*sin(1/x), x, oo, dir='-')"
            ]
          },
          "metadata": {},
          "execution_count": 131
        }
      ]
    },
    {
      "cell_type": "code",
      "source": [
        "from sympy import Limit,sin,S\n",
        "Limit(x*sin(1/x),x,S.Infinity).doit()\n"
      ],
      "metadata": {
        "colab": {
          "base_uri": "https://localhost:8080/",
          "height": 38
        },
        "id": "S-bKq41fQzq_",
        "outputId": "40a6df7e-93c0-475f-98fc-4a3105e0ac11"
      },
      "execution_count": 136,
      "outputs": [
        {
          "output_type": "execute_result",
          "data": {
            "text/latex": "$\\displaystyle 1$",
            "text/plain": [
              "1"
            ]
          },
          "metadata": {},
          "execution_count": 136
        }
      ]
    },
    {
      "cell_type": "code",
      "source": [
        "from sympy import Limit,Symbol,S\n",
        "n = Symbol('n')\n",
        "Limit((1+1/n)**n,n,S.Infinity).doit()"
      ],
      "metadata": {
        "colab": {
          "base_uri": "https://localhost:8080/",
          "height": 39
        },
        "id": "rzuemuEmRfg3",
        "outputId": "59927dae-2837-4b0f-e78f-c849364ac5ef"
      },
      "execution_count": 140,
      "outputs": [
        {
          "output_type": "execute_result",
          "data": {
            "text/latex": "$\\displaystyle e$",
            "text/plain": [
              "E"
            ]
          },
          "metadata": {},
          "execution_count": 140
        }
      ]
    },
    {
      "cell_type": "markdown",
      "source": [
        "#Thực hành 12"
      ],
      "metadata": {
        "id": "yYaawGwASUlU"
      }
    },
    {
      "cell_type": "code",
      "source": [
        "from sympy import Symbol,S,Limit\n",
        "p = Symbol('p',positive=True)\n",
        "r = Symbol('r',positive=True)\n",
        "t = Symbol('t',positive=True)\n",
        "Limit(p*(1+r/n)**(n*t),n,S.Infinity)"
      ],
      "metadata": {
        "id": "nIvrIhKQSWjC",
        "outputId": "487c2bd3-ed85-4b76-fac8-4add64e87797",
        "colab": {
          "base_uri": "https://localhost:8080/",
          "height": 58
        }
      },
      "execution_count": 150,
      "outputs": [
        {
          "output_type": "execute_result",
          "data": {
            "text/latex": "$\\displaystyle \\lim_{n \\to \\infty}\\left(p \\left(1 + \\frac{r}{n}\\right)^{n t}\\right)$",
            "text/plain": [
              "Limit(p*(1 + r/n)**(n*t), n, oo, dir='-')"
            ]
          },
          "metadata": {},
          "execution_count": 150
        }
      ]
    },
    {
      "cell_type": "code",
      "source": [
        "Limit(p*(1+r/n)**(n*t),n,S.Infinity).doit()"
      ],
      "metadata": {
        "id": "yT9TKhxdTdwJ",
        "outputId": "d927d580-d945-4d10-8819-ce4931ed4047",
        "colab": {
          "base_uri": "https://localhost:8080/",
          "height": 39
        }
      },
      "execution_count": 148,
      "outputs": [
        {
          "output_type": "execute_result",
          "data": {
            "text/latex": "$\\displaystyle p e^{r t}$",
            "text/plain": [
              "p*exp(r*t)"
            ]
          },
          "metadata": {},
          "execution_count": 148
        }
      ]
    }
  ]
}
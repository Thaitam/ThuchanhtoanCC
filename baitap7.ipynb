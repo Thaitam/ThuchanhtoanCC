{
  "nbformat": 4,
  "nbformat_minor": 0,
  "metadata": {
    "colab": {
      "name": "baitap7.ipynb",
      "provenance": [],
      "authorship_tag": "ABX9TyOoz+aHDs3HIPOJgHQ4WRHi",
      "include_colab_link": true
    },
    "kernelspec": {
      "name": "python3",
      "display_name": "Python 3"
    },
    "language_info": {
      "name": "python"
    }
  },
  "cells": [
    {
      "cell_type": "markdown",
      "metadata": {
        "id": "view-in-github",
        "colab_type": "text"
      },
      "source": [
        "<a href=\"https://colab.research.google.com/github/Thaitam/ThuchanhtoanCC/blob/main/baitap7.ipynb\" target=\"_parent\"><img src=\"https://colab.research.google.com/assets/colab-badge.svg\" alt=\"Open In Colab\"/></a>"
      ]
    },
    {
      "cell_type": "markdown",
      "source": [
        "# **BÀI TẬP CHƯƠNG 7**"
      ],
      "metadata": {
        "id": "CPat6N8M816i"
      }
    },
    {
      "cell_type": "markdown",
      "source": [
        "**Bài tập 1**"
      ],
      "metadata": {
        "id": "Crdt-tBw-ObX"
      }
    },
    {
      "cell_type": "markdown",
      "source": [
        "**a.**"
      ],
      "metadata": {
        "id": "0PG01IWO-RAN"
      }
    },
    {
      "cell_type": "code",
      "source": [
        "from sympy import Symbol, Integral, Derivative, sqrt, ln\n",
        "x = Symbol('x')\n",
        "f = (x**2)/8 - ln(x)\n",
        "d1 = Derivative(f,x).doit()\n",
        "d1"
      ],
      "metadata": {
        "id": "o3e6FXYq9LSz",
        "outputId": "62579116-b6c9-41a8-ab4f-5779a7a8912a",
        "colab": {
          "base_uri": "https://localhost:8080/",
          "height": 51
        }
      },
      "execution_count": null,
      "outputs": [
        {
          "output_type": "execute_result",
          "data": {
            "text/plain": [
              "x/4 - 1/x"
            ],
            "text/latex": "$\\displaystyle \\frac{x}{4} - \\frac{1}{x}$"
          },
          "metadata": {},
          "execution_count": 91
        }
      ]
    },
    {
      "cell_type": "code",
      "source": [
        "d2 = sqrt(1+d1**2)\n",
        "d3 = Integral(d2, (x, 1, 2))\n",
        "d3.doit()"
      ],
      "metadata": {
        "id": "7u-mGDQZ9nrF",
        "outputId": "a85ba8af-fa2c-4c77-ae19-89d43e506238",
        "colab": {
          "base_uri": "https://localhost:8080/",
          "height": 79
        }
      },
      "execution_count": null,
      "outputs": [
        {
          "output_type": "execute_result",
          "data": {
            "text/plain": [
              "Integral(x, (x, 1, 2))/4 + Integral(4/x, (x, 1, 2))/4"
            ],
            "text/latex": "$\\displaystyle \\frac{\\int\\limits_{1}^{2} x\\, dx}{4} + \\frac{\\int\\limits_{1}^{2} \\frac{4}{x}\\, dx}{4}$"
          },
          "metadata": {},
          "execution_count": 92
        }
      ]
    },
    {
      "cell_type": "markdown",
      "source": [
        "**b.**"
      ],
      "metadata": {
        "id": "Ih6sA2Oo-UMG"
      }
    },
    {
      "cell_type": "code",
      "source": [
        "from sympy import Symbol, Integral, Derivative, sqrt\n",
        "x = Symbol('x')\n",
        "a = Symbol('a')\n",
        "f = (1/3) * (((x**2) +2)**3/2)\n",
        "d1 = Derivative(f,x).doit()\n",
        "d1"
      ],
      "metadata": {
        "id": "-mEGQtdz-Trs",
        "outputId": "8c8e13fd-2862-4d46-88d1-6003ed626fa7",
        "colab": {
          "base_uri": "https://localhost:8080/",
          "height": 42
        }
      },
      "execution_count": null,
      "outputs": [
        {
          "output_type": "execute_result",
          "data": {
            "text/plain": [
              "1.0*x*(x**2 + 2)**2"
            ],
            "text/latex": "$\\displaystyle 1.0 x \\left(x^{2} + 2\\right)^{2}$"
          },
          "metadata": {},
          "execution_count": 93
        }
      ]
    },
    {
      "cell_type": "code",
      "source": [
        "d2 = sqrt(1+d1**2)\n",
        "d3 = Integral(d2, (x, 0, a))\n",
        "d3.doit()"
      ],
      "metadata": {
        "id": "umvJjGn3_MUb",
        "outputId": "c96cacd7-a4e2-43f0-cedf-00274bd9939d",
        "colab": {
          "base_uri": "https://localhost:8080/",
          "height": 77
        }
      },
      "execution_count": null,
      "outputs": [
        {
          "output_type": "execute_result",
          "data": {
            "text/plain": [
              "4.12310562561766*Integral(1.37198868114007*sqrt(0.03125*x**10 + 0.25*x**8 + 0.75*x**6 + x**4 + 0.5*x**2 + 0.03125), (x, 0, a))"
            ],
            "text/latex": "$\\displaystyle 4.12310562561766 \\int\\limits_{0}^{a} 1.37198868114007 \\sqrt{0.03125 x^{10} + 0.25 x^{8} + 0.75 x^{6} + x^{4} + 0.5 x^{2} + 0.03125}\\, dx$"
          },
          "metadata": {},
          "execution_count": 94
        }
      ]
    },
    {
      "cell_type": "markdown",
      "source": [
        "**c.**"
      ],
      "metadata": {
        "id": "HLUz08Wt_XOc"
      }
    },
    {
      "cell_type": "code",
      "source": [
        "from sympy import Symbol, Integral, Derivative, sqrt, ln, sin, pi\n",
        "x = Symbol('x')\n",
        "f = ln(sin(x))\n",
        "d1 = Derivative(f,x).doit()\n",
        "d1"
      ],
      "metadata": {
        "id": "iHPULNYX_Yoq",
        "outputId": "0e686819-8387-4c8f-be78-73a28e98fe21",
        "colab": {
          "base_uri": "https://localhost:8080/",
          "height": 57
        }
      },
      "execution_count": null,
      "outputs": [
        {
          "output_type": "execute_result",
          "data": {
            "text/plain": [
              "cos(x)/sin(x)"
            ],
            "text/latex": "$\\displaystyle \\frac{\\cos{\\left(x \\right)}}{\\sin{\\left(x \\right)}}$"
          },
          "metadata": {},
          "execution_count": 95
        }
      ]
    },
    {
      "cell_type": "code",
      "source": [
        "d2 = sqrt(1+d1**2)\n",
        "d3 = Integral(d2, (x, pi/4, pi/3))\n",
        "d3"
      ],
      "metadata": {
        "id": "Wb1qCmQ8_qp6",
        "outputId": "03dfbd45-a00b-406a-e153-4d03def8e44a",
        "colab": {
          "base_uri": "https://localhost:8080/",
          "height": 87
        }
      },
      "execution_count": null,
      "outputs": [
        {
          "output_type": "execute_result",
          "data": {
            "text/plain": [
              "Integral(sqrt(1 + cos(x)**2/sin(x)**2), (x, pi/4, pi/3))"
            ],
            "text/latex": "$\\displaystyle \\int\\limits_{\\frac{\\pi}{4}}^{\\frac{\\pi}{3}} \\sqrt{1 + \\frac{\\cos^{2}{\\left(x \\right)}}{\\sin^{2}{\\left(x \\right)}}}\\, dx$"
          },
          "metadata": {},
          "execution_count": 97
        }
      ]
    },
    {
      "cell_type": "code",
      "source": [
        "d3.doit()"
      ],
      "metadata": {
        "id": "TdACZ4llArMq",
        "outputId": "1a1d8cd6-1647-46bf-a4e6-54a524dad4e1",
        "colab": {
          "base_uri": "https://localhost:8080/",
          "height": 87
        }
      },
      "execution_count": null,
      "outputs": [
        {
          "output_type": "execute_result",
          "data": {
            "text/plain": [
              "Integral(sqrt(sin(x)**2 + cos(x)**2)/Abs(sin(x)), (x, pi/4, pi/3))"
            ],
            "text/latex": "$\\displaystyle \\int\\limits_{\\frac{\\pi}{4}}^{\\frac{\\pi}{3}} \\frac{\\sqrt{\\sin^{2}{\\left(x \\right)} + \\cos^{2}{\\left(x \\right)}}}{\\left|{\\sin{\\left(x \\right)}}\\right|}\\, dx$"
          },
          "metadata": {},
          "execution_count": 98
        }
      ]
    },
    {
      "cell_type": "markdown",
      "source": [
        "**Bài tập 2**"
      ],
      "metadata": {
        "id": "YNkoPDmyAzRi"
      }
    },
    {
      "cell_type": "code",
      "source": [
        "from sympy import Symbol, Integral, Derivative, exp\n",
        "t = Symbol('t')\n",
        "u = Symbol('u')\n",
        "v = Symbol('v')\n",
        "du = Symbol('du')\n",
        "dv = Symbol('dv')\n",
        "f = 20*t*exp(-0.6*t)\n",
        "u = t\n",
        "v = 1/(-0.6) * exp(-0.6*t)\n",
        "du = Derivative(u,t)\n",
        "dv = Derivative(v,t)\n",
        "d2 = u * v\n",
        "d4 = d2.subs({t:0}).evalf()\n",
        "d5 = d2.subs({t:10}).evalf()\n",
        "d3 = v * du\n",
        "tich_phan = (d5 - d4) - Integral(d3, (t, 0, 10))\n",
        "tich_phan.doit()"
      ],
      "metadata": {
        "id": "3fLu_1f9A17o",
        "outputId": "0889de53-300f-4281-f715-eb003f736bad",
        "colab": {
          "base_uri": "https://localhost:8080/",
          "height": 38
        }
      },
      "execution_count": null,
      "outputs": [
        {
          "output_type": "execute_result",
          "data": {
            "text/plain": [
              "2.72957981878704"
            ],
            "text/latex": "$\\displaystyle 2.72957981878704$"
          },
          "metadata": {},
          "execution_count": 104
        }
      ]
    }
  ]
}
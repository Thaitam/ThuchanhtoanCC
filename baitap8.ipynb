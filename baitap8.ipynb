{
  "nbformat": 4,
  "nbformat_minor": 0,
  "metadata": {
    "colab": {
      "name": "baitap8.ipynb",
      "provenance": [],
      "authorship_tag": "ABX9TyPjK0WC7eZLmuDavrz+BHYi",
      "include_colab_link": true
    },
    "kernelspec": {
      "name": "python3",
      "display_name": "Python 3"
    },
    "language_info": {
      "name": "python"
    }
  },
  "cells": [
    {
      "cell_type": "markdown",
      "metadata": {
        "id": "view-in-github",
        "colab_type": "text"
      },
      "source": [
        "<a href=\"https://colab.research.google.com/github/Thaitam/ThuchanhtoanCC/blob/main/baitap8.ipynb\" target=\"_parent\"><img src=\"https://colab.research.google.com/assets/colab-badge.svg\" alt=\"Open In Colab\"/></a>"
      ]
    },
    {
      "cell_type": "markdown",
      "source": [
        "# **BÀI TẬP CHƯƠNG 8**"
      ],
      "metadata": {
        "id": "UIuNfLFhs3t1"
      }
    },
    {
      "cell_type": "markdown",
      "source": [
        "**Bài tập 1**"
      ],
      "metadata": {
        "id": "OQrve4cAs_rc"
      }
    },
    {
      "cell_type": "code",
      "source": [
        "from sympy import solve, Symbol, Derivative\n",
        "x = Symbol('x')  \n",
        "y = Symbol('y')  \n",
        "z = Symbol('z')\n",
        "p = Symbol('p')\n",
        "g = x + y + z -5\n",
        "L = x*y**2*z**2 + p * (x + y + z -5)\n",
        "Lx = Derivative(L, x).doit()\n",
        "Ly = Derivative(L, y).doit()\n",
        "Lz = Derivative(L, z).doit()"
      ],
      "metadata": {
        "id": "V2epQn93tMZQ"
      },
      "execution_count": null,
      "outputs": []
    },
    {
      "cell_type": "code",
      "source": [
        "nghiem = solve([Lx, Ly, Lz, g], (x,y,z,p), domain = S.Reals)\n",
        "print(nghiem)"
      ],
      "metadata": {
        "id": "pgBC3PbNzdkd",
        "outputId": "0714e10a-b46d-4991-8588-4e3fa67a5c53",
        "colab": {
          "base_uri": "https://localhost:8080/"
        }
      },
      "execution_count": null,
      "outputs": [
        {
          "output_type": "stream",
          "name": "stdout",
          "text": [
            "[(0, 0, 5, 0), (1, 2, 2, -16), (5/3, 10/3, 0, 0), (5 - y, y, 0, 0), (5 - z, 0, z, 0)]\n"
          ]
        }
      ]
    },
    {
      "cell_type": "code",
      "source": [
        "x = 0\n",
        "y = 0 \n",
        "z = 0\n",
        "f = x*y**2*z**2\n",
        "f"
      ],
      "metadata": {
        "id": "Z_XoSIQB8F1B",
        "outputId": "bb47017a-b563-47e4-f699-65f999119b91",
        "colab": {
          "base_uri": "https://localhost:8080/"
        }
      },
      "execution_count": null,
      "outputs": [
        {
          "output_type": "execute_result",
          "data": {
            "text/plain": [
              "0"
            ]
          },
          "metadata": {},
          "execution_count": 42
        }
      ]
    },
    {
      "cell_type": "code",
      "source": [
        "x = 5/3\n",
        "y = 10/3\n",
        "z = 0\n",
        "f = x*y**2*z**2\n",
        "f"
      ],
      "metadata": {
        "id": "KihoNRj88eKc",
        "outputId": "f505a844-3509-4004-ad5d-8e67aeb74466",
        "colab": {
          "base_uri": "https://localhost:8080/"
        }
      },
      "execution_count": null,
      "outputs": [
        {
          "output_type": "execute_result",
          "data": {
            "text/plain": [
              "0.0"
            ]
          },
          "metadata": {},
          "execution_count": 43
        }
      ]
    },
    {
      "cell_type": "code",
      "source": [
        "x = 1\n",
        "y = 2\n",
        "z = 2 \n",
        "f = x*y**2*z**2\n",
        "f \n",
        "# nhập giá trị (1,2,2) vì làm cho f(x,y,z) lớn nhất"
      ],
      "metadata": {
        "id": "7o-w9NtA8YrV",
        "outputId": "aadcadcd-eb42-4fb5-fe4d-b38ef90590df",
        "colab": {
          "base_uri": "https://localhost:8080/"
        }
      },
      "execution_count": null,
      "outputs": [
        {
          "output_type": "execute_result",
          "data": {
            "text/plain": [
              "16"
            ]
          },
          "metadata": {},
          "execution_count": 44
        }
      ]
    },
    {
      "cell_type": "markdown",
      "source": [
        "**Bài tập 2**"
      ],
      "metadata": {
        "id": "F-HtS_eD8yDo"
      }
    },
    {
      "cell_type": "code",
      "source": [
        "from sympy import Derivative, Symbol, solve \n",
        "x = Symbol('x')  \n",
        "y = Symbol('y')\n",
        "f1 = 500*(y-x)/365\n",
        "f2 = (45000+500*(x-2*y))/365\n",
        "nghiem = solve([f1, f2], (x,y), domain = S.Reals)\n",
        "print(nghiem)"
      ],
      "metadata": {
        "id": "99Atuz9z87jp",
        "outputId": "761594af-f211-4666-ecfb-651d7014ceeb",
        "colab": {
          "base_uri": "https://localhost:8080/"
        }
      },
      "execution_count": null,
      "outputs": [
        {
          "output_type": "stream",
          "name": "stdout",
          "text": [
            "{x: 90, y: 90}\n"
          ]
        }
      ]
    }
  ]
}
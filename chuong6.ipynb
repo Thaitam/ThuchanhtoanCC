{
  "nbformat": 4,
  "nbformat_minor": 0,
  "metadata": {
    "colab": {
      "name": "chuong6.ipynb",
      "provenance": [],
      "collapsed_sections": [],
      "include_colab_link": true
    },
    "kernelspec": {
      "name": "python3",
      "display_name": "Python 3"
    },
    "language_info": {
      "name": "python"
    }
  },
  "cells": [
    {
      "cell_type": "markdown",
      "metadata": {
        "id": "view-in-github",
        "colab_type": "text"
      },
      "source": [
        "<a href=\"https://colab.research.google.com/github/Thaitam/ThuchanhtoanCC/blob/main/chuong6.ipynb\" target=\"_parent\"><img src=\"https://colab.research.google.com/assets/colab-badge.svg\" alt=\"Open In Colab\"/></a>"
      ]
    },
    {
      "cell_type": "markdown",
      "source": [
        "# ***CHƯƠNG 6: HÀM SỐ, DÃY VÀ MỘT SỐ ỨNG DỤNG***"
      ],
      "metadata": {
        "id": "oZfpvyNSht7L"
      }
    },
    {
      "cell_type": "markdown",
      "source": [
        "**Thực hành 1: Viết hàm đệ quy tính n!**"
      ],
      "metadata": {
        "id": "0kxilk9HhvRt"
      }
    },
    {
      "cell_type": "code",
      "execution_count": null,
      "metadata": {
        "id": "JGhflGYdhp8L"
      },
      "outputs": [],
      "source": [
        "import math \n",
        "def giaithua(n):\n",
        "  if (n==0):\n",
        "    return 1\n",
        "  else:\n",
        "    return n*giaithua(n-1)"
      ]
    },
    {
      "cell_type": "code",
      "source": [
        "giaithua(3)"
      ],
      "metadata": {
        "colab": {
          "base_uri": "https://localhost:8080/"
        },
        "id": "279sPok3jIz9",
        "outputId": "2d69854d-112d-4d0b-e1a9-b8888e736f33"
      },
      "execution_count": null,
      "outputs": [
        {
          "output_type": "execute_result",
          "data": {
            "text/plain": [
              "6"
            ]
          },
          "metadata": {},
          "execution_count": 2
        }
      ]
    },
    {
      "cell_type": "code",
      "source": [
        "giaithua(4)"
      ],
      "metadata": {
        "colab": {
          "base_uri": "https://localhost:8080/"
        },
        "id": "KNYDbCy4jMbl",
        "outputId": "cae0d314-1e23-47cf-a83f-192f7c5381e5"
      },
      "execution_count": null,
      "outputs": [
        {
          "output_type": "execute_result",
          "data": {
            "text/plain": [
              "24"
            ]
          },
          "metadata": {},
          "execution_count": 3
        }
      ]
    },
    {
      "cell_type": "markdown",
      "source": [
        "**Thực hành 2: Viết hàm đệ quy tính dãy số Fibonacci**"
      ],
      "metadata": {
        "id": "P-bXMmC9jZCZ"
      }
    },
    {
      "cell_type": "code",
      "source": [
        "def fibo(n):\n",
        "  if n ==0:\n",
        "    return 0\n",
        "  if n==1:\n",
        "    return 1\n",
        "  return fibo(n-1) + fibo(n-2)"
      ],
      "metadata": {
        "id": "X-V83l6-jcTe"
      },
      "execution_count": null,
      "outputs": []
    },
    {
      "cell_type": "code",
      "source": [
        "fibo(4)"
      ],
      "metadata": {
        "colab": {
          "base_uri": "https://localhost:8080/"
        },
        "id": "ck4UNUd9j0rS",
        "outputId": "4b19a93c-af14-499f-d6b2-60c32371c93e"
      },
      "execution_count": null,
      "outputs": [
        {
          "output_type": "execute_result",
          "data": {
            "text/plain": [
              "3"
            ]
          },
          "metadata": {},
          "execution_count": 5
        }
      ]
    },
    {
      "cell_type": "code",
      "source": [
        "fibo(5)"
      ],
      "metadata": {
        "colab": {
          "base_uri": "https://localhost:8080/"
        },
        "id": "LqFDsNlqj3z5",
        "outputId": "11b1a7dd-cd35-44f6-db2d-8245c2687f30"
      },
      "execution_count": null,
      "outputs": [
        {
          "output_type": "execute_result",
          "data": {
            "text/plain": [
              "5"
            ]
          },
          "metadata": {},
          "execution_count": 6
        }
      ]
    },
    {
      "cell_type": "code",
      "source": [
        "fibo(6)"
      ],
      "metadata": {
        "colab": {
          "base_uri": "https://localhost:8080/"
        },
        "id": "c3X-uqPbkCv4",
        "outputId": "3987f801-3a76-4974-dfd8-a604c1b73bd5"
      },
      "execution_count": null,
      "outputs": [
        {
          "output_type": "execute_result",
          "data": {
            "text/plain": [
              "8"
            ]
          },
          "metadata": {},
          "execution_count": 7
        }
      ]
    },
    {
      "cell_type": "markdown",
      "source": [
        "**Thực hành 3: Chứng minh dãy có giới hạn và tìm giới hạn của dãy**"
      ],
      "metadata": {
        "id": "jEd2otZQj0Gd"
      }
    },
    {
      "cell_type": "code",
      "source": [
        "def an_exp_an(n):\n",
        "  if n==1:\n",
        "    return 1.0/2\n",
        "  else:\n",
        "    return an_exp_an(n-1)**an_exp_an(n-1)"
      ],
      "metadata": {
        "id": "iIAqBtGMkXh1"
      },
      "execution_count": null,
      "outputs": []
    },
    {
      "cell_type": "code",
      "source": [
        "an_exp_an(1)"
      ],
      "metadata": {
        "colab": {
          "base_uri": "https://localhost:8080/"
        },
        "id": "Ndz_gVjrk2BH",
        "outputId": "ccb0a048-58ec-43bc-a3d4-887216dac5e6"
      },
      "execution_count": null,
      "outputs": [
        {
          "output_type": "execute_result",
          "data": {
            "text/plain": [
              "0.5"
            ]
          },
          "metadata": {},
          "execution_count": 9
        }
      ]
    },
    {
      "cell_type": "code",
      "source": [
        "an_exp_an(2)"
      ],
      "metadata": {
        "colab": {
          "base_uri": "https://localhost:8080/"
        },
        "id": "3-l3z9eDk5y5",
        "outputId": "9cf5d082-e65c-4416-cb71-fa9e3ae03070"
      },
      "execution_count": null,
      "outputs": [
        {
          "output_type": "execute_result",
          "data": {
            "text/plain": [
              "0.7071067811865476"
            ]
          },
          "metadata": {},
          "execution_count": 10
        }
      ]
    },
    {
      "cell_type": "code",
      "source": [
        "an_exp_an(3)"
      ],
      "metadata": {
        "colab": {
          "base_uri": "https://localhost:8080/"
        },
        "id": "XlAAzNNuk-KU",
        "outputId": "4e3697ce-23cd-4966-f6f1-f769a5672fee"
      },
      "execution_count": null,
      "outputs": [
        {
          "output_type": "execute_result",
          "data": {
            "text/plain": [
              "0.7826540273556803"
            ]
          },
          "metadata": {},
          "execution_count": 11
        }
      ]
    },
    {
      "cell_type": "code",
      "source": [
        "an_exp_an(4)"
      ],
      "metadata": {
        "colab": {
          "base_uri": "https://localhost:8080/"
        },
        "id": "Vhe9lPWvk-R5",
        "outputId": "de9e1b1e-86c1-4aeb-fc84-fdd47941a986"
      },
      "execution_count": null,
      "outputs": [
        {
          "output_type": "execute_result",
          "data": {
            "text/plain": [
              "0.8254713306050621"
            ]
          },
          "metadata": {},
          "execution_count": 12
        }
      ]
    },
    {
      "cell_type": "code",
      "source": [
        "an_exp_an(5)"
      ],
      "metadata": {
        "colab": {
          "base_uri": "https://localhost:8080/"
        },
        "id": "lY-bjiPwk-Yy",
        "outputId": "5a06b218-12e9-4b1f-d9a6-824107089cf4"
      },
      "execution_count": null,
      "outputs": [
        {
          "output_type": "execute_result",
          "data": {
            "text/plain": [
              "0.8535714578150946"
            ]
          },
          "metadata": {},
          "execution_count": 13
        }
      ]
    },
    {
      "cell_type": "code",
      "source": [
        "an_exp_an(10)"
      ],
      "metadata": {
        "colab": {
          "base_uri": "https://localhost:8080/"
        },
        "id": "dK89hrMtlFeY",
        "outputId": "1a49eb5e-91e9-4eca-f9bf-59e5c6388603"
      },
      "execution_count": null,
      "outputs": [
        {
          "output_type": "execute_result",
          "data": {
            "text/plain": [
              "0.9176411981636667"
            ]
          },
          "metadata": {},
          "execution_count": 14
        }
      ]
    },
    {
      "cell_type": "markdown",
      "source": [
        "**Thực hành 4: Chứng minh dãy có giới hạn và tìm giới hạn của dãy**"
      ],
      "metadata": {
        "id": "_VbT7ao5lODb"
      }
    },
    {
      "cell_type": "code",
      "source": [
        "def bai4(n):\n",
        "  if n == 1:\n",
        "    return 4\n",
        "  else:\n",
        "    return 5.0/(6-bai4(n-1))"
      ],
      "metadata": {
        "id": "xl7gj19elRw6"
      },
      "execution_count": null,
      "outputs": []
    },
    {
      "cell_type": "code",
      "source": [
        "bai4(5)"
      ],
      "metadata": {
        "colab": {
          "base_uri": "https://localhost:8080/"
        },
        "id": "8i5h31Xkl2JV",
        "outputId": "f5078e5b-d49d-438d-d022-8ede809775a4"
      },
      "execution_count": null,
      "outputs": [
        {
          "output_type": "execute_result",
          "data": {
            "text/plain": [
              "1.019108280254777"
            ]
          },
          "metadata": {},
          "execution_count": 16
        }
      ]
    },
    {
      "cell_type": "code",
      "source": [
        "bai4(6)"
      ],
      "metadata": {
        "colab": {
          "base_uri": "https://localhost:8080/"
        },
        "id": "mDLEJR7Il52U",
        "outputId": "01c7ee08-9f68-4e1e-cff2-1109a7622761"
      },
      "execution_count": null,
      "outputs": [
        {
          "output_type": "execute_result",
          "data": {
            "text/plain": [
              "1.0038363171355498"
            ]
          },
          "metadata": {},
          "execution_count": 17
        }
      ]
    },
    {
      "cell_type": "code",
      "source": [
        "bai4(7)"
      ],
      "metadata": {
        "colab": {
          "base_uri": "https://localhost:8080/"
        },
        "id": "rL4E7_h3l6Ex",
        "outputId": "2eb5ec48-a612-4ee0-c5e0-441c3f16da36"
      },
      "execution_count": null,
      "outputs": [
        {
          "output_type": "execute_result",
          "data": {
            "text/plain": [
              "1.000767852572306"
            ]
          },
          "metadata": {},
          "execution_count": 18
        }
      ]
    },
    {
      "cell_type": "code",
      "source": [
        "bai4(10)"
      ],
      "metadata": {
        "colab": {
          "base_uri": "https://localhost:8080/"
        },
        "id": "6BtJTNv1l_E5",
        "outputId": "9f4992fe-52bf-4923-9cad-53a7e9be02e4"
      },
      "execution_count": null,
      "outputs": [
        {
          "output_type": "execute_result",
          "data": {
            "text/plain": [
              "1.0000061439905628"
            ]
          },
          "metadata": {},
          "execution_count": 19
        }
      ]
    },
    {
      "cell_type": "code",
      "source": [
        "bai4(100)"
      ],
      "metadata": {
        "colab": {
          "base_uri": "https://localhost:8080/"
        },
        "id": "d_3m_NwHmArT",
        "outputId": "76f92c84-0d3a-47fe-b239-749d227a6547"
      },
      "execution_count": null,
      "outputs": [
        {
          "output_type": "execute_result",
          "data": {
            "text/plain": [
              "1.0"
            ]
          },
          "metadata": {},
          "execution_count": 20
        }
      ]
    },
    {
      "cell_type": "markdown",
      "source": [
        "Thực hành 5: Xét giới hạn của dãy an = Fn+1/fn biết dãy Fibonacci được định nghĩa như sau:"
      ],
      "metadata": {
        "id": "E18LDNTCmXvE"
      }
    },
    {
      "cell_type": "code",
      "source": [
        "def tisoFibo(n):\n",
        "  if n==1: \n",
        "    return 1 \n",
        "  else: \n",
        "    return 1.0 + 1.0/tisoFibo(n-1)\n",
        "for i in range(1, 11): \n",
        "  print (i, tisoFibo(i))"
      ],
      "metadata": {
        "colab": {
          "base_uri": "https://localhost:8080/"
        },
        "id": "MLzDt-V0mrt1",
        "outputId": "5ee4690b-5c66-4c60-d7df-db87b5a0d32a"
      },
      "execution_count": null,
      "outputs": [
        {
          "output_type": "stream",
          "name": "stdout",
          "text": [
            "1 1\n",
            "2 2.0\n",
            "3 1.5\n",
            "4 1.6666666666666665\n",
            "5 1.6\n",
            "6 1.625\n",
            "7 1.6153846153846154\n",
            "8 1.619047619047619\n",
            "9 1.6176470588235294\n",
            "10 1.6181818181818182\n"
          ]
        }
      ]
    },
    {
      "cell_type": "code",
      "source": [
        "from sympy import Symbol, plot, sqrt\n",
        "x = Symbol('x')\n",
        "f = (2*x+1)/(x+1)\n",
        "plot(f, (x,(1-sqrt(5))/2, 10))"
      ],
      "metadata": {
        "colab": {
          "base_uri": "https://localhost:8080/",
          "height": 314
        },
        "id": "hV-X5Q3UtRXO",
        "outputId": "f8d4e459-80a1-4df9-872d-05f78f1f5dcc"
      },
      "execution_count": null,
      "outputs": [
        {
          "output_type": "display_data",
          "data": {
            "image/png": "[encoded data removed]",
            "text/plain": [
              "<Figure size 432x288 with 1 Axes>"
            ]
          },
          "metadata": {
            "needs_background": "light"
          }
        },
        {
          "output_type": "execute_result",
          "data": {
            "text/plain": [
              "<sympy.plotting.plot.Plot at 0x7ff3c56c5110>"
            ]
          },
          "metadata": {},
          "execution_count": 22
        }
      ]
    },
    {
      "cell_type": "markdown",
      "source": [
        "**3.1.Chương trình tổng quát về Gradient Ascent**"
      ],
      "metadata": {
        "id": "_7pSCsihv504"
      }
    },
    {
      "cell_type": "code",
      "source": [
        "from sympy import Derivative, Symbol, sympify \n",
        "def grad_ascent(x0, ham_f1x, x):     \n",
        "  epsilon = 1e-6     \n",
        "  step_size = 1e-4     \n",
        "  x_old = x0     \n",
        "  x_new = x_old + step_size*ham_f1x.subs({x:x_old}).evalf()     \n",
        "  while abs(x_old - x_new) > epsilon:         \n",
        "    x_old = x_new         \n",
        "    x_new = x_old + step_size*ham_f1x.subs({x:x_old}).evalf()\n",
        "    return x_new \n",
        "if __name__ == '__main__':     \n",
        "  f = input('Nhap ham 1 bien (f): ')     \n",
        "  var = input('Nhap ten bien tuong ung (x): ')     \n",
        "  var0 = float(input('Nhap gia tri khoi dau cho bien x: ')) \n",
        "  try:         \n",
        "    f = sympify(f)  # kiem tra ham     \n",
        "  except SympifyError:         \n",
        "    print('Ham nhap khong hop le!')     \n",
        "  else:         \n",
        "    var = Symbol(var)         \n",
        "    d = Derivative(f, var).doit()         \n",
        "    var_max = grad_ascent(var0, d, var)         \n",
        "    print('{0}: {1}'.format(var.name, var_max))         \n",
        "    print('Maximum value: {0}'.format(f.subs({var:var_max}))) "
      ],
      "metadata": {
        "colab": {
          "base_uri": "https://localhost:8080/"
        },
        "id": "PXGOvKwPwDLN",
        "outputId": "163af042-fcef-4896-97ff-f6a76580b2de"
      },
      "execution_count": null,
      "outputs": [
        {
          "output_type": "stream",
          "name": "stdout",
          "text": [
            "Nhap ham 1 bien (f): 25*25*sin(2*theta)/9.8 \n",
            "Nhap ten bien tuong ung (x): theta\n",
            "Nhap gia tri khoi dau cho bien x: 0.001\n",
            "theta: 0.0265053522908712\n",
            "Maximum value: 3.37920154330593\n"
          ]
        }
      ]
    },
    {
      "cell_type": "code",
      "source": [
        "from sympy import Derivative, Symbol, sympify \n",
        "def grad_ascent(x0, ham_f1x, x):     \n",
        "  epsilon = 1e-6     \n",
        "  step_size = 1e-4     \n",
        "  x_old = x0     \n",
        "  x_new = x_old + step_size*ham_f1x.subs({x:x_old}).evalf()     \n",
        "  while abs(x_old - x_new) > epsilon:         \n",
        "    x_old = x_new         \n",
        "    x_new = x_old + step_size*ham_f1x.subs({x:x_old}).evalf()\n",
        "    return x_new \n",
        "if __name__ == '__main__':     \n",
        "  f = input('Nhap ham 1 bien (f): ')     \n",
        "  var = input('Nhap ten bien tuong ung (x): ')     \n",
        "  var0 = float(input('Nhap gia tri khoi dau cho bien x: ')) \n",
        "  try:         \n",
        "    f = sympify(f)  # kiem tra ham     \n",
        "  except SympifyError:         \n",
        "    print('Ham nhap khong hop le!')     \n",
        "  else:         \n",
        "    var = Symbol(var)         \n",
        "    d = Derivative(f, var).doit()         \n",
        "    var_max = grad_ascent(var0, d, var)         \n",
        "    print('{0}: {1}'.format(var.name, var_max))         \n",
        "    print('Maximum value: {0}'.format(f.subs({var:var_max}))) "
      ],
      "metadata": {
        "colab": {
          "base_uri": "https://localhost:8080/"
        },
        "id": "5wTT8x03yk66",
        "outputId": "6d39297e-2ac7-4070-fc55-65dce3ddf51a"
      },
      "execution_count": null,
      "outputs": [
        {
          "output_type": "stream",
          "name": "stdout",
          "text": [
            "Nhap ham 1 bien (f): cos(t)\n",
            "Nhap ten bien tuong ung (x): t\n",
            "Nhap gia tri khoi dau cho bien x: 0.01\n",
            "t: None\n",
            "Maximum value: cos(t)\n"
          ]
        }
      ]
    },
    {
      "cell_type": "code",
      "source": [
        "from sympy import Derivative, Symbol, sympify \n",
        "def grad_ascent(x0, ham_f1x, x):     \n",
        "  epsilon = 1e-6     \n",
        "  step_size = 1e-4     \n",
        "  x_old = x0     \n",
        "  x_new = x_old + step_size*ham_f1x.subs({x:x_old}).evalf()     \n",
        "  while abs(x_old - x_new) > epsilon:         \n",
        "    x_old = x_new         \n",
        "    x_new = x_old + step_size*ham_f1x.subs({x:x_old}).evalf()\n",
        "    return x_new \n",
        "if __name__ == '__main__':     \n",
        "  f = input('Nhap ham 1 bien (f): ')     \n",
        "  var = input('Nhap ten bien tuong ung (x): ')     \n",
        "  var0 = float(input('Nhap gia tri khoi dau cho bien x: ')) \n",
        "  try:         \n",
        "    f = sympify(f)  # kiem tra ham     \n",
        "  except SympifyError:         \n",
        "    print('Ham nhap khong hop le!')     \n",
        "  else:         \n",
        "    var = Symbol(var)         \n",
        "    d = Derivative(f, var).doit()         \n",
        "    var_max = grad_ascent(var0, d, var)         \n",
        "    print('{0}: {1}'.format(var.name, var_max))         \n",
        "    print('Maximum value: {0}'.format(f.subs({var:var_max}))) "
      ],
      "metadata": {
        "colab": {
          "base_uri": "https://localhost:8080/"
        },
        "id": "u6SutLjAzayz",
        "outputId": "b10be460-83cc-4a1e-b1e6-702adcae6179"
      },
      "execution_count": null,
      "outputs": [
        {
          "output_type": "stream",
          "name": "stdout",
          "text": [
            "Nhap ham 1 bien (f): cos(t)+p\n",
            "Nhap ten bien tuong ung (x): t\n",
            "Nhap gia tri khoi dau cho bien x: 0.01\n",
            "t: None\n",
            "Maximum value: p + cos(t)\n"
          ]
        }
      ]
    },
    {
      "cell_type": "markdown",
      "source": [
        "**3.2.Các lưu ý về giá trị khởi tạo ban đầu (initial value)**"
      ],
      "metadata": {
        "id": "1-zJ8tTcwBDp"
      }
    },
    {
      "cell_type": "code",
      "source": [
        "from sympy import Derivative, Symbol, sympify \n",
        "def grad_ascent(x0, ham_f1x, x):     \n",
        "  epsilon = 1e-6     \n",
        "  step_size = 1e-4     \n",
        "  x_old = x0     \n",
        "  x_new = x_old + step_size*ham_f1x.subs({x:x_old}).evalf()     \n",
        "  while abs(x_old - x_new) > epsilon:         \n",
        "    x_old = x_new         \n",
        "    x_new = x_old + step_size*ham_f1x.subs({x:x_old}).evalf()\n",
        "    return x_new \n",
        "if __name__ == '__main__':     \n",
        "  f = input('Nhap ham 1 bien (f): ')     \n",
        "  var = input('Nhap ten bien tuong ung (x): ')     \n",
        "  var0 = float(input('Nhap gia tri khoi dau cho bien x: ')) \n",
        "  try:         \n",
        "    f = sympify(f)  # kiem tra ham     \n",
        "  except SympifyError:\n",
        "    print('Ham nhap khong hop le!')     \n",
        "  else:         \n",
        "    var = Symbol(var)         \n",
        "    d = Derivative(f, var).doit()         \n",
        "    var_max = grad_ascent(var0, d, var)         \n",
        "    print('{0}: {1}'.format(var.name, var_max))         \n",
        "    print('Maximum value: {0}'.format(f.subs({var:var_max}))) "
      ],
      "metadata": {
        "id": "3Lj1KX8uwKKT",
        "outputId": "aeee6272-a40a-43ca-e743-697d7e556307",
        "colab": {
          "base_uri": "https://localhost:8080/"
        }
      },
      "execution_count": null,
      "outputs": [
        {
          "output_type": "stream",
          "name": "stdout",
          "text": [
            "Nhap ham 1 bien (f): x**5-30*x**3+50*x \n",
            "Nhap ten bien tuong ung (x): x\n",
            "Nhap gia tri khoi dau cho bien x: -2\n",
            "x: -2.04645836419208\n",
            "Maximum value: 118.900212174206\n"
          ]
        }
      ]
    },
    {
      "cell_type": "code",
      "source": [
        "from sympy import Derivative, Symbol, sympify \n",
        "def grad_ascent(x0, ham_f1x, x):     \n",
        "  epsilon = 1e-6     \n",
        "  step_size = 1e-4     \n",
        "  x_old = x0     \n",
        "  x_new = x_old + step_size*ham_f1x.subs({x:x_old}).evalf()     \n",
        "  while abs(x_old - x_new) > epsilon:         \n",
        "    x_old = x_new         \n",
        "    x_new = x_old + step_size*ham_f1x.subs({x:x_old}).evalf()\n",
        "    return x_new \n",
        "if __name__ == '__main__':     \n",
        "  f = input('Nhap ham 1 bien (f): ')     \n",
        "  var = input('Nhap ten bien tuong ung (x): ')     \n",
        "  var0 = float(input('Nhap gia tri khoi dau cho bien x: ')) \n",
        "  try:         \n",
        "    f = sympify(f)  # kiem tra ham     \n",
        "  except SympifyError:\n",
        "    print('Ham nhap khong hop le!')     \n",
        "  else:         \n",
        "    var = Symbol(var)         \n",
        "    d = Derivative(f, var).doit()         \n",
        "    var_max = grad_ascent(var0, d, var)         \n",
        "    print('{0}: {1}'.format(var.name, var_max))         \n",
        "    print('Maximum value: {0}'.format(f.subs({var:var_max})))"
      ],
      "metadata": {
        "id": "NCmKbuyOwjWf",
        "outputId": "bb6070f9-e2bd-4700-bd45-eddf4afb8530",
        "colab": {
          "base_uri": "https://localhost:8080/"
        }
      },
      "execution_count": null,
      "outputs": [
        {
          "output_type": "stream",
          "name": "stdout",
          "text": [
            "Nhap ham 1 bien (f): x**5-30*x**3+50*x\n",
            "Nhap ten bien tuong ung (x): x\n",
            "Nhap gia tri khoi dau cho bien x: 0.5\n",
            "x: 0.505538100267393\n",
            "Maximum value: 21.4339319082246\n"
          ]
        }
      ]
    },
    {
      "cell_type": "markdown",
      "source": [
        "**3.3.Vai trò của kích thước bước nhảy (step_size) và Epsilon**"
      ],
      "metadata": {
        "id": "_TEhUzqbxKg8"
      }
    },
    {
      "cell_type": "code",
      "source": [
        "from sympy import Derivative, Symbol, sympify\n",
        "def grad_ascent(x0,ham_f1x,x):\n",
        "  from sympy import solve, E\n",
        "  if not solve(ham_f1x):\n",
        "    print('Khong the tiep tuc, phuong trinh {0}=0 vo nghiem'.format(ham_f1x))\n",
        "    return\n",
        "  epsilon = 1e-6     \n",
        "  step_size = 1e-4     \n",
        "  x_old = x0 \n",
        "  x_new = x_old + step_size*ham_f1x.subs({x:x_old}).evalf()     \n",
        "  while abs(x_old - x_new) > epsilon:         \n",
        "    x_old = x_new         \n",
        "    x_new = x_old + step_size*ham_f1x.subs({x:x_old}).evalf()\n",
        "  return x_new\n",
        "f = input('Nhap ham 1 bien (f): ')     \n",
        "var = input('Nhap ten bien tuong ung (x): ')\n",
        "var0 = float(input('Nhap gia tri khoi dau cho bien x: '))\n",
        "try:\n",
        "  f = sympify(f)\n",
        "except SympifyError:\n",
        "  print('Ham nhap khong hop le!')\n",
        "else:\n",
        "  var = Symbol(var)         \n",
        "  d = Derivative(f, var).doit()         \n",
        "  var_max = grad_ascent(var0, d, var) \n",
        "  if var_max:               \n",
        "    print('{0}: {1}'.format(var.name, var_max))             \n",
        "    print('Maximum value: {0}'.format(f.subs({var:var_max}))) "
      ],
      "metadata": {
        "id": "unOgmQ8QxMUV",
        "outputId": "41f0f20d-c244-4591-84ce-e5889bb0ddc1",
        "colab": {
          "base_uri": "https://localhost:8080/"
        }
      },
      "execution_count": null,
      "outputs": [
        {
          "output_type": "stream",
          "name": "stdout",
          "text": [
            "Nhap ham 1 bien (f): log(x)\n",
            "Nhap ten bien tuong ung (x): x\n",
            "Nhap gia tri khoi dau cho bien x: 0.1\n",
            "Khong the tiep tuc, phuong trinh 1/x=0 vo nghiem\n"
          ]
        }
      ]
    },
    {
      "cell_type": "code",
      "source": [
        "from sympy import Derivative, Symbol, sympify\n",
        "def grad_ascent(x0,ham_f1x,x):\n",
        "  from sympy import solve, E\n",
        "  if not solve(ham_f1x):\n",
        "    print('Khong the tiep tuc, phuong trinh {0}=0 vo nghiem'.format(ham_f1x))\n",
        "    return\n",
        "  epsilon = 1e-6     \n",
        "  step_size = 1e-4     \n",
        "  x_old = x0 \n",
        "  x_new = x_old + step_size*ham_f1x.subs({x:x_old}).evalf()     \n",
        "  while abs(x_old - x_new) > epsilon:         \n",
        "    x_old = x_new         \n",
        "    x_new = x_old + step_size*ham_f1x.subs({x:x_old}).evalf()\n",
        "  return x_new\n",
        "f = input('Nhap ham 1 bien (f): ')     \n",
        "var = input('Nhap ten bien tuong ung (x): ')\n",
        "var0 = float(input('Nhap gia tri khoi dau cho bien x: '))\n",
        "try:\n",
        "  f = sympify(f)\n",
        "except SympifyError:\n",
        "  print('Ham nhap khong hop le!')\n",
        "else:\n",
        "  var = Symbol(var)         \n",
        "  d = Derivative(f, var).doit()         \n",
        "  var_max = grad_ascent(var0, d, var) \n",
        "  if var_max:               \n",
        "    print('{0}: {1}'.format(var.name, var_max))             \n",
        "    print('Maximum value: {0}'.format(f.subs({var:var_max}))) "
      ],
      "metadata": {
        "id": "k0vpKA-IzcRb",
        "outputId": "ea818803-26d5-4c6b-93c1-ab9135bdd351",
        "colab": {
          "base_uri": "https://localhost:8080/"
        }
      },
      "execution_count": null,
      "outputs": [
        {
          "output_type": "stream",
          "name": "stdout",
          "text": [
            "Nhap ham 1 bien (f): E**x\n",
            "Nhap ten bien tuong ung (x): x\n",
            "Nhap gia tri khoi dau cho bien x: 0.1\n",
            "Khong the tiep tuc, phuong trinh exp(x)=0 vo nghiem\n"
          ]
        }
      ]
    }
  ]
}
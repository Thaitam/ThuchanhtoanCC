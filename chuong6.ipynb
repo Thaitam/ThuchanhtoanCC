{
  "nbformat": 4,
  "nbformat_minor": 0,
  "metadata": {
    "colab": {
      "name": "chuong6",
      "provenance": [],
      "authorship_tag": "ABX9TyMjOIg8iq+zRedZy9Nz2ZNV",
      "include_colab_link": true
    },
    "kernelspec": {
      "name": "python3",
      "display_name": "Python 3"
    },
    "language_info": {
      "name": "python"
    }
  },
  "cells": [
    {
      "cell_type": "markdown",
      "metadata": {
        "id": "view-in-github",
        "colab_type": "text"
      },
      "source": [
        "<a href=\"https://colab.research.google.com/github/Thaitam/ThuchanhtoanCC/blob/main/chuong6.ipynb\" target=\"_parent\"><img src=\"https://colab.research.google.com/assets/colab-badge.svg\" alt=\"Open In Colab\"/></a>"
      ]
    },
    {
      "cell_type": "markdown",
      "source": [
        "#**Thực hành 1:** Viết hàm đệ quy tính n! "
      ],
      "metadata": {
        "id": "Ab9F1yx_ycRH"
      }
    },
    {
      "cell_type": "code",
      "execution_count": null,
      "metadata": {
        "id": "B1l9iWcWyWOk"
      },
      "outputs": [],
      "source": [
        "import math\n",
        "def tinhgiaithua(n):\n",
        "  if n == 0:\n",
        "    return 1\n",
        "  else:\n",
        "    return n*tinhgiaithua(n-1)"
      ]
    },
    {
      "cell_type": "code",
      "source": [
        "tinhgiaithua(3)"
      ],
      "metadata": {
        "colab": {
          "base_uri": "https://localhost:8080/"
        },
        "id": "_gts1UsyycFy",
        "outputId": "35d9af4e-a514-4203-ec39-a47c6a3749dc"
      },
      "execution_count": null,
      "outputs": [
        {
          "output_type": "execute_result",
          "data": {
            "text/plain": [
              "6"
            ]
          },
          "metadata": {},
          "execution_count": 2
        }
      ]
    },
    {
      "cell_type": "code",
      "source": [
        "tinhgiaithua(5)"
      ],
      "metadata": {
        "colab": {
          "base_uri": "https://localhost:8080/"
        },
        "id": "wAhD9H41y_Pt",
        "outputId": "7a3edf56-87e4-460c-a857-6fefd414965b"
      },
      "execution_count": null,
      "outputs": [
        {
          "output_type": "execute_result",
          "data": {
            "text/plain": [
              "120"
            ]
          },
          "metadata": {},
          "execution_count": 3
        }
      ]
    },
    {
      "cell_type": "markdown",
      "source": [
        "#**Thực hành 2:** Viết hàm đệ quy tính dãy số Fibonacci "
      ],
      "metadata": {
        "id": "rP8kE9NdzB5l"
      }
    },
    {
      "cell_type": "code",
      "source": [
        "def fibo(n):\n",
        "  if n==0:\n",
        "    return 0\n",
        "  if n==1:\n",
        "    return 1\n",
        "  return fibo(n-1) + fibo(n-2)"
      ],
      "metadata": {
        "id": "wVnzfJXDzFG9"
      },
      "execution_count": null,
      "outputs": []
    },
    {
      "cell_type": "code",
      "source": [
        "fibo(4)"
      ],
      "metadata": {
        "colab": {
          "base_uri": "https://localhost:8080/"
        },
        "id": "aGnA0Ebfzdk5",
        "outputId": "301aa000-1627-4417-b718-c43e4b89e3a5"
      },
      "execution_count": null,
      "outputs": [
        {
          "output_type": "execute_result",
          "data": {
            "text/plain": [
              "3"
            ]
          },
          "metadata": {},
          "execution_count": 5
        }
      ]
    },
    {
      "cell_type": "code",
      "source": [
        "fibo(5)"
      ],
      "metadata": {
        "colab": {
          "base_uri": "https://localhost:8080/"
        },
        "id": "ru6XjSKSzhvE",
        "outputId": "d719d1c1-ced9-4869-8eba-9e3b03b286d4"
      },
      "execution_count": null,
      "outputs": [
        {
          "output_type": "execute_result",
          "data": {
            "text/plain": [
              "5"
            ]
          },
          "metadata": {},
          "execution_count": 6
        }
      ]
    },
    {
      "cell_type": "code",
      "source": [
        "fibo(6)"
      ],
      "metadata": {
        "colab": {
          "base_uri": "https://localhost:8080/"
        },
        "id": "SlDVtSr4zj5m",
        "outputId": "8ccdb40a-7840-4b48-8e64-8820c82bdaa4"
      },
      "execution_count": null,
      "outputs": [
        {
          "output_type": "execute_result",
          "data": {
            "text/plain": [
              "8"
            ]
          },
          "metadata": {},
          "execution_count": 7
        }
      ]
    },
    {
      "cell_type": "markdown",
      "source": [
        "#**Thực hành 3:** Chứng minh dãy có giới hạn và tìm giới hạn của dãy "
      ],
      "metadata": {
        "id": "nyG9UbhJzl1G"
      }
    },
    {
      "cell_type": "code",
      "source": [
        "def an_exp_an(n):\n",
        "  if n==1:\n",
        "    return 1.0/2\n",
        "  else:\n",
        "    return an_exp_an(n-1)**an_exp_an(n-1)"
      ],
      "metadata": {
        "id": "2nO5eV2QzqMy"
      },
      "execution_count": null,
      "outputs": []
    },
    {
      "cell_type": "code",
      "source": [
        "an_exp_an(1)"
      ],
      "metadata": {
        "colab": {
          "base_uri": "https://localhost:8080/"
        },
        "id": "CREDiXZz0Dgd",
        "outputId": "939c3b6b-05d0-4002-b1ca-639da94ac641"
      },
      "execution_count": null,
      "outputs": [
        {
          "output_type": "execute_result",
          "data": {
            "text/plain": [
              "0.5"
            ]
          },
          "metadata": {},
          "execution_count": 9
        }
      ]
    },
    {
      "cell_type": "code",
      "source": [
        "an_exp_an(3)"
      ],
      "metadata": {
        "colab": {
          "base_uri": "https://localhost:8080/"
        },
        "id": "9DSwKul_0Fzl",
        "outputId": "43b708ea-3c6a-4d7b-ea1d-3747c6f5364b"
      },
      "execution_count": null,
      "outputs": [
        {
          "output_type": "execute_result",
          "data": {
            "text/plain": [
              "0.7826540273556803"
            ]
          },
          "metadata": {},
          "execution_count": 10
        }
      ]
    },
    {
      "cell_type": "code",
      "source": [
        "an_exp_an(5)"
      ],
      "metadata": {
        "colab": {
          "base_uri": "https://localhost:8080/"
        },
        "id": "ImAWdpnA0F5M",
        "outputId": "96133830-4402-4b07-d3e2-80aee39e88db"
      },
      "execution_count": null,
      "outputs": [
        {
          "output_type": "execute_result",
          "data": {
            "text/plain": [
              "0.8535714578150946"
            ]
          },
          "metadata": {},
          "execution_count": 11
        }
      ]
    },
    {
      "cell_type": "code",
      "source": [
        "an_exp_an(10)"
      ],
      "metadata": {
        "colab": {
          "base_uri": "https://localhost:8080/"
        },
        "id": "4lvwfAQ20GAk",
        "outputId": "02006366-449c-4d0e-ecda-d1b76278eea0"
      },
      "execution_count": null,
      "outputs": [
        {
          "output_type": "execute_result",
          "data": {
            "text/plain": [
              "0.9176411981636667"
            ]
          },
          "metadata": {},
          "execution_count": 12
        }
      ]
    },
    {
      "cell_type": "markdown",
      "source": [
        "#**Thực hành 4:** Chứng minh dãy có giới hạn và tìm giới hạn của dãy"
      ],
      "metadata": {
        "id": "cZ6fX8Cz0L6d"
      }
    },
    {
      "cell_type": "code",
      "source": [
        "def xetgiatri(n):\n",
        "  if n==1:\n",
        "    return 4\n",
        "  else:\n",
        "    return 5.0/(6-xetgiatri(n-1))"
      ],
      "metadata": {
        "id": "6EGuzZzX0P5U"
      },
      "execution_count": null,
      "outputs": []
    },
    {
      "cell_type": "code",
      "source": [
        "xetgiatri(3)"
      ],
      "metadata": {
        "colab": {
          "base_uri": "https://localhost:8080/"
        },
        "id": "6twzUmeQ0rs_",
        "outputId": "42b81038-2a75-42fe-8e44-d335582e2d63"
      },
      "execution_count": null,
      "outputs": [
        {
          "output_type": "execute_result",
          "data": {
            "text/plain": [
              "1.4285714285714286"
            ]
          },
          "metadata": {},
          "execution_count": 15
        }
      ]
    },
    {
      "cell_type": "code",
      "source": [
        "xetgiatri(5)"
      ],
      "metadata": {
        "colab": {
          "base_uri": "https://localhost:8080/"
        },
        "id": "wGgqMWg_050V",
        "outputId": "95a73f74-28f2-4721-d1b4-dedd9f9e65f0"
      },
      "execution_count": null,
      "outputs": [
        {
          "output_type": "execute_result",
          "data": {
            "text/plain": [
              "1.019108280254777"
            ]
          },
          "metadata": {},
          "execution_count": 16
        }
      ]
    },
    {
      "cell_type": "code",
      "source": [
        "xetgiatri(9)"
      ],
      "metadata": {
        "colab": {
          "base_uri": "https://localhost:8080/"
        },
        "id": "82bXtIYk054r",
        "outputId": "87eec2aa-3338-44a3-b3a3-e4ef4c022ace"
      },
      "execution_count": null,
      "outputs": [
        {
          "output_type": "execute_result",
          "data": {
            "text/plain": [
              "1.000030719764072"
            ]
          },
          "metadata": {},
          "execution_count": 17
        }
      ]
    },
    {
      "cell_type": "markdown",
      "source": [
        "các kết quả giảm dần"
      ],
      "metadata": {
        "id": "qyQ0AxsY1AIG"
      }
    },
    {
      "cell_type": "markdown",
      "source": [
        "![image.png](data:image/png;base64,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)"
      ],
      "metadata": {
        "id": "TOiH4ZtH1Fbs"
      }
    },
    {
      "cell_type": "code",
      "source": [
        "def tisoFibo(n):\n",
        "  if n==1:\n",
        "    return 1\n",
        "  else:\n",
        "    return 1.0 + 1.0/tisoFibo(n-1)\n",
        "for i in range(1,11):\n",
        "  print(i,tisoFibo(i))"
      ],
      "metadata": {
        "colab": {
          "base_uri": "https://localhost:8080/"
        },
        "id": "tgsDNKIs0-_V",
        "outputId": "3cc2fc61-6e5d-4575-9a10-e5b5bcef961d"
      },
      "execution_count": null,
      "outputs": [
        {
          "output_type": "stream",
          "name": "stdout",
          "text": [
            "1 1\n",
            "2 2.0\n",
            "3 1.5\n",
            "4 1.6666666666666665\n",
            "5 1.6\n",
            "6 1.625\n",
            "7 1.6153846153846154\n",
            "8 1.619047619047619\n",
            "9 1.6176470588235294\n",
            "10 1.6181818181818182\n"
          ]
        }
      ]
    },
    {
      "cell_type": "markdown",
      "source": [
        "#Chương trình tổng quát về Gradient Ascent\n",
        "\n"
      ],
      "metadata": {
        "id": "NGm-7VajKJP4"
      }
    },
    {
      "cell_type": "code",
      "source": [
        "from sympy import Derivative, Symbol, sympify \n",
        "def grad_ascent(x0, ham_f1x, x): \n",
        " epsilon = 1e-6 \n",
        " step_size = 1e-4 \n",
        " x_old = x0 \n",
        " x_new = x_old + step_size*ham_f1x.subs({x:x_old}).evalf() \n",
        " while abs(x_old - x_new) > epsilon: \n",
        "  x_old = x_new \n",
        "  x_new = x_old + step_size*ham_f1x.subs({x:x_old}).evalf() \n",
        " return x_new \n",
        "\n",
        "if __name__ == '__main__': \n",
        " f = input('Nhap ham 1 bien (f): ') \n",
        " var = input('Nhap ten bien tuong ung (x): ') \n",
        " var0 = float(input('Nhap gia tri khoi dau cho bien x: '))\n",
        " try: \n",
        "  f = sympify(f) # kiem tra ham \n",
        " except SympifyError: \n",
        "  print('Ham nhap khong hop le!') \n",
        " else: \n",
        "  var = Symbol(var) \n",
        "  d = Derivative(f, var).doit() \n",
        "  var_max = grad_ascent(var0, d, var) \n",
        "  print('{0}: {1}'.format(var.name, var_max)) \n",
        "  print('Maximum value: {0}'.format(f.subs({var:var_max})))"
      ],
      "metadata": {
        "colab": {
          "base_uri": "https://localhost:8080/"
        },
        "id": "fnpv9MriKpyB",
        "outputId": "d35e8dc5-e8a3-404e-851a-1e32bf56f546"
      },
      "execution_count": 13,
      "outputs": [
        {
          "output_type": "stream",
          "name": "stdout",
          "text": [
            "Nhap ham 1 bien (f): x**5-30*x**3+50*x\n",
            "Nhap ten bien tuong ung (x): x\n",
            "Nhap gia tri khoi dau cho bien x: 0.5\n",
            "x: 0.757452532565767\n",
            "Maximum value: 25.0846622605419\n"
          ]
        }
      ]
    },
    {
      "cell_type": "code",
      "source": [
        "from sympy import Derivative, Symbol, sympify \n",
        "def grad_ascent(x0, ham_f1x, x): \n",
        " from sympy import solve, E \n",
        " if not solve(ham_f1x): \n",
        "  print('Khong the tiep tuc, phuong trinh {0}=0 vo nghiem'.format(ham_f1x)) \n",
        " return \n",
        " # như đoạn mã cũ \n",
        " epsilon = 1e-6 \n",
        " step_size = 1e-4 \n",
        " x_old = x0 \n",
        " x_new = x_old + step_size*ham_f1x.subs({x:x_old}).evalf() \n",
        " while abs(x_old - x_new) > epsilon: \n",
        "  x_old = x_new \n",
        "  x_new = x_old + step_size*ham_f1x.subs({x:x_old}).evalf() \n",
        " \n",
        " return x_new \n",
        "if __name__ == '__main__': \n",
        " f = input('Nhap ham 1 bien (f): ') \n",
        " var = input('Nhap ten bien tuong ung (x): ')\n",
        " var0 = float(input('Nhap gia tri khoi dau cho bien x: ')) \n",
        " try: \n",
        "  f = sympify(f) # kiem tra ham \n",
        " except SympifyError: \n",
        "  print('Ham nhap khong hop le!') \n",
        " else: \n",
        "  var = Symbol(var) \n",
        "  d = Derivative(f, var).doit() \n",
        "  var_max = grad_ascent(var0, d, var) \n",
        "  # thêm lệnh if (nằm trong khối lệnh else) để kiểm tra giá trị var_max trước khi kết luận: \n",
        "  if var_max: \n",
        "    print('{0}: {1}'.format(var.name, var_max)) \n",
        "    print('Maximum value: {0}'.format(f.subs({var:var_max}))) \n"
      ],
      "metadata": {
        "colab": {
          "base_uri": "https://localhost:8080/"
        },
        "id": "2mEtlUK6MR4t",
        "outputId": "40c2cac8-c87f-40c6-c39a-1d1756c5b813"
      },
      "execution_count": 16,
      "outputs": [
        {
          "output_type": "stream",
          "name": "stdout",
          "text": [
            "Nhap ham 1 bien (f): E**x\n",
            "Nhap ten bien tuong ung (x): x\n",
            "Nhap gia tri khoi dau cho bien x: 0.1\n",
            "Khong the tiep tuc, phuong trinh exp(x)=0 vo nghiem\n"
          ]
        }
      ]
    }
  ]
}
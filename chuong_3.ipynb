{
  "nbformat": 4,
  "nbformat_minor": 0,
  "metadata": {
    "colab": {
      "name": "chuong_3.ipynb",
      "provenance": [],
      "collapsed_sections": [],
      "authorship_tag": "ABX9TyNsCnybx75S9roIp6VuIJKN",
      "include_colab_link": true
    },
    "kernelspec": {
      "name": "python3",
      "display_name": "Python 3"
    },
    "language_info": {
      "name": "python"
    }
  },
  "cells": [
    {
      "cell_type": "markdown",
      "metadata": {
        "id": "view-in-github",
        "colab_type": "text"
      },
      "source": [
        "<a href=\"https://colab.research.google.com/github/Thaitam/ThuchanhtoanCC/blob/main/chuong_3.ipynb\" target=\"_parent\"><img src=\"https://colab.research.google.com/assets/colab-badge.svg\" alt=\"Open In Colab\"/></a>"
      ]
    },
    {
      "cell_type": "markdown",
      "source": [
        "#Thực hành 1: Viết hàm từ dấu nhắc lệnh >>> của trình IDLE "
      ],
      "metadata": {
        "id": "SN16kADOSAgD"
      }
    },
    {
      "cell_type": "code",
      "execution_count": 27,
      "metadata": {
        "id": "nR-P50XSR8DR"
      },
      "outputs": [],
      "source": [
        "def luythua(x,n):\n",
        "  ketqua = 1\n",
        "  for i in range(n):\n",
        "    ketqua = ketqua*x\n",
        "  return ketqua"
      ]
    },
    {
      "cell_type": "code",
      "source": [
        "luythua(2,5)"
      ],
      "metadata": {
        "colab": {
          "base_uri": "https://localhost:8080/"
        },
        "id": "Adio0ARrSgGx",
        "outputId": "e6cffb71-55ab-4004-eea0-858438f15499"
      },
      "execution_count": 28,
      "outputs": [
        {
          "output_type": "execute_result",
          "data": {
            "text/plain": [
              "32"
            ]
          },
          "metadata": {},
          "execution_count": 28
        }
      ]
    },
    {
      "cell_type": "code",
      "source": [
        "luythua(2,0)"
      ],
      "metadata": {
        "colab": {
          "base_uri": "https://localhost:8080/"
        },
        "id": "gjnbztWFT3yV",
        "outputId": "8e6a66ea-b5c9-46f4-b3ec-5b5a94273669"
      },
      "execution_count": 29,
      "outputs": [
        {
          "output_type": "execute_result",
          "data": {
            "text/plain": [
              "1"
            ]
          },
          "metadata": {},
          "execution_count": 29
        }
      ]
    },
    {
      "cell_type": "markdown",
      "source": [
        "#Thực hành 2: Lỗi và cơ chế bắt lỗi trong Python "
      ],
      "metadata": {
        "id": "ZJEpbozFT69h"
      }
    },
    {
      "cell_type": "markdown",
      "source": [
        "Lỗi cú pháp (syntax errors). Ví dụ: viết dòng lệnh while thiếu dấu : hoặc điều kiện bằng \n",
        "trong dòng lệnh while phải là dấu “==” thay vì dấu “=”. "
      ],
      "metadata": {
        "id": "6nPu2z6SUCY1"
      }
    },
    {
      "cell_type": "code",
      "source": [
        "#ví dụ\n",
        "while 1 = 2"
      ],
      "metadata": {
        "colab": {
          "base_uri": "https://localhost:8080/",
          "height": 130
        },
        "id": "THDO9DoLT6sd",
        "outputId": "85d555c1-b833-47bd-d74c-e2529b8e15b6"
      },
      "execution_count": 30,
      "outputs": [
        {
          "output_type": "error",
          "ename": "SyntaxError",
          "evalue": "ignored",
          "traceback": [
            "\u001b[0;36m  File \u001b[0;32m\"<ipython-input-30-6845225acc94>\"\u001b[0;36m, line \u001b[0;32m2\u001b[0m\n\u001b[0;31m    while 1 = 2\u001b[0m\n\u001b[0m            ^\u001b[0m\n\u001b[0;31mSyntaxError\u001b[0m\u001b[0;31m:\u001b[0m invalid syntax\n"
          ]
        }
      ]
    },
    {
      "cell_type": "markdown",
      "source": [
        "Ngoại lệ (exceptions): Ví dụ: mở tập tin không tồn tại, thực hiện phép chia 0, thực hiện phép \n",
        "cộng (operand type for +) theo thứ tự số + chuỗi hoặc phép nối (concatenate) theo thứ tự \n",
        "chuỗi + số."
      ],
      "metadata": {
        "id": "mB3_YFUzUO9y"
      }
    },
    {
      "cell_type": "code",
      "source": [
        "#ví dụ\n",
        "10 * (1/0)"
      ],
      "metadata": {
        "colab": {
          "base_uri": "https://localhost:8080/",
          "height": 182
        },
        "id": "hJZ6E5sRUQY-",
        "outputId": "d584de4d-e91e-45bf-9389-89186eb31403"
      },
      "execution_count": 31,
      "outputs": [
        {
          "output_type": "error",
          "ename": "ZeroDivisionError",
          "evalue": "ignored",
          "traceback": [
            "\u001b[0;31m---------------------------------------------------------------------------\u001b[0m",
            "\u001b[0;31mZeroDivisionError\u001b[0m                         Traceback (most recent call last)",
            "\u001b[0;32m<ipython-input-31-ba81bd235860>\u001b[0m in \u001b[0;36m<module>\u001b[0;34m()\u001b[0m\n\u001b[1;32m      1\u001b[0m \u001b[0;31m#ví dụ\u001b[0m\u001b[0;34m\u001b[0m\u001b[0;34m\u001b[0m\u001b[0;34m\u001b[0m\u001b[0m\n\u001b[0;32m----> 2\u001b[0;31m \u001b[0;36m10\u001b[0m \u001b[0;34m*\u001b[0m \u001b[0;34m(\u001b[0m\u001b[0;36m1\u001b[0m\u001b[0;34m/\u001b[0m\u001b[0;36m0\u001b[0m\u001b[0;34m)\u001b[0m\u001b[0;34m\u001b[0m\u001b[0;34m\u001b[0m\u001b[0m\n\u001b[0m",
            "\u001b[0;31mZeroDivisionError\u001b[0m: division by zero"
          ]
        }
      ]
    },
    {
      "cell_type": "code",
      "source": [
        "#ví dụ \n",
        "10 * bien_chua_khai_bao / 5"
      ],
      "metadata": {
        "colab": {
          "base_uri": "https://localhost:8080/",
          "height": 182
        },
        "id": "T64IbwpvUYIF",
        "outputId": "e5fb2441-8529-4fca-f48d-762b052601f2"
      },
      "execution_count": 32,
      "outputs": [
        {
          "output_type": "error",
          "ename": "NameError",
          "evalue": "ignored",
          "traceback": [
            "\u001b[0;31m---------------------------------------------------------------------------\u001b[0m",
            "\u001b[0;31mNameError\u001b[0m                                 Traceback (most recent call last)",
            "\u001b[0;32m<ipython-input-32-9fb45ad616eb>\u001b[0m in \u001b[0;36m<module>\u001b[0;34m()\u001b[0m\n\u001b[1;32m      1\u001b[0m \u001b[0;31m#ví dụ\u001b[0m\u001b[0;34m\u001b[0m\u001b[0;34m\u001b[0m\u001b[0;34m\u001b[0m\u001b[0m\n\u001b[0;32m----> 2\u001b[0;31m \u001b[0;36m10\u001b[0m \u001b[0;34m*\u001b[0m \u001b[0mbien_chua_khai_bao\u001b[0m \u001b[0;34m/\u001b[0m \u001b[0;36m5\u001b[0m\u001b[0;34m\u001b[0m\u001b[0;34m\u001b[0m\u001b[0m\n\u001b[0m",
            "\u001b[0;31mNameError\u001b[0m: name 'bien_chua_khai_bao' is not defined"
          ]
        }
      ]
    },
    {
      "cell_type": "code",
      "source": [
        "#ví dụ\n",
        "‘ba’ + 7 \n"
      ],
      "metadata": {
        "colab": {
          "base_uri": "https://localhost:8080/",
          "height": 130
        },
        "id": "ga98b41tUhvN",
        "outputId": "e3eaa727-db71-4d6c-8474-37f430dcb3fb"
      },
      "execution_count": 33,
      "outputs": [
        {
          "output_type": "error",
          "ename": "SyntaxError",
          "evalue": "ignored",
          "traceback": [
            "\u001b[0;36m  File \u001b[0;32m\"<ipython-input-33-4d5d7dc92112>\"\u001b[0;36m, line \u001b[0;32m2\u001b[0m\n\u001b[0;31m    ‘ba’ + 7\u001b[0m\n\u001b[0m       ^\u001b[0m\n\u001b[0;31mSyntaxError\u001b[0m\u001b[0;31m:\u001b[0m invalid character in identifier\n"
          ]
        }
      ]
    },
    {
      "cell_type": "markdown",
      "source": [
        "***Phương pháp xử lý:*** \n",
        "Đối với lỗi cú pháp *(syntax error)*, chúng ta phải kiểm tra lại câu lệnh và sửa. Đối với lỗi ngoại lệ \n",
        "*(exception)* chúng ta phải xử lý và hạn chế bằng các cơ chế thông báo để tránh trường hợp \n",
        "chương trình bị kết thúc bất ngờ. "
      ],
      "metadata": {
        "id": "4NgAZKMlUrHs"
      }
    },
    {
      "cell_type": "markdown",
      "source": [
        "#Thực hành 3: Xử lý ngoại lệ với cơ chế try… except \n",
        "\n"
      ],
      "metadata": {
        "id": "jb9xr_oaU1Zv"
      }
    },
    {
      "cell_type": "code",
      "source": [
        "x = int(input('vui lòng nhập số: '))"
      ],
      "metadata": {
        "colab": {
          "base_uri": "https://localhost:8080/",
          "height": 182
        },
        "id": "spAP-0vdU8Rm",
        "outputId": "c5c107e9-6a84-4270-835e-6817af757200"
      },
      "execution_count": 37,
      "outputs": [
        {
          "name": "stdout",
          "output_type": "stream",
          "text": [
            "vui lòng nhập số: a\n"
          ]
        },
        {
          "output_type": "error",
          "ename": "ValueError",
          "evalue": "ignored",
          "traceback": [
            "\u001b[0;31m---------------------------------------------------------------------------\u001b[0m",
            "\u001b[0;31mValueError\u001b[0m                                Traceback (most recent call last)",
            "\u001b[0;32m<ipython-input-37-a273d30d41f5>\u001b[0m in \u001b[0;36m<module>\u001b[0;34m()\u001b[0m\n\u001b[0;32m----> 1\u001b[0;31m \u001b[0mx\u001b[0m \u001b[0;34m=\u001b[0m \u001b[0mint\u001b[0m\u001b[0;34m(\u001b[0m\u001b[0minput\u001b[0m\u001b[0;34m(\u001b[0m\u001b[0;34m'vui lòng nhập số: '\u001b[0m\u001b[0;34m)\u001b[0m\u001b[0;34m)\u001b[0m\u001b[0;34m\u001b[0m\u001b[0;34m\u001b[0m\u001b[0m\n\u001b[0m",
            "\u001b[0;31mValueError\u001b[0m: invalid literal for int() with base 10: 'a'"
          ]
        }
      ]
    },
    {
      "cell_type": "markdown",
      "source": [
        "để xử lý lỗi trên ta dùng cơ chế try....except"
      ],
      "metadata": {
        "id": "5GVF3JE-VXC9"
      }
    },
    {
      "cell_type": "code",
      "source": [
        "while True:\n",
        "  try:\n",
        "    x = int(input('vui lòng nhập số: '))\n",
        "    break\n",
        "  except:\n",
        "    print('vui lòng nhập số, không nhập chữ')\n"
      ],
      "metadata": {
        "colab": {
          "base_uri": "https://localhost:8080/"
        },
        "id": "H65OYabTViA3",
        "outputId": "91a7ecbd-237a-41e7-fea0-de73adf4a71b"
      },
      "execution_count": 42,
      "outputs": [
        {
          "name": "stdout",
          "output_type": "stream",
          "text": [
            "vui lòng nhập số: a\n",
            "vui lòng nhập số, không nhập chữ\n",
            "vui lòng nhập số: 1\n"
          ]
        }
      ]
    },
    {
      "cell_type": "markdown",
      "source": [
        "như vậy ngoại lệ đã được khắc phục"
      ],
      "metadata": {
        "id": "PKaYoJRCWQS6"
      }
    },
    {
      "cell_type": "markdown",
      "source": [
        "#Thực hành 4: Xử lý ngoại lệ với cơ chế try… except… else… finally\n",
        "\n",
        "> Cơ chế else trong try except để thực hiện tiếp các lệnh trong try nếu không có lỗi/ngoại lệ xảy ra. \n",
        "Lưu ý 1: Nếu except mà không chỉ ra lỗi/ngoại lệ thì xem như bắt tất cả các lỗi và ngoại lệ. \n",
        "Lưu ý 2: Nếu có thêm finally thì để xử lý tiếp các câu lệnh còn lại. Thường là các thông báo để \n",
        "người sử dụng biết kết thúc một chương trình. \n",
        "\n",
        "\n"
      ],
      "metadata": {
        "id": "Skessfz3WlBa"
      }
    },
    {
      "cell_type": "code",
      "source": [
        "#ví dụ\n",
        "while True:\n",
        "  try:\n",
        "    x = int(input('vui lòng nhập số: '))\n",
        "  except:\n",
        "    print('số vừa nhập là sai')\n",
        "  else:\n",
        "    print(f'số vừa nhập là: {str(x)}')\n",
        "    break\n",
        "  finally:\n",
        "    print('đã hoàn thành chương trình')"
      ],
      "metadata": {
        "colab": {
          "base_uri": "https://localhost:8080/"
        },
        "id": "qg150KYaWqb2",
        "outputId": "1c48fb0f-3881-485d-ab70-0e643d3c1144"
      },
      "execution_count": 45,
      "outputs": [
        {
          "output_type": "stream",
          "name": "stdout",
          "text": [
            "vui lòng nhập số: a\n",
            "số vừa nhập là sai\n",
            "đã hoàn thành chương trình\n",
            "vui lòng nhập số: 1\n",
            "số vừa nhập là: 1\n",
            "đã hoàn thành chương trình\n"
          ]
        }
      ]
    },
    {
      "cell_type": "markdown",
      "source": [
        "#Thực hành 5: Tạo hàm phát sinh dãy số thực đều "
      ],
      "metadata": {
        "id": "FVlglCzuhcJe"
      }
    },
    {
      "cell_type": "code",
      "source": [
        "def frange(batdau,ketthuc,buoc):\n",
        "  ketqua = []\n",
        "  while batdau < ketthuc:\n",
        "    ketqua.append(batdau)\n",
        "    batdau = batdau + buoc\n",
        "  return ketqua"
      ],
      "metadata": {
        "id": "q_HOhZlXhgxk"
      },
      "execution_count": 49,
      "outputs": []
    },
    {
      "cell_type": "code",
      "source": [
        "tu0den1 = frange(0,1,0.1)\n",
        "tu0den1"
      ],
      "metadata": {
        "colab": {
          "base_uri": "https://localhost:8080/"
        },
        "id": "ZzVxZ6N3iDDT",
        "outputId": "b51360a8-6215-420e-993e-42ffcd654982"
      },
      "execution_count": 52,
      "outputs": [
        {
          "output_type": "execute_result",
          "data": {
            "text/plain": [
              "[0,\n",
              " 0.1,\n",
              " 0.2,\n",
              " 0.30000000000000004,\n",
              " 0.4,\n",
              " 0.5,\n",
              " 0.6,\n",
              " 0.7,\n",
              " 0.7999999999999999,\n",
              " 0.8999999999999999,\n",
              " 0.9999999999999999]"
            ]
          },
          "metadata": {},
          "execution_count": 52
        }
      ]
    },
    {
      "cell_type": "markdown",
      "source": [
        "#Thực hành 6: Vẽ quỹ đạo bay của vật được ném lên"
      ],
      "metadata": {
        "id": "tnTRfDoujHBj"
      }
    },
    {
      "cell_type": "markdown",
      "source": [
        "> Phân đoạn 1: Nhập các thư viện xử lý: \n",
        "\n",
        "\n",
        "\n",
        "\n"
      ],
      "metadata": {
        "id": "Mva56FiXjUsD"
      }
    },
    {
      "cell_type": "code",
      "source": [
        "import matplotlib.pyplot as plt\n",
        "import math"
      ],
      "metadata": {
        "id": "K8vf0sjjjKG-"
      },
      "execution_count": 59,
      "outputs": []
    },
    {
      "cell_type": "markdown",
      "source": [
        "\n",
        "\n",
        "> Phân đoạn 2: Xây dựng các hàm xử lý:\n",
        "\n"
      ],
      "metadata": {
        "id": "LuEFc1yWjkqi"
      }
    },
    {
      "cell_type": "code",
      "source": [
        "# + Hàm 1: Hàm vẽ đồ thị\n",
        "def ve_dt(x,y):\n",
        "  plt.plot(x,y)\n",
        "  plt.xlabel('Trục X')\n",
        "  plt.ylabel('Trục Y')\n",
        "  plt.title('Đồ thị bài toán ném quả bóng')"
      ],
      "metadata": {
        "id": "XCdKozN5jqbW"
      },
      "execution_count": 58,
      "outputs": []
    },
    {
      "cell_type": "code",
      "source": [
        "# + Hàm 2: Hàm xử lý về tạo các khoảng số thực đều nhau \n",
        "def frange(start,end,step):\n",
        "  num = []\n",
        "  while start < end:\n",
        "    num.append(start)\n",
        "    start = start + step \n",
        "  return num"
      ],
      "metadata": {
        "id": "MooQg91AkPds"
      },
      "execution_count": 57,
      "outputs": []
    },
    {
      "cell_type": "code",
      "source": [
        "# + Hàm 3: Hàm tính toán các dãy X và Y để vẽ đồ thị tương ứng với hàm đạn đạo:\n",
        "# Vẽ quỹ đạo \n",
        "def ve_quydao(u, theta): \n",
        "  # Gia tốc trọng trường\n",
        "  g = 9.8\n",
        "  # Góc bay\n",
        "  theta = math.radians(theta)\n",
        "  # Thời gian bay \n",
        "  t_bay = 2*u*math.sin(theta)/g\n",
        "  # Tính toán khoảng cách thời gian\n",
        "  k_tg = frange(0,t_bay,0.001)\n",
        "  # Danh sách tọa độ x và y\n",
        "  x = []\n",
        "  y = []\n",
        "  for t in k_tg:\n",
        "    x.append(u*math.cos(theta)*t)\n",
        "    y.append(u*math.sin(theta)*t-0.5*g**t)\n",
        "ve_quydao"
      ],
      "metadata": {
        "colab": {
          "base_uri": "https://localhost:8080/"
        },
        "id": "huGXr2Kjk1QC",
        "outputId": "0dad4c3a-2f4c-4270-99fc-2906feaf52c8"
      },
      "execution_count": 60,
      "outputs": [
        {
          "output_type": "execute_result",
          "data": {
            "text/plain": [
              "<function __main__.ve_quydao>"
            ]
          },
          "metadata": {},
          "execution_count": 60
        }
      ]
    }
  ]
}
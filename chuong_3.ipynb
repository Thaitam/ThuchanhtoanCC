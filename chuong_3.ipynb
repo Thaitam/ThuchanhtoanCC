{
  "nbformat": 4,
  "nbformat_minor": 0,
  "metadata": {
    "colab": {
      "name": "chuong_3.ipynb",
      "provenance": [],
      "collapsed_sections": [],
      "authorship_tag": "ABX9TyNfklO/FW7dGns+CsVh31ha",
      "include_colab_link": true
    },
    "kernelspec": {
      "name": "python3",
      "display_name": "Python 3"
    },
    "language_info": {
      "name": "python"
    }
  },
  "cells": [
    {
      "cell_type": "markdown",
      "metadata": {
        "id": "view-in-github",
        "colab_type": "text"
      },
      "source": [
        "<a href=\"https://colab.research.google.com/github/Thaitam/ThuchanhtoanCC/blob/main/chuong_3.ipynb\" target=\"_parent\"><img src=\"https://colab.research.google.com/assets/colab-badge.svg\" alt=\"Open In Colab\"/></a>"
      ]
    },
    {
      "cell_type": "markdown",
      "source": [
        "#Thực hành 1: Viết hàm từ dấu nhắc lệnh >>> của trình IDLE "
      ],
      "metadata": {
        "id": "SN16kADOSAgD"
      }
    },
    {
      "cell_type": "code",
      "execution_count": 2,
      "metadata": {
        "id": "nR-P50XSR8DR"
      },
      "outputs": [],
      "source": [
        "def luythua(x,n):\n",
        "  ketqua = 1\n",
        "  for i in range(n):\n",
        "    ketqua = ketqua*x\n",
        "  return ketqua"
      ]
    },
    {
      "cell_type": "code",
      "source": [
        "luythua(2,5)"
      ],
      "metadata": {
        "colab": {
          "base_uri": "https://localhost:8080/"
        },
        "id": "Adio0ARrSgGx",
        "outputId": "66f9f71a-65c4-4ad9-de53-a1320dbc1866"
      },
      "execution_count": 3,
      "outputs": [
        {
          "output_type": "execute_result",
          "data": {
            "text/plain": [
              "32"
            ]
          },
          "metadata": {},
          "execution_count": 3
        }
      ]
    },
    {
      "cell_type": "code",
      "source": [
        "luythua(2,0)"
      ],
      "metadata": {
        "colab": {
          "base_uri": "https://localhost:8080/"
        },
        "id": "gjnbztWFT3yV",
        "outputId": "a654013f-1df5-4edb-eab5-2951fcdb027e"
      },
      "execution_count": 4,
      "outputs": [
        {
          "output_type": "execute_result",
          "data": {
            "text/plain": [
              "1"
            ]
          },
          "metadata": {},
          "execution_count": 4
        }
      ]
    },
    {
      "cell_type": "markdown",
      "source": [
        "#Thực hành 2: Lỗi và cơ chế bắt lỗi trong Python "
      ],
      "metadata": {
        "id": "ZJEpbozFT69h"
      }
    },
    {
      "cell_type": "markdown",
      "source": [
        "Lỗi cú pháp (syntax errors). Ví dụ: viết dòng lệnh while thiếu dấu : hoặc điều kiện bằng \n",
        "trong dòng lệnh while phải là dấu “==” thay vì dấu “=”. "
      ],
      "metadata": {
        "id": "6nPu2z6SUCY1"
      }
    },
    {
      "cell_type": "code",
      "source": [
        "#ví dụ\n",
        "while 1 = 2"
      ],
      "metadata": {
        "colab": {
          "base_uri": "https://localhost:8080/",
          "height": 130
        },
        "id": "THDO9DoLT6sd",
        "outputId": "139bf32f-d6d6-416b-8e7e-487562bdb5b7"
      },
      "execution_count": 5,
      "outputs": [
        {
          "output_type": "error",
          "ename": "SyntaxError",
          "evalue": "ignored",
          "traceback": [
            "\u001b[0;36m  File \u001b[0;32m\"<ipython-input-5-6845225acc94>\"\u001b[0;36m, line \u001b[0;32m2\u001b[0m\n\u001b[0;31m    while 1 = 2\u001b[0m\n\u001b[0m            ^\u001b[0m\n\u001b[0;31mSyntaxError\u001b[0m\u001b[0;31m:\u001b[0m invalid syntax\n"
          ]
        }
      ]
    },
    {
      "cell_type": "markdown",
      "source": [
        "Ngoại lệ (exceptions): Ví dụ: mở tập tin không tồn tại, thực hiện phép chia 0, thực hiện phép \n",
        "cộng (operand type for +) theo thứ tự số + chuỗi hoặc phép nối (concatenate) theo thứ tự \n",
        "chuỗi + số."
      ],
      "metadata": {
        "id": "mB3_YFUzUO9y"
      }
    },
    {
      "cell_type": "code",
      "source": [
        "#ví dụ\n",
        "10 * (1/0)"
      ],
      "metadata": {
        "id": "hJZ6E5sRUQY-"
      },
      "execution_count": null,
      "outputs": []
    },
    {
      "cell_type": "code",
      "source": [
        "#ví dụ \n",
        "10 * bien_chua_khai_bao / 5"
      ],
      "metadata": {
        "id": "T64IbwpvUYIF"
      },
      "execution_count": null,
      "outputs": []
    },
    {
      "cell_type": "code",
      "source": [
        "#ví dụ\n",
        "‘ba’ + 7 \n"
      ],
      "metadata": {
        "id": "ga98b41tUhvN"
      },
      "execution_count": null,
      "outputs": []
    },
    {
      "cell_type": "markdown",
      "source": [
        "***Phương pháp xử lý:*** \n",
        "Đối với lỗi cú pháp *(syntax error)*, chúng ta phải kiểm tra lại câu lệnh và sửa. Đối với lỗi ngoại lệ \n",
        "*(exception)* chúng ta phải xử lý và hạn chế bằng các cơ chế thông báo để tránh trường hợp \n",
        "chương trình bị kết thúc bất ngờ. "
      ],
      "metadata": {
        "id": "4NgAZKMlUrHs"
      }
    },
    {
      "cell_type": "markdown",
      "source": [
        "#Thực hành 3: Xử lý ngoại lệ với cơ chế try… except \n",
        "\n"
      ],
      "metadata": {
        "id": "jb9xr_oaU1Zv"
      }
    },
    {
      "cell_type": "code",
      "source": [
        "x = int(input('vui lòng nhập số: '))"
      ],
      "metadata": {
        "colab": {
          "base_uri": "https://localhost:8080/"
        },
        "id": "spAP-0vdU8Rm",
        "outputId": "d90ef78f-46eb-4b3a-e63c-65209c9259fc"
      },
      "execution_count": 7,
      "outputs": [
        {
          "name": "stdout",
          "output_type": "stream",
          "text": [
            "vui lòng nhập số: 1\n"
          ]
        }
      ]
    },
    {
      "cell_type": "markdown",
      "source": [
        "để xử lý lỗi trên ta dùng cơ chế try....except"
      ],
      "metadata": {
        "id": "5GVF3JE-VXC9"
      }
    },
    {
      "cell_type": "code",
      "source": [
        "while True:\n",
        "  try:\n",
        "    x = int(input('vui lòng nhập số: '))\n",
        "    break\n",
        "  except:\n",
        "    print('vui lòng nhập số, không nhập chữ')\n"
      ],
      "metadata": {
        "colab": {
          "base_uri": "https://localhost:8080/"
        },
        "id": "H65OYabTViA3",
        "outputId": "99d6f6ca-e9be-4986-80f1-c3558fe761bf"
      },
      "execution_count": 6,
      "outputs": [
        {
          "name": "stdout",
          "output_type": "stream",
          "text": [
            "vui lòng nhập số: 2\n"
          ]
        }
      ]
    },
    {
      "cell_type": "markdown",
      "source": [
        "như vậy ngoại lệ đã được khắc phục"
      ],
      "metadata": {
        "id": "PKaYoJRCWQS6"
      }
    },
    {
      "cell_type": "markdown",
      "source": [
        "#Thực hành 4: Xử lý ngoại lệ với cơ chế try… except… else… finally\n",
        "\n",
        "> Cơ chế else trong try except để thực hiện tiếp các lệnh trong try nếu không có lỗi/ngoại lệ xảy ra. \n",
        "Lưu ý 1: Nếu except mà không chỉ ra lỗi/ngoại lệ thì xem như bắt tất cả các lỗi và ngoại lệ. \n",
        "Lưu ý 2: Nếu có thêm finally thì để xử lý tiếp các câu lệnh còn lại. Thường là các thông báo để \n",
        "người sử dụng biết kết thúc một chương trình. \n",
        "\n",
        "\n"
      ],
      "metadata": {
        "id": "Skessfz3WlBa"
      }
    },
    {
      "cell_type": "code",
      "source": [
        "#ví dụ\n",
        "while True:\n",
        "  try:\n",
        "    x = int(input('vui lòng nhập số: '))\n",
        "  except:\n",
        "    print('số vừa nhập là sai')\n",
        "  else:\n",
        "    print(f'số vừa nhập là: {str(x)}')\n",
        "    break\n",
        "  finally:\n",
        "    print('đã hoàn thành chương trình')"
      ],
      "metadata": {
        "colab": {
          "base_uri": "https://localhost:8080/"
        },
        "id": "qg150KYaWqb2",
        "outputId": "c9afc8f6-a84b-4bc9-f878-950b67a929da"
      },
      "execution_count": 26,
      "outputs": [
        {
          "output_type": "stream",
          "name": "stdout",
          "text": [
            "vui lòng nhập số: h\n",
            "số vừa nhập là sai\n",
            "đã hoàn thành chương trình\n",
            "vui lòng nhập số: 5\n",
            "số vừa nhập là: 5\n",
            "đã hoàn thành chương trình\n"
          ]
        }
      ]
    },
    {
      "cell_type": "markdown",
      "source": [
        "#Thực hành 5: Tạo hàm phát sinh dãy số thực đều "
      ],
      "metadata": {
        "id": "FVlglCzuhcJe"
      }
    },
    {
      "cell_type": "code",
      "source": [
        "def frange(batdau,ketthuc,buoc):\n",
        "  ketqua = []\n",
        "  while batdau < ketthuc:\n",
        "    ketqua.append(batdau)\n",
        "    batdau = batdau + buoc\n",
        "  return ketqua"
      ],
      "metadata": {
        "id": "q_HOhZlXhgxk"
      },
      "execution_count": 9,
      "outputs": []
    },
    {
      "cell_type": "code",
      "source": [
        "tu0den1 = frange(0,1,0.1)\n",
        "tu0den1"
      ],
      "metadata": {
        "colab": {
          "base_uri": "https://localhost:8080/"
        },
        "id": "ZzVxZ6N3iDDT",
        "outputId": "88ee57e2-06af-417d-ace0-c63b96ec6508"
      },
      "execution_count": 10,
      "outputs": [
        {
          "output_type": "execute_result",
          "data": {
            "text/plain": [
              "[0,\n",
              " 0.1,\n",
              " 0.2,\n",
              " 0.30000000000000004,\n",
              " 0.4,\n",
              " 0.5,\n",
              " 0.6,\n",
              " 0.7,\n",
              " 0.7999999999999999,\n",
              " 0.8999999999999999,\n",
              " 0.9999999999999999]"
            ]
          },
          "metadata": {},
          "execution_count": 10
        }
      ]
    },
    {
      "cell_type": "code",
      "source": [
        "tu0den2 = frange(0,2,0.2)\n",
        "tu0den2"
      ],
      "metadata": {
        "id": "ef_ywgX_UxBY",
        "outputId": "1724e256-a614-486d-f2e9-5258c20a9ba7",
        "colab": {
          "base_uri": "https://localhost:8080/"
        }
      },
      "execution_count": 24,
      "outputs": [
        {
          "output_type": "execute_result",
          "data": {
            "text/plain": [
              "[0,\n",
              " 0.2,\n",
              " 0.4,\n",
              " 0.6000000000000001,\n",
              " 0.8,\n",
              " 1.0,\n",
              " 1.2,\n",
              " 1.4,\n",
              " 1.5999999999999999,\n",
              " 1.7999999999999998,\n",
              " 1.9999999999999998]"
            ]
          },
          "metadata": {},
          "execution_count": 24
        }
      ]
    },
    {
      "cell_type": "markdown",
      "source": [
        "#Thực hành 6: Vẽ quỹ đạo bay của vật được ném lên"
      ],
      "metadata": {
        "id": "tnTRfDoujHBj"
      }
    },
    {
      "cell_type": "markdown",
      "source": [
        "> **Phân đoạn 1:** Nhập các thư viện xử lý: \n",
        "\n",
        "\n",
        "\n",
        "\n"
      ],
      "metadata": {
        "id": "Mva56FiXjUsD"
      }
    },
    {
      "cell_type": "code",
      "source": [
        "import matplotlib.pyplot as plt\n",
        "import math"
      ],
      "metadata": {
        "id": "K8vf0sjjjKG-"
      },
      "execution_count": 11,
      "outputs": []
    },
    {
      "cell_type": "markdown",
      "source": [
        "\n",
        "\n",
        "> **Phân đoạn 2:** Xây dựng các hàm xử lý:\n",
        "\n"
      ],
      "metadata": {
        "id": "LuEFc1yWjkqi"
      }
    },
    {
      "cell_type": "code",
      "source": [
        "# + Hàm 1: Hàm vẽ đồ thị\n",
        "def ve_dt(x,y):\n",
        "  plt.plot(x,y)\n",
        "  plt.xlabel('Trục X')\n",
        "  plt.ylabel('Trục Y')\n",
        "  plt.title('Đồ thị bài toán ném quả bóng')"
      ],
      "metadata": {
        "id": "XCdKozN5jqbW"
      },
      "execution_count": 17,
      "outputs": []
    },
    {
      "cell_type": "code",
      "source": [
        "# + Hàm 2: Hàm xử lý về tạo các khoảng số thực đều nhau \n",
        "def frange(start,end,step):\n",
        "  num = []\n",
        "  while start < end:\n",
        "    num.append(start)\n",
        "    start = start + step \n",
        "  return num"
      ],
      "metadata": {
        "id": "MooQg91AkPds"
      },
      "execution_count": 13,
      "outputs": []
    },
    {
      "cell_type": "code",
      "source": [
        "# + Hàm 3: Hàm tính toán các dãy X và Y để vẽ đồ thị tương ứng với hàm đạn đạo:\n",
        "# Vẽ quỹ đạo \n",
        "def ve_quydao(u, theta): \n",
        "  # Gia tốc trọng trường\n",
        "  g = 9.8\n",
        "  # Góc bay\n",
        "  theta = math.radians(theta)\n",
        "  # Thời gian bay \n",
        "  tg_bay = 2*u*math.sin(theta)/g\n",
        "  # Tính toán khoảng cách thời gian\n",
        "  k_tg = frange(0,tg_bay,0.001)\n",
        "  # Danh sách tọa độ x và y\n",
        "  x = []\n",
        "  y = []\n",
        "  for t in k_tg:\n",
        "    x.append(u*math.cos(theta)*t)\n",
        "    y.append(u*math.sin(theta)*t-0.5*g*t*t)\n",
        "  ve_dt(x, y)"
      ],
      "metadata": {
        "id": "huGXr2Kjk1QC"
      },
      "execution_count": 42,
      "outputs": []
    },
    {
      "cell_type": "markdown",
      "source": [
        "\n",
        "\n",
        "> **phân đoạn 3:** Xây dựng hàm main\n",
        "\n"
      ],
      "metadata": {
        "id": "BzhPGHezTVFX"
      }
    },
    {
      "cell_type": "code",
      "source": [
        "if __name__ == \"__main__\":\n",
        "    try:\n",
        "      u = float(input(\"Nhập vào vận tốc ban đầu (m/s): \"))\n",
        "      theta = float(input(\"Nhập vào góc bay:\"))\n",
        "    except:\n",
        "      print(\"Nhập vào giá trị sai\")\n",
        "    else:\n",
        "      ve_quydao(u, theta)\n",
        "      plt.show()\n",
        "    finally:\n",
        "      print('Hoàn thành chương trình')"
      ],
      "metadata": {
        "id": "5LMnnuXGT1oi",
        "outputId": "7c6db1c3-5169-47fa-dae2-835f19e9a91c",
        "colab": {
          "base_uri": "https://localhost:8080/",
          "height": 348
        }
      },
      "execution_count": 43,
      "outputs": [
        {
          "name": "stdout",
          "output_type": "stream",
          "text": [
            "Nhập vào vận tốc ban đầu (m/s): 25\n",
            "Nhập vào góc bay:60\n"
          ]
        },
        {
          "output_type": "display_data",
          "data": {
            "image/png": "[encoded data removed]",
            "text/plain": [
              "<Figure size 432x288 with 1 Axes>"
            ]
          },
          "metadata": {
            "needs_background": "light"
          }
        },
        {
          "output_type": "stream",
          "name": "stdout",
          "text": [
            "Hoàn thành chương trình\n"
          ]
        }
      ]
    },
    {
      "cell_type": "markdown",
      "source": [
        "#**Thực hành 7:** Vẽ nhiều quỹ đạo trên cùng 1 đồ thị"
      ],
      "metadata": {
        "id": "xvoqqQmXavJ4"
      }
    },
    {
      "cell_type": "code",
      "source": [
        "if __name__ == \"__main__\":\n",
        "  #Danh sách các tốc độ và góc ban đầu khác nhau\n",
        "  ds_vt = [20,40,60]\n",
        "  goc_bd = 45 #45độ\n",
        "  for v in ds_vt:\n",
        "    ve_quydao(v, goc_bd)\n",
        "\n",
        "\n",
        "  #tạo chú dẫn trong đồ thị\n",
        "  chudan = []\n",
        "  for i in ds_vt:\n",
        "    chudan.append(str(i))\n",
        "  #xem chú dẫn được tạo\n",
        "  print('chú dẫn được tạo là: ')\n",
        "  print(chudan)\n",
        "  #thêm chú dẫn vào đồ thị\n",
        "  plt.legend(chudan)\n",
        "  #Hiiển thị đồ thị\n",
        "  plt.show()"
      ],
      "metadata": {
        "id": "HdrTPV-aayk0",
        "outputId": "75cc3dd6-2305-4dac-fbfb-86e0d8039b17",
        "colab": {
          "base_uri": "https://localhost:8080/",
          "height": 330
        }
      },
      "execution_count": 47,
      "outputs": [
        {
          "output_type": "stream",
          "name": "stdout",
          "text": [
            "chú dẫn được tạo là: \n",
            "['20', '40', '60']\n"
          ]
        },
        {
          "output_type": "display_data",
          "data": {
            "image/png": "[encoded data removed]",
            "text/plain": [
              "<Figure size 432x288 with 1 Axes>"
            ]
          },
          "metadata": {
            "needs_background": "light"
          }
        }
      ]
    },
    {
      "cell_type": "markdown",
      "source": [
        "#**Thực hành 8:** Xây dựng chương trình tính đạo hàm"
      ],
      "metadata": {
        "id": "Z5r435f9ds3l"
      }
    },
    {
      "cell_type": "code",
      "source": [
        "from sympy import *\n",
        "def tinh_daoham(ham_f, bien):\n",
        "  bien = Symbol(bien)\n",
        "  d = Derivative(ham_f, bien).doit()\n",
        "  pprint(d)"
      ],
      "metadata": {
        "id": "5g5NZXtXdvue"
      },
      "execution_count": 50,
      "outputs": []
    },
    {
      "cell_type": "code",
      "source": [
        "tinh_daoham('x**3+x**2+x','x')"
      ],
      "metadata": {
        "id": "vggGGuuUei1C",
        "outputId": "849a6394-6977-4a22-945e-4bb5280e6895",
        "colab": {
          "base_uri": "https://localhost:8080/"
        }
      },
      "execution_count": 51,
      "outputs": [
        {
          "output_type": "stream",
          "name": "stdout",
          "text": [
            "   2          \n",
            "3⋅x  + 2⋅x + 1\n"
          ]
        }
      ]
    },
    {
      "cell_type": "code",
      "source": [
        "tinh_daoham('x**3+x**2+1','x')"
      ],
      "metadata": {
        "id": "2ED2-ZJjey72",
        "outputId": "9d2b1e3b-823f-43bc-8c0b-bff23eb7c121",
        "colab": {
          "base_uri": "https://localhost:8080/"
        }
      },
      "execution_count": 57,
      "outputs": [
        {
          "output_type": "stream",
          "name": "stdout",
          "text": [
            "   2      \n",
            "3⋅x  + 2⋅x\n"
          ]
        }
      ]
    },
    {
      "cell_type": "code",
      "source": [
        "if __name__ == '__main__':\n",
        "  nhap_ham = input('Nhập một hàm số: ')\n",
        "  bien = input('Nhập vào một biến số: ')\n",
        "  try:\n",
        "    ham_sympy = sympify(nhap_ham)\n",
        "  except:\n",
        "    print('Hàm bị lỗi!')\n",
        "  else:\n",
        "    tinh_daoham(nhap_ham,bien)"
      ],
      "metadata": {
        "id": "YkkCQ_3vfq7S",
        "outputId": "41b0f845-f074-4ffd-a342-6f5b39a53406",
        "colab": {
          "base_uri": "https://localhost:8080/"
        }
      },
      "execution_count": 59,
      "outputs": [
        {
          "output_type": "stream",
          "name": "stdout",
          "text": [
            "Nhập một hàm số: sin(2*x)\n",
            "Nhập vào một biến số: x\n",
            "2⋅cos(2⋅x)\n"
          ]
        }
      ]
    },
    {
      "cell_type": "markdown",
      "source": [
        "#Thực hành 9: Vẽ đồ thị hàm R để thấy được khoảng cách bay của \"đạn\" theo góc bắn."
      ],
      "metadata": {
        "id": "9DdsM8gMggNm"
      }
    },
    {
      "cell_type": "code",
      "source": [
        "from sympy import *\n",
        "u = Symbol('u')\n",
        "theta = Symbol('theta')"
      ],
      "metadata": {
        "id": "pID45nR_gvXZ"
      },
      "execution_count": 62,
      "outputs": []
    },
    {
      "cell_type": "code",
      "source": [
        "u = 30.0\n",
        "g = 9.81\n",
        "r = (u**2)*sin(2.0*theta)/g\n",
        "r"
      ],
      "metadata": {
        "id": "mWjgfg_bhCt_",
        "outputId": "8b2d2626-0e04-4829-cc4d-ab3c99cb0ed1",
        "colab": {
          "base_uri": "https://localhost:8080/",
          "height": 39
        }
      },
      "execution_count": 63,
      "outputs": [
        {
          "output_type": "execute_result",
          "data": {
            "text/latex": "$\\displaystyle 91.743119266055 \\sin{\\left(2.0 \\theta \\right)}$",
            "text/plain": [
              "91.743119266055*sin(2.0*theta)"
            ]
          },
          "metadata": {},
          "execution_count": 63
        }
      ]
    },
    {
      "cell_type": "code",
      "source": [
        "plot(r,(theta,0,pi/2))"
      ],
      "metadata": {
        "id": "6-L7RaLwhQJX",
        "outputId": "9d2e447c-e7f3-4f38-9207-d7503c369512",
        "colab": {
          "base_uri": "https://localhost:8080/",
          "height": 314
        }
      },
      "execution_count": 64,
      "outputs": [
        {
          "output_type": "display_data",
          "data": {
            "image/png": "[encoded data removed]",
            "text/plain": [
              "<Figure size 432x288 with 1 Axes>"
            ]
          },
          "metadata": {
            "needs_background": "light"
          }
        },
        {
          "output_type": "execute_result",
          "data": {
            "text/plain": [
              "<sympy.plotting.plot.Plot at 0x7f2bb5881950>"
            ]
          },
          "metadata": {},
          "execution_count": 64
        }
      ]
    },
    {
      "cell_type": "markdown",
      "source": [
        "#**Thực hành 10:** Tìm giá trị cực đại của hàm bằng phương pháp Gradient Ascent "
      ],
      "metadata": {
        "id": "SlRIP1DziRsz"
      }
    },
    {
      "cell_type": "code",
      "source": [
        "import math\n",
        "from sympy import *"
      ],
      "metadata": {
        "id": "rJuYup-EiTbq"
      },
      "execution_count": 65,
      "outputs": []
    },
    {
      "cell_type": "code",
      "source": [
        "def grad_ascent(x0,f1x,x):\n",
        "  epsilon = 1e-6\n",
        "  step_size = 1e-4\n",
        "  x_cu = x0\n",
        "  x_moi = x_cu + step_size * f1x.subs({x : x_cu}).evalf()\n",
        "  while abs(x_cu - x_moi) > epsilon:\n",
        "    x_cu = x_moi\n",
        "    x_moi = x_cu + step_size * f1x.subs({x : x_cu}).evalf()\n",
        "  return x_moi"
      ],
      "metadata": {
        "id": "kK8fjsQdj7Z7"
      },
      "execution_count": 92,
      "outputs": []
    },
    {
      "cell_type": "code",
      "source": [
        "def tim_max_theta(R,theta):\n",
        "  R1theta = Derivative(R,theta).doit()\n",
        "  theta_0 = 1e-3\n",
        "  theta_max = grad_ascent(theta_0,R1theta,theta)\n",
        "  return theta_max"
      ],
      "metadata": {
        "id": "m3F9zzgnpbGx"
      },
      "execution_count": 91,
      "outputs": []
    },
    {
      "cell_type": "code",
      "source": [
        "g = 9.8\n",
        "u = 30\n",
        "theta = Symbol(\"theta\")\n",
        "R = (u**2)*sin(2*theta)/g"
      ],
      "metadata": {
        "id": "8NPQa9CSlHul"
      },
      "execution_count": 90,
      "outputs": []
    },
    {
      "cell_type": "code",
      "source": [
        "theta_max = tim_max_theta(R,theta)\n",
        "print(\"Goc theta: {0}\".format(math.degrees(theta_max)))"
      ],
      "metadata": {
        "id": "O5T4XrBfpBfI",
        "outputId": "e49b5d48-5282-4592-e229-3cb439b31f05",
        "colab": {
          "base_uri": "https://localhost:8080/"
        }
      },
      "execution_count": 93,
      "outputs": [
        {
          "output_type": "stream",
          "name": "stdout",
          "text": [
            "Goc theta: 44.99854431510696\n"
          ]
        }
      ]
    },
    {
      "cell_type": "code",
      "source": [
        "print(\"Khoang cach vat bay xa: {0}\".format(R.subs({theta:theta_max})))"
      ],
      "metadata": {
        "id": "B6KgRJUfpCkk",
        "outputId": "cf7cc096-9f9e-4b31-b298-d434a975012c",
        "colab": {
          "base_uri": "https://localhost:8080/"
        }
      },
      "execution_count": 94,
      "outputs": [
        {
          "output_type": "stream",
          "name": "stdout",
          "text": [
            "Khoang cach vat bay xa: 91.8367345753182\n"
          ]
        }
      ]
    }
  ]
}
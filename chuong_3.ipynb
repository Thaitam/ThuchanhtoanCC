{
  "nbformat": 4,
  "nbformat_minor": 0,
  "metadata": {
    "colab": {
      "name": "chuong_3.ipynb",
      "provenance": [],
      "collapsed_sections": [],
      "authorship_tag": "ABX9TyO3ixHwFTzJ/49c3VVJjYsZ",
      "include_colab_link": true
    },
    "kernelspec": {
      "name": "python3",
      "display_name": "Python 3"
    },
    "language_info": {
      "name": "python"
    }
  },
  "cells": [
    {
      "cell_type": "markdown",
      "metadata": {
        "id": "view-in-github",
        "colab_type": "text"
      },
      "source": [
        "<a href=\"https://colab.research.google.com/github/Thaitam/ThuchanhtoanCC/blob/main/chuong_3.ipynb\" target=\"_parent\"><img src=\"https://colab.research.google.com/assets/colab-badge.svg\" alt=\"Open In Colab\"/></a>"
      ]
    },
    {
      "cell_type": "markdown",
      "source": [
        "#Thực hành 1: Viết hàm từ dấu nhắc lệnh >>> của trình IDLE "
      ],
      "metadata": {
        "id": "SN16kADOSAgD"
      }
    },
    {
      "cell_type": "code",
      "execution_count": 27,
      "metadata": {
        "id": "nR-P50XSR8DR"
      },
      "outputs": [],
      "source": [
        "def luythua(x,n):\n",
        "  ketqua = 1\n",
        "  for i in range(n):\n",
        "    ketqua = ketqua*x\n",
        "  return ketqua"
      ]
    },
    {
      "cell_type": "code",
      "source": [
        "luythua(2,5)"
      ],
      "metadata": {
        "colab": {
          "base_uri": "https://localhost:8080/"
        },
        "id": "Adio0ARrSgGx",
        "outputId": "e6cffb71-55ab-4004-eea0-858438f15499"
      },
      "execution_count": 28,
      "outputs": [
        {
          "output_type": "execute_result",
          "data": {
            "text/plain": [
              "32"
            ]
          },
          "metadata": {},
          "execution_count": 28
        }
      ]
    },
    {
      "cell_type": "code",
      "source": [
        "luythua(2,0)"
      ],
      "metadata": {
        "colab": {
          "base_uri": "https://localhost:8080/"
        },
        "id": "gjnbztWFT3yV",
        "outputId": "8e6a66ea-b5c9-46f4-b3ec-5b5a94273669"
      },
      "execution_count": 29,
      "outputs": [
        {
          "output_type": "execute_result",
          "data": {
            "text/plain": [
              "1"
            ]
          },
          "metadata": {},
          "execution_count": 29
        }
      ]
    },
    {
      "cell_type": "markdown",
      "source": [
        "#Thực hành 2: Lỗi và cơ chế bắt lỗi trong Python "
      ],
      "metadata": {
        "id": "ZJEpbozFT69h"
      }
    },
    {
      "cell_type": "markdown",
      "source": [
        "Lỗi cú pháp (syntax errors). Ví dụ: viết dòng lệnh while thiếu dấu : hoặc điều kiện bằng \n",
        "trong dòng lệnh while phải là dấu “==” thay vì dấu “=”. "
      ],
      "metadata": {
        "id": "6nPu2z6SUCY1"
      }
    },
    {
      "cell_type": "code",
      "source": [
        "#ví dụ\n",
        "while 1 = 2"
      ],
      "metadata": {
        "colab": {
          "base_uri": "https://localhost:8080/",
          "height": 130
        },
        "id": "THDO9DoLT6sd",
        "outputId": "85d555c1-b833-47bd-d74c-e2529b8e15b6"
      },
      "execution_count": 30,
      "outputs": [
        {
          "output_type": "error",
          "ename": "SyntaxError",
          "evalue": "ignored",
          "traceback": [
            "\u001b[0;36m  File \u001b[0;32m\"<ipython-input-30-6845225acc94>\"\u001b[0;36m, line \u001b[0;32m2\u001b[0m\n\u001b[0;31m    while 1 = 2\u001b[0m\n\u001b[0m            ^\u001b[0m\n\u001b[0;31mSyntaxError\u001b[0m\u001b[0;31m:\u001b[0m invalid syntax\n"
          ]
        }
      ]
    },
    {
      "cell_type": "markdown",
      "source": [
        "Ngoại lệ (exceptions): Ví dụ: mở tập tin không tồn tại, thực hiện phép chia 0, thực hiện phép \n",
        "cộng (operand type for +) theo thứ tự số + chuỗi hoặc phép nối (concatenate) theo thứ tự \n",
        "chuỗi + số."
      ],
      "metadata": {
        "id": "mB3_YFUzUO9y"
      }
    },
    {
      "cell_type": "code",
      "source": [
        "#ví dụ\n",
        "10 * (1/0)"
      ],
      "metadata": {
        "colab": {
          "base_uri": "https://localhost:8080/",
          "height": 182
        },
        "id": "hJZ6E5sRUQY-",
        "outputId": "d584de4d-e91e-45bf-9389-89186eb31403"
      },
      "execution_count": 31,
      "outputs": [
        {
          "output_type": "error",
          "ename": "ZeroDivisionError",
          "evalue": "ignored",
          "traceback": [
            "\u001b[0;31m---------------------------------------------------------------------------\u001b[0m",
            "\u001b[0;31mZeroDivisionError\u001b[0m                         Traceback (most recent call last)",
            "\u001b[0;32m<ipython-input-31-ba81bd235860>\u001b[0m in \u001b[0;36m<module>\u001b[0;34m()\u001b[0m\n\u001b[1;32m      1\u001b[0m \u001b[0;31m#ví dụ\u001b[0m\u001b[0;34m\u001b[0m\u001b[0;34m\u001b[0m\u001b[0;34m\u001b[0m\u001b[0m\n\u001b[0;32m----> 2\u001b[0;31m \u001b[0;36m10\u001b[0m \u001b[0;34m*\u001b[0m \u001b[0;34m(\u001b[0m\u001b[0;36m1\u001b[0m\u001b[0;34m/\u001b[0m\u001b[0;36m0\u001b[0m\u001b[0;34m)\u001b[0m\u001b[0;34m\u001b[0m\u001b[0;34m\u001b[0m\u001b[0m\n\u001b[0m",
            "\u001b[0;31mZeroDivisionError\u001b[0m: division by zero"
          ]
        }
      ]
    },
    {
      "cell_type": "code",
      "source": [
        "#ví dụ \n",
        "10 * bien_chua_khai_bao / 5"
      ],
      "metadata": {
        "colab": {
          "base_uri": "https://localhost:8080/",
          "height": 182
        },
        "id": "T64IbwpvUYIF",
        "outputId": "e5fb2441-8529-4fca-f48d-762b052601f2"
      },
      "execution_count": 32,
      "outputs": [
        {
          "output_type": "error",
          "ename": "NameError",
          "evalue": "ignored",
          "traceback": [
            "\u001b[0;31m---------------------------------------------------------------------------\u001b[0m",
            "\u001b[0;31mNameError\u001b[0m                                 Traceback (most recent call last)",
            "\u001b[0;32m<ipython-input-32-9fb45ad616eb>\u001b[0m in \u001b[0;36m<module>\u001b[0;34m()\u001b[0m\n\u001b[1;32m      1\u001b[0m \u001b[0;31m#ví dụ\u001b[0m\u001b[0;34m\u001b[0m\u001b[0;34m\u001b[0m\u001b[0;34m\u001b[0m\u001b[0m\n\u001b[0;32m----> 2\u001b[0;31m \u001b[0;36m10\u001b[0m \u001b[0;34m*\u001b[0m \u001b[0mbien_chua_khai_bao\u001b[0m \u001b[0;34m/\u001b[0m \u001b[0;36m5\u001b[0m\u001b[0;34m\u001b[0m\u001b[0;34m\u001b[0m\u001b[0m\n\u001b[0m",
            "\u001b[0;31mNameError\u001b[0m: name 'bien_chua_khai_bao' is not defined"
          ]
        }
      ]
    },
    {
      "cell_type": "code",
      "source": [
        "#ví dụ\n",
        "‘ba’ + 7 \n"
      ],
      "metadata": {
        "colab": {
          "base_uri": "https://localhost:8080/",
          "height": 130
        },
        "id": "ga98b41tUhvN",
        "outputId": "e3eaa727-db71-4d6c-8474-37f430dcb3fb"
      },
      "execution_count": 33,
      "outputs": [
        {
          "output_type": "error",
          "ename": "SyntaxError",
          "evalue": "ignored",
          "traceback": [
            "\u001b[0;36m  File \u001b[0;32m\"<ipython-input-33-4d5d7dc92112>\"\u001b[0;36m, line \u001b[0;32m2\u001b[0m\n\u001b[0;31m    ‘ba’ + 7\u001b[0m\n\u001b[0m       ^\u001b[0m\n\u001b[0;31mSyntaxError\u001b[0m\u001b[0;31m:\u001b[0m invalid character in identifier\n"
          ]
        }
      ]
    },
    {
      "cell_type": "markdown",
      "source": [
        "***Phương pháp xử lý:*** \n",
        "Đối với lỗi cú pháp *(syntax error)*, chúng ta phải kiểm tra lại câu lệnh và sửa. Đối với lỗi ngoại lệ \n",
        "*(exception)* chúng ta phải xử lý và hạn chế bằng các cơ chế thông báo để tránh trường hợp \n",
        "chương trình bị kết thúc bất ngờ. "
      ],
      "metadata": {
        "id": "4NgAZKMlUrHs"
      }
    },
    {
      "cell_type": "markdown",
      "source": [
        "#Thực hành 3: Xử lý ngoại lệ với cơ chế try… except \n",
        "\n"
      ],
      "metadata": {
        "id": "jb9xr_oaU1Zv"
      }
    },
    {
      "cell_type": "code",
      "source": [
        "x = int(input('vui lòng nhập số: '))"
      ],
      "metadata": {
        "colab": {
          "base_uri": "https://localhost:8080/",
          "height": 182
        },
        "id": "spAP-0vdU8Rm",
        "outputId": "c5c107e9-6a84-4270-835e-6817af757200"
      },
      "execution_count": 37,
      "outputs": [
        {
          "name": "stdout",
          "output_type": "stream",
          "text": [
            "vui lòng nhập số: a\n"
          ]
        },
        {
          "output_type": "error",
          "ename": "ValueError",
          "evalue": "ignored",
          "traceback": [
            "\u001b[0;31m---------------------------------------------------------------------------\u001b[0m",
            "\u001b[0;31mValueError\u001b[0m                                Traceback (most recent call last)",
            "\u001b[0;32m<ipython-input-37-a273d30d41f5>\u001b[0m in \u001b[0;36m<module>\u001b[0;34m()\u001b[0m\n\u001b[0;32m----> 1\u001b[0;31m \u001b[0mx\u001b[0m \u001b[0;34m=\u001b[0m \u001b[0mint\u001b[0m\u001b[0;34m(\u001b[0m\u001b[0minput\u001b[0m\u001b[0;34m(\u001b[0m\u001b[0;34m'vui lòng nhập số: '\u001b[0m\u001b[0;34m)\u001b[0m\u001b[0;34m)\u001b[0m\u001b[0;34m\u001b[0m\u001b[0;34m\u001b[0m\u001b[0m\n\u001b[0m",
            "\u001b[0;31mValueError\u001b[0m: invalid literal for int() with base 10: 'a'"
          ]
        }
      ]
    },
    {
      "cell_type": "markdown",
      "source": [
        "để xử lý lỗi trên ta dùng cơ chế try....except"
      ],
      "metadata": {
        "id": "5GVF3JE-VXC9"
      }
    },
    {
      "cell_type": "code",
      "source": [
        "while True:\n",
        "  try:\n",
        "    x = int(input('vui lòng nhập số: '))\n",
        "    break\n",
        "  except:\n",
        "    print('vui lòng nhập số, không nhập chữ')\n"
      ],
      "metadata": {
        "colab": {
          "base_uri": "https://localhost:8080/"
        },
        "id": "H65OYabTViA3",
        "outputId": "91a7ecbd-237a-41e7-fea0-de73adf4a71b"
      },
      "execution_count": 42,
      "outputs": [
        {
          "name": "stdout",
          "output_type": "stream",
          "text": [
            "vui lòng nhập số: a\n",
            "vui lòng nhập số, không nhập chữ\n",
            "vui lòng nhập số: 1\n"
          ]
        }
      ]
    },
    {
      "cell_type": "markdown",
      "source": [
        "như vậy ngoại lệ đã được khắc phục"
      ],
      "metadata": {
        "id": "PKaYoJRCWQS6"
      }
    },
    {
      "cell_type": "markdown",
      "source": [
        "#Thực hành 4: Xử lý ngoại lệ với cơ chế try… except… else… finally\n",
        "\n",
        "> Cơ chế else trong try except để thực hiện tiếp các lệnh trong try nếu không có lỗi/ngoại lệ xảy ra. \n",
        "Lưu ý 1: Nếu except mà không chỉ ra lỗi/ngoại lệ thì xem như bắt tất cả các lỗi và ngoại lệ. \n",
        "Lưu ý 2: Nếu có thêm finally thì để xử lý tiếp các câu lệnh còn lại. Thường là các thông báo để \n",
        "người sử dụng biết kết thúc một chương trình. \n",
        "\n",
        "\n"
      ],
      "metadata": {
        "id": "Skessfz3WlBa"
      }
    },
    {
      "cell_type": "code",
      "source": [
        "#ví dụ\n",
        "while True:\n",
        "  try:\n",
        "    x = int(input('vui lòng nhập số: '))\n",
        "  except:\n",
        "    print('số vừa nhập là sai')\n",
        "  else:\n",
        "    print(f'số vừa nhập là {str(x)}')\n",
        "    break\n",
        "  finally:\n",
        "    print('đã hoàn thành chương trình')"
      ],
      "metadata": {
        "colab": {
          "base_uri": "https://localhost:8080/"
        },
        "id": "qg150KYaWqb2",
        "outputId": "60901887-44dc-44c9-ad63-54492293631a"
      },
      "execution_count": 44,
      "outputs": [
        {
          "output_type": "stream",
          "name": "stdout",
          "text": [
            "vui lòng nhập số: a\n",
            "số vừa nhập là sai\n",
            "đã hoàn thành chương trình\n",
            "vui lòng nhập số: 1\n",
            "số vừa nhập là 1\n",
            "đã hoàn thành chương trình\n"
          ]
        }
      ]
    }
  ]
}